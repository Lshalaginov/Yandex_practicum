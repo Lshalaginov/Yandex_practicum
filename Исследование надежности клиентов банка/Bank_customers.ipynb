{
 "cells": [
  {
   "cell_type": "markdown",
   "id": "386f2ae7",
   "metadata": {
    "deletable": false,
    "editable": false,
    "id": "386f2ae7"
   },
   "source": [
    "# Исследование надежности заемщиков\n"
   ]
  },
  {
   "cell_type": "markdown",
   "id": "ffe86f65",
   "metadata": {
    "id": "ffe86f65"
   },
   "source": [
    "Заказчик — кредитный отдел банка. Нужно разобраться, влияет ли семейное положение и количество детей клиента на факт погашения кредита в срок. Входные данные от банка — статистика о платёжеспособности клиентов.<br>\n",
    "Результаты исследования будут учтены при построении модели кредитного скоринга — специальной системы, которая оценивает способность потенциального заёмщика вернуть кредит банку.\n"
   ]
  },
  {
   "cell_type": "markdown",
   "id": "26613308",
   "metadata": {
    "id": "26613308"
   },
   "source": [
    "## Обзор данных\n"
   ]
  },
  {
   "cell_type": "markdown",
   "id": "3c9f838e",
   "metadata": {
    "id": "3c9f838e"
   },
   "source": [
    "Импорти библиотеки pandas. Открытие данных из csv-файла в датафрейм и сохранение в переменную `data`. "
   ]
  },
  {
   "cell_type": "code",
   "execution_count": 1,
   "id": "77a68a90",
   "metadata": {
    "deletable": false,
    "id": "77a68a90"
   },
   "outputs": [],
   "source": [
    "import pandas as pd\n",
    "\n",
    "data = pd.read_csv('/datasets/data.csv')\n"
   ]
  },
  {
   "cell_type": "code",
   "execution_count": 28,
   "id": "b0451a9a",
   "metadata": {
    "deletable": false,
    "id": "b0451a9a",
    "outputId": "1a8f3ef2-d323-4ec2-ddf7-89670b5944c4"
   },
   "outputs": [
    {
     "data": {
      "text/html": [
       "<div>\n",
       "<style scoped>\n",
       "    .dataframe tbody tr th:only-of-type {\n",
       "        vertical-align: middle;\n",
       "    }\n",
       "\n",
       "    .dataframe tbody tr th {\n",
       "        vertical-align: top;\n",
       "    }\n",
       "\n",
       "    .dataframe thead th {\n",
       "        text-align: right;\n",
       "    }\n",
       "</style>\n",
       "<table border=\"1\" class=\"dataframe\">\n",
       "  <thead>\n",
       "    <tr style=\"text-align: right;\">\n",
       "      <th></th>\n",
       "      <th>children</th>\n",
       "      <th>days_employed</th>\n",
       "      <th>dob_years</th>\n",
       "      <th>education</th>\n",
       "      <th>education_id</th>\n",
       "      <th>family_status</th>\n",
       "      <th>family_status_id</th>\n",
       "      <th>gender</th>\n",
       "      <th>income_type</th>\n",
       "      <th>debt</th>\n",
       "      <th>total_income</th>\n",
       "      <th>purpose</th>\n",
       "      <th>total_income_category</th>\n",
       "      <th>purpose_category</th>\n",
       "    </tr>\n",
       "  </thead>\n",
       "  <tbody>\n",
       "    <tr>\n",
       "      <th>0</th>\n",
       "      <td>1</td>\n",
       "      <td>8437.673028</td>\n",
       "      <td>42</td>\n",
       "      <td>высшее</td>\n",
       "      <td>0</td>\n",
       "      <td>женат / замужем</td>\n",
       "      <td>0</td>\n",
       "      <td>F</td>\n",
       "      <td>сотрудник</td>\n",
       "      <td>0</td>\n",
       "      <td>253875</td>\n",
       "      <td>покупка жилья</td>\n",
       "      <td>B</td>\n",
       "      <td>операции с недвижимостью</td>\n",
       "    </tr>\n",
       "    <tr>\n",
       "      <th>1</th>\n",
       "      <td>1</td>\n",
       "      <td>4024.803754</td>\n",
       "      <td>36</td>\n",
       "      <td>среднее</td>\n",
       "      <td>1</td>\n",
       "      <td>женат / замужем</td>\n",
       "      <td>0</td>\n",
       "      <td>F</td>\n",
       "      <td>сотрудник</td>\n",
       "      <td>0</td>\n",
       "      <td>112080</td>\n",
       "      <td>приобретение автомобиля</td>\n",
       "      <td>C</td>\n",
       "      <td>операции с автомобилем</td>\n",
       "    </tr>\n",
       "    <tr>\n",
       "      <th>2</th>\n",
       "      <td>0</td>\n",
       "      <td>5623.422610</td>\n",
       "      <td>33</td>\n",
       "      <td>среднее</td>\n",
       "      <td>1</td>\n",
       "      <td>женат / замужем</td>\n",
       "      <td>0</td>\n",
       "      <td>M</td>\n",
       "      <td>сотрудник</td>\n",
       "      <td>0</td>\n",
       "      <td>145885</td>\n",
       "      <td>покупка жилья</td>\n",
       "      <td>C</td>\n",
       "      <td>операции с недвижимостью</td>\n",
       "    </tr>\n",
       "    <tr>\n",
       "      <th>3</th>\n",
       "      <td>3</td>\n",
       "      <td>4124.747207</td>\n",
       "      <td>32</td>\n",
       "      <td>среднее</td>\n",
       "      <td>1</td>\n",
       "      <td>женат / замужем</td>\n",
       "      <td>0</td>\n",
       "      <td>M</td>\n",
       "      <td>сотрудник</td>\n",
       "      <td>0</td>\n",
       "      <td>267628</td>\n",
       "      <td>дополнительное образование</td>\n",
       "      <td>B</td>\n",
       "      <td>получение образования</td>\n",
       "    </tr>\n",
       "    <tr>\n",
       "      <th>4</th>\n",
       "      <td>0</td>\n",
       "      <td>340266.072047</td>\n",
       "      <td>53</td>\n",
       "      <td>среднее</td>\n",
       "      <td>1</td>\n",
       "      <td>гражданский брак</td>\n",
       "      <td>1</td>\n",
       "      <td>F</td>\n",
       "      <td>пенсионер</td>\n",
       "      <td>0</td>\n",
       "      <td>158616</td>\n",
       "      <td>сыграть свадьбу</td>\n",
       "      <td>C</td>\n",
       "      <td>проведение свадьбы</td>\n",
       "    </tr>\n",
       "    <tr>\n",
       "      <th>5</th>\n",
       "      <td>0</td>\n",
       "      <td>926.185831</td>\n",
       "      <td>27</td>\n",
       "      <td>высшее</td>\n",
       "      <td>0</td>\n",
       "      <td>гражданский брак</td>\n",
       "      <td>1</td>\n",
       "      <td>M</td>\n",
       "      <td>компаньон</td>\n",
       "      <td>0</td>\n",
       "      <td>255763</td>\n",
       "      <td>покупка жилья</td>\n",
       "      <td>B</td>\n",
       "      <td>операции с недвижимостью</td>\n",
       "    </tr>\n",
       "    <tr>\n",
       "      <th>6</th>\n",
       "      <td>0</td>\n",
       "      <td>2879.202052</td>\n",
       "      <td>43</td>\n",
       "      <td>высшее</td>\n",
       "      <td>0</td>\n",
       "      <td>женат / замужем</td>\n",
       "      <td>0</td>\n",
       "      <td>F</td>\n",
       "      <td>компаньон</td>\n",
       "      <td>0</td>\n",
       "      <td>240525</td>\n",
       "      <td>операции с жильем</td>\n",
       "      <td>B</td>\n",
       "      <td>операции с недвижимостью</td>\n",
       "    </tr>\n",
       "    <tr>\n",
       "      <th>7</th>\n",
       "      <td>0</td>\n",
       "      <td>152.779569</td>\n",
       "      <td>50</td>\n",
       "      <td>среднее</td>\n",
       "      <td>1</td>\n",
       "      <td>женат / замужем</td>\n",
       "      <td>0</td>\n",
       "      <td>M</td>\n",
       "      <td>сотрудник</td>\n",
       "      <td>0</td>\n",
       "      <td>135823</td>\n",
       "      <td>образование</td>\n",
       "      <td>C</td>\n",
       "      <td>получение образования</td>\n",
       "    </tr>\n",
       "    <tr>\n",
       "      <th>8</th>\n",
       "      <td>2</td>\n",
       "      <td>6929.865299</td>\n",
       "      <td>35</td>\n",
       "      <td>высшее</td>\n",
       "      <td>0</td>\n",
       "      <td>гражданский брак</td>\n",
       "      <td>1</td>\n",
       "      <td>F</td>\n",
       "      <td>сотрудник</td>\n",
       "      <td>0</td>\n",
       "      <td>95856</td>\n",
       "      <td>на проведение свадьбы</td>\n",
       "      <td>C</td>\n",
       "      <td>проведение свадьбы</td>\n",
       "    </tr>\n",
       "    <tr>\n",
       "      <th>9</th>\n",
       "      <td>0</td>\n",
       "      <td>2188.756445</td>\n",
       "      <td>41</td>\n",
       "      <td>среднее</td>\n",
       "      <td>1</td>\n",
       "      <td>женат / замужем</td>\n",
       "      <td>0</td>\n",
       "      <td>M</td>\n",
       "      <td>сотрудник</td>\n",
       "      <td>0</td>\n",
       "      <td>144425</td>\n",
       "      <td>покупка жилья для семьи</td>\n",
       "      <td>C</td>\n",
       "      <td>операции с недвижимостью</td>\n",
       "    </tr>\n",
       "    <tr>\n",
       "      <th>10</th>\n",
       "      <td>2</td>\n",
       "      <td>4171.483647</td>\n",
       "      <td>36</td>\n",
       "      <td>высшее</td>\n",
       "      <td>0</td>\n",
       "      <td>женат / замужем</td>\n",
       "      <td>0</td>\n",
       "      <td>M</td>\n",
       "      <td>компаньон</td>\n",
       "      <td>0</td>\n",
       "      <td>113943</td>\n",
       "      <td>покупка недвижимости</td>\n",
       "      <td>C</td>\n",
       "      <td>операции с недвижимостью</td>\n",
       "    </tr>\n",
       "    <tr>\n",
       "      <th>11</th>\n",
       "      <td>0</td>\n",
       "      <td>792.701887</td>\n",
       "      <td>40</td>\n",
       "      <td>среднее</td>\n",
       "      <td>1</td>\n",
       "      <td>женат / замужем</td>\n",
       "      <td>0</td>\n",
       "      <td>F</td>\n",
       "      <td>сотрудник</td>\n",
       "      <td>0</td>\n",
       "      <td>77069</td>\n",
       "      <td>покупка коммерческой недвижимости</td>\n",
       "      <td>C</td>\n",
       "      <td>операции с недвижимостью</td>\n",
       "    </tr>\n",
       "    <tr>\n",
       "      <th>12</th>\n",
       "      <td>0</td>\n",
       "      <td>365286.622650</td>\n",
       "      <td>65</td>\n",
       "      <td>среднее</td>\n",
       "      <td>1</td>\n",
       "      <td>гражданский брак</td>\n",
       "      <td>1</td>\n",
       "      <td>M</td>\n",
       "      <td>пенсионер</td>\n",
       "      <td>0</td>\n",
       "      <td>118514</td>\n",
       "      <td>сыграть свадьбу</td>\n",
       "      <td>C</td>\n",
       "      <td>проведение свадьбы</td>\n",
       "    </tr>\n",
       "    <tr>\n",
       "      <th>13</th>\n",
       "      <td>0</td>\n",
       "      <td>1846.641941</td>\n",
       "      <td>54</td>\n",
       "      <td>неоконченное высшее</td>\n",
       "      <td>2</td>\n",
       "      <td>женат / замужем</td>\n",
       "      <td>0</td>\n",
       "      <td>F</td>\n",
       "      <td>сотрудник</td>\n",
       "      <td>0</td>\n",
       "      <td>130458</td>\n",
       "      <td>приобретение автомобиля</td>\n",
       "      <td>C</td>\n",
       "      <td>операции с автомобилем</td>\n",
       "    </tr>\n",
       "    <tr>\n",
       "      <th>14</th>\n",
       "      <td>0</td>\n",
       "      <td>1844.956182</td>\n",
       "      <td>56</td>\n",
       "      <td>высшее</td>\n",
       "      <td>0</td>\n",
       "      <td>гражданский брак</td>\n",
       "      <td>1</td>\n",
       "      <td>F</td>\n",
       "      <td>компаньон</td>\n",
       "      <td>1</td>\n",
       "      <td>165127</td>\n",
       "      <td>покупка жилой недвижимости</td>\n",
       "      <td>C</td>\n",
       "      <td>операции с недвижимостью</td>\n",
       "    </tr>\n",
       "    <tr>\n",
       "      <th>15</th>\n",
       "      <td>1</td>\n",
       "      <td>972.364419</td>\n",
       "      <td>26</td>\n",
       "      <td>среднее</td>\n",
       "      <td>1</td>\n",
       "      <td>женат / замужем</td>\n",
       "      <td>0</td>\n",
       "      <td>F</td>\n",
       "      <td>сотрудник</td>\n",
       "      <td>0</td>\n",
       "      <td>116820</td>\n",
       "      <td>строительство собственной недвижимости</td>\n",
       "      <td>C</td>\n",
       "      <td>операции с недвижимостью</td>\n",
       "    </tr>\n",
       "    <tr>\n",
       "      <th>16</th>\n",
       "      <td>0</td>\n",
       "      <td>1719.934226</td>\n",
       "      <td>35</td>\n",
       "      <td>среднее</td>\n",
       "      <td>1</td>\n",
       "      <td>женат / замужем</td>\n",
       "      <td>0</td>\n",
       "      <td>F</td>\n",
       "      <td>сотрудник</td>\n",
       "      <td>0</td>\n",
       "      <td>289202</td>\n",
       "      <td>недвижимость</td>\n",
       "      <td>B</td>\n",
       "      <td>операции с недвижимостью</td>\n",
       "    </tr>\n",
       "    <tr>\n",
       "      <th>17</th>\n",
       "      <td>0</td>\n",
       "      <td>2369.999720</td>\n",
       "      <td>33</td>\n",
       "      <td>высшее</td>\n",
       "      <td>0</td>\n",
       "      <td>гражданский брак</td>\n",
       "      <td>1</td>\n",
       "      <td>M</td>\n",
       "      <td>сотрудник</td>\n",
       "      <td>0</td>\n",
       "      <td>90410</td>\n",
       "      <td>строительство недвижимости</td>\n",
       "      <td>C</td>\n",
       "      <td>операции с недвижимостью</td>\n",
       "    </tr>\n",
       "    <tr>\n",
       "      <th>18</th>\n",
       "      <td>0</td>\n",
       "      <td>400281.136913</td>\n",
       "      <td>53</td>\n",
       "      <td>среднее</td>\n",
       "      <td>1</td>\n",
       "      <td>вдовец / вдова</td>\n",
       "      <td>2</td>\n",
       "      <td>F</td>\n",
       "      <td>пенсионер</td>\n",
       "      <td>0</td>\n",
       "      <td>56823</td>\n",
       "      <td>на покупку подержанного автомобиля</td>\n",
       "      <td>C</td>\n",
       "      <td>операции с автомобилем</td>\n",
       "    </tr>\n",
       "    <tr>\n",
       "      <th>19</th>\n",
       "      <td>0</td>\n",
       "      <td>10038.818549</td>\n",
       "      <td>48</td>\n",
       "      <td>среднее</td>\n",
       "      <td>1</td>\n",
       "      <td>в разводе</td>\n",
       "      <td>3</td>\n",
       "      <td>F</td>\n",
       "      <td>сотрудник</td>\n",
       "      <td>0</td>\n",
       "      <td>242831</td>\n",
       "      <td>на покупку своего автомобиля</td>\n",
       "      <td>B</td>\n",
       "      <td>операции с автомобилем</td>\n",
       "    </tr>\n",
       "  </tbody>\n",
       "</table>\n",
       "</div>"
      ],
      "text/plain": [
       "    children  days_employed  dob_years            education  education_id  \\\n",
       "0          1    8437.673028         42               высшее             0   \n",
       "1          1    4024.803754         36              среднее             1   \n",
       "2          0    5623.422610         33              среднее             1   \n",
       "3          3    4124.747207         32              среднее             1   \n",
       "4          0  340266.072047         53              среднее             1   \n",
       "5          0     926.185831         27               высшее             0   \n",
       "6          0    2879.202052         43               высшее             0   \n",
       "7          0     152.779569         50              среднее             1   \n",
       "8          2    6929.865299         35               высшее             0   \n",
       "9          0    2188.756445         41              среднее             1   \n",
       "10         2    4171.483647         36               высшее             0   \n",
       "11         0     792.701887         40              среднее             1   \n",
       "12         0  365286.622650         65              среднее             1   \n",
       "13         0    1846.641941         54  неоконченное высшее             2   \n",
       "14         0    1844.956182         56               высшее             0   \n",
       "15         1     972.364419         26              среднее             1   \n",
       "16         0    1719.934226         35              среднее             1   \n",
       "17         0    2369.999720         33               высшее             0   \n",
       "18         0  400281.136913         53              среднее             1   \n",
       "19         0   10038.818549         48              среднее             1   \n",
       "\n",
       "       family_status  family_status_id gender income_type  debt  total_income  \\\n",
       "0    женат / замужем                 0      F   сотрудник     0        253875   \n",
       "1    женат / замужем                 0      F   сотрудник     0        112080   \n",
       "2    женат / замужем                 0      M   сотрудник     0        145885   \n",
       "3    женат / замужем                 0      M   сотрудник     0        267628   \n",
       "4   гражданский брак                 1      F   пенсионер     0        158616   \n",
       "5   гражданский брак                 1      M   компаньон     0        255763   \n",
       "6    женат / замужем                 0      F   компаньон     0        240525   \n",
       "7    женат / замужем                 0      M   сотрудник     0        135823   \n",
       "8   гражданский брак                 1      F   сотрудник     0         95856   \n",
       "9    женат / замужем                 0      M   сотрудник     0        144425   \n",
       "10   женат / замужем                 0      M   компаньон     0        113943   \n",
       "11   женат / замужем                 0      F   сотрудник     0         77069   \n",
       "12  гражданский брак                 1      M   пенсионер     0        118514   \n",
       "13   женат / замужем                 0      F   сотрудник     0        130458   \n",
       "14  гражданский брак                 1      F   компаньон     1        165127   \n",
       "15   женат / замужем                 0      F   сотрудник     0        116820   \n",
       "16   женат / замужем                 0      F   сотрудник     0        289202   \n",
       "17  гражданский брак                 1      M   сотрудник     0         90410   \n",
       "18    вдовец / вдова                 2      F   пенсионер     0         56823   \n",
       "19         в разводе                 3      F   сотрудник     0        242831   \n",
       "\n",
       "                                   purpose total_income_category  \\\n",
       "0                            покупка жилья                     B   \n",
       "1                  приобретение автомобиля                     C   \n",
       "2                            покупка жилья                     C   \n",
       "3               дополнительное образование                     B   \n",
       "4                          сыграть свадьбу                     C   \n",
       "5                            покупка жилья                     B   \n",
       "6                        операции с жильем                     B   \n",
       "7                              образование                     C   \n",
       "8                    на проведение свадьбы                     C   \n",
       "9                  покупка жилья для семьи                     C   \n",
       "10                    покупка недвижимости                     C   \n",
       "11       покупка коммерческой недвижимости                     C   \n",
       "12                         сыграть свадьбу                     C   \n",
       "13                 приобретение автомобиля                     C   \n",
       "14              покупка жилой недвижимости                     C   \n",
       "15  строительство собственной недвижимости                     C   \n",
       "16                            недвижимость                     B   \n",
       "17              строительство недвижимости                     C   \n",
       "18      на покупку подержанного автомобиля                     C   \n",
       "19            на покупку своего автомобиля                     B   \n",
       "\n",
       "            purpose_category  \n",
       "0   операции с недвижимостью  \n",
       "1     операции с автомобилем  \n",
       "2   операции с недвижимостью  \n",
       "3      получение образования  \n",
       "4         проведение свадьбы  \n",
       "5   операции с недвижимостью  \n",
       "6   операции с недвижимостью  \n",
       "7      получение образования  \n",
       "8         проведение свадьбы  \n",
       "9   операции с недвижимостью  \n",
       "10  операции с недвижимостью  \n",
       "11  операции с недвижимостью  \n",
       "12        проведение свадьбы  \n",
       "13    операции с автомобилем  \n",
       "14  операции с недвижимостью  \n",
       "15  операции с недвижимостью  \n",
       "16  операции с недвижимостью  \n",
       "17  операции с недвижимостью  \n",
       "18    операции с автомобилем  \n",
       "19    операции с автомобилем  "
      ]
     },
     "execution_count": 28,
     "metadata": {},
     "output_type": "execute_result"
    }
   ],
   "source": [
    "#Вывод первых 20 строчек на экран\n",
    "data.head(20)"
   ]
  },
  {
   "cell_type": "code",
   "execution_count": 29,
   "id": "ab3f863b",
   "metadata": {
    "deletable": false,
    "id": "ab3f863b",
    "outputId": "15376089-8dad-46c9-b520-c05248d43158"
   },
   "outputs": [
    {
     "name": "stdout",
     "output_type": "stream",
     "text": [
      "<class 'pandas.core.frame.DataFrame'>\n",
      "Int64Index: 21331 entries, 0 to 21524\n",
      "Data columns (total 14 columns):\n",
      " #   Column                 Non-Null Count  Dtype  \n",
      "---  ------                 --------------  -----  \n",
      " 0   children               21331 non-null  int64  \n",
      " 1   days_employed          21331 non-null  float64\n",
      " 2   dob_years              21331 non-null  int64  \n",
      " 3   education              21331 non-null  object \n",
      " 4   education_id           21331 non-null  int64  \n",
      " 5   family_status          21331 non-null  object \n",
      " 6   family_status_id       21331 non-null  int64  \n",
      " 7   gender                 21331 non-null  object \n",
      " 8   income_type            21331 non-null  object \n",
      " 9   debt                   21331 non-null  int64  \n",
      " 10  total_income           21331 non-null  int32  \n",
      " 11  purpose                21331 non-null  object \n",
      " 12  total_income_category  21331 non-null  object \n",
      " 13  purpose_category       21331 non-null  object \n",
      "dtypes: float64(1), int32(1), int64(5), object(7)\n",
      "memory usage: 2.4+ MB\n"
     ]
    }
   ],
   "source": [
    "#Вывод основной информации о датафрейме\n",
    "data.info()"
   ]
  },
  {
   "cell_type": "markdown",
   "id": "60e3e22d",
   "metadata": {
    "id": "60e3e22d"
   },
   "source": [
    "## Предобработка данных"
   ]
  },
  {
   "cell_type": "markdown",
   "id": "03dc170c",
   "metadata": {
    "id": "03dc170c"
   },
   "source": [
    "### Удаление пропусков"
   ]
  },
  {
   "cell_type": "code",
   "execution_count": 30,
   "id": "2dc372b2",
   "metadata": {
    "deletable": false,
    "id": "2dc372b2",
    "outputId": "81f4d817-781c-465c-ed15-91ce4446810d"
   },
   "outputs": [
    {
     "data": {
      "text/plain": [
       "children                 0\n",
       "days_employed            0\n",
       "dob_years                0\n",
       "education                0\n",
       "education_id             0\n",
       "family_status            0\n",
       "family_status_id         0\n",
       "gender                   0\n",
       "income_type              0\n",
       "debt                     0\n",
       "total_income             0\n",
       "purpose                  0\n",
       "total_income_category    0\n",
       "purpose_category         0\n",
       "dtype: int64"
      ]
     },
     "execution_count": 30,
     "metadata": {},
     "output_type": "execute_result"
    }
   ],
   "source": [
    "#Вывод количество пропущенных значений для каждого столбца\n",
    "data.isna().sum()"
   ]
  },
  {
   "cell_type": "markdown",
   "id": "14f011b1",
   "metadata": {
    "id": "14f011b1"
   },
   "source": [
    "В двух столбцах есть пропущенные значения. Один из них — `days_employed`. Другой столбец с пропущенными значениями — `total_income` — хранит данные о доходах. На сумму дохода сильнее всего влияет тип занятости, поэтому заполнить пропуски в этом столбце нужно медианным значением по каждому типу из столбца `income_type`. "
   ]
  },
  {
   "cell_type": "code",
   "execution_count": 5,
   "id": "bdabfb6e",
   "metadata": {
    "deletable": false,
    "id": "bdabfb6e"
   },
   "outputs": [],
   "source": [
    "for t in data['income_type'].unique():\n",
    "    data.loc[(data['income_type'] == t) & (data['total_income'].isna()), 'total_income'] = \\\n",
    "    data.loc[(data['income_type'] == t), 'total_income'].median()"
   ]
  },
  {
   "cell_type": "markdown",
   "id": "5be34059",
   "metadata": {
    "id": "5be34059"
   },
   "source": [
    "### Обработка аномальных значений"
   ]
  },
  {
   "cell_type": "code",
   "execution_count": 6,
   "id": "020c46cc",
   "metadata": {
    "deletable": false,
    "id": "020c46cc"
   },
   "outputs": [],
   "source": [
    "data['days_employed'] = data['days_employed'].abs()"
   ]
  },
  {
   "cell_type": "code",
   "execution_count": 31,
   "id": "cd3e6328",
   "metadata": {
    "deletable": false,
    "id": "cd3e6328",
    "outputId": "801ef80e-522b-4668-f34e-565af7432bcf"
   },
   "outputs": [
    {
     "data": {
      "text/plain": [
       "income_type\n",
       "безработный        366413.652744\n",
       "в декрете            3296.759962\n",
       "госслужащий          2689.137274\n",
       "компаньон            1555.947387\n",
       "пенсионер          365286.622650\n",
       "предприниматель       520.848083\n",
       "сотрудник            1572.328285\n",
       "студент               578.751554\n",
       "Name: days_employed, dtype: float64"
      ]
     },
     "execution_count": 31,
     "metadata": {},
     "output_type": "execute_result"
    }
   ],
   "source": [
    "#Вывод медианного значения трудового стажа в днях\n",
    "data.groupby('income_type')['days_employed'].agg('median')"
   ]
  },
  {
   "cell_type": "markdown",
   "id": "90c5f058",
   "metadata": {
    "id": "90c5f058"
   },
   "source": [
    "У двух типов (безработные и пенсионеры) получатся аномально большие значения. Исправить такие значения сложно, поэтому оставим их как есть."
   ]
  },
  {
   "cell_type": "code",
   "execution_count": 8,
   "id": "dbb37b8e",
   "metadata": {
    "deletable": false,
    "id": "dbb37b8e",
    "outputId": "6975b15c-7f95-4697-d16d-a0c79b657b03"
   },
   "outputs": [
    {
     "data": {
      "text/plain": [
       "array([ 1,  0,  3,  2, -1,  4, 20,  5], dtype=int64)"
      ]
     },
     "execution_count": 8,
     "metadata": {},
     "output_type": "execute_result"
    }
   ],
   "source": [
    "data['children'].unique()"
   ]
  },
  {
   "cell_type": "markdown",
   "id": "2b8b0715",
   "metadata": {
    "id": "2b8b0715"
   },
   "source": [
    "В столбце `children` есть два аномальных значения. Удалим строки, в которых встречаются такие аномальные значения из датафрейма `data`.**"
   ]
  },
  {
   "cell_type": "code",
   "execution_count": 32,
   "id": "20009df8",
   "metadata": {
    "deletable": false,
    "id": "20009df8"
   },
   "outputs": [],
   "source": [
    "data = data[(data['children'] != -1) & (data['children'] != 20)]"
   ]
  },
  {
   "cell_type": "code",
   "execution_count": 33,
   "id": "07337b81",
   "metadata": {
    "deletable": false,
    "id": "07337b81",
    "outputId": "b2097101-d49d-44d9-901b-32a65c9463d1"
   },
   "outputs": [
    {
     "data": {
      "text/plain": [
       "array([1, 0, 3, 2, 4, 5], dtype=int64)"
      ]
     },
     "execution_count": 33,
     "metadata": {},
     "output_type": "execute_result"
    }
   ],
   "source": [
    "data['children'].unique()"
   ]
  },
  {
   "cell_type": "markdown",
   "id": "ee3f52d4",
   "metadata": {
    "id": "ee3f52d4"
   },
   "source": [
    "### Удаление пропусков (продолжение)"
   ]
  },
  {
   "cell_type": "markdown",
   "id": "a700b0e4",
   "metadata": {
    "id": "a700b0e4"
   },
   "source": [
    "Заполним пропуски в столбце `days_employed` медианными значениями по каждого типа занятости `income_type`.**"
   ]
  },
  {
   "cell_type": "code",
   "execution_count": 34,
   "id": "61946b83",
   "metadata": {
    "deletable": false,
    "id": "61946b83"
   },
   "outputs": [],
   "source": [
    "for t in data['income_type'].unique():\n",
    "    data.loc[(data['income_type'] == t) & (data['days_employed'].isna()), 'days_employed'] = \\\n",
    "    data.loc[(data['income_type'] == t), 'days_employed'].median()"
   ]
  },
  {
   "cell_type": "code",
   "execution_count": 35,
   "id": "937c7014",
   "metadata": {
    "deletable": false,
    "id": "937c7014",
    "outputId": "8da1e4e1-358e-4e87-98c9-f261bce0a7b2"
   },
   "outputs": [
    {
     "data": {
      "text/plain": [
       "children                 0\n",
       "days_employed            0\n",
       "dob_years                0\n",
       "education                0\n",
       "education_id             0\n",
       "family_status            0\n",
       "family_status_id         0\n",
       "gender                   0\n",
       "income_type              0\n",
       "debt                     0\n",
       "total_income             0\n",
       "purpose                  0\n",
       "total_income_category    0\n",
       "purpose_category         0\n",
       "dtype: int64"
      ]
     },
     "execution_count": 35,
     "metadata": {},
     "output_type": "execute_result"
    }
   ],
   "source": [
    "data.isna().sum()"
   ]
  },
  {
   "cell_type": "markdown",
   "id": "d522e295",
   "metadata": {
    "id": "d522e295"
   },
   "source": [
    "### Изменение типов данных"
   ]
  },
  {
   "cell_type": "markdown",
   "id": "c229c581",
   "metadata": {
    "id": "c229c581"
   },
   "source": [
    "Замениv вещественный тип данных в столбце `total_income` на целочисленный с помощью метода `astype()`."
   ]
  },
  {
   "cell_type": "code",
   "execution_count": 38,
   "id": "31036462",
   "metadata": {
    "deletable": false,
    "id": "31036462"
   },
   "outputs": [],
   "source": [
    "data['total_income'] = data['total_income'].astype(int)"
   ]
  },
  {
   "cell_type": "markdown",
   "id": "b8e3d1d9",
   "metadata": {
    "id": "b8e3d1d9"
   },
   "source": [
    "### Обработка дубликатов"
   ]
  },
  {
   "cell_type": "markdown",
   "id": "9be53c49",
   "metadata": {
    "id": "9be53c49"
   },
   "source": [
    "В столбце `education`  есть одни и те же значения, но записанные по-разному: с использованием заглавных и строчных букв. Приведем их к нижнему регистру."
   ]
  },
  {
   "cell_type": "code",
   "execution_count": 37,
   "id": "d89e73e1",
   "metadata": {
    "deletable": false,
    "id": "d89e73e1"
   },
   "outputs": [],
   "source": [
    "data['education'] = data['education'].str.lower()"
   ]
  },
  {
   "cell_type": "markdown",
   "id": "01d4500e",
   "metadata": {
    "id": "01d4500e"
   },
   "source": [
    "Выведем на экран количество строк-дубликатов в данных. Если такие строки присутствуют, удалим их."
   ]
  },
  {
   "cell_type": "code",
   "execution_count": 15,
   "id": "e10efb23",
   "metadata": {
    "deletable": false,
    "id": "e10efb23",
    "outputId": "9684deba-1934-42d1-99e1-cda61740f822"
   },
   "outputs": [
    {
     "data": {
      "text/plain": [
       "71"
      ]
     },
     "execution_count": 15,
     "metadata": {},
     "output_type": "execute_result"
    }
   ],
   "source": [
    "data.duplicated().sum()"
   ]
  },
  {
   "cell_type": "code",
   "execution_count": 16,
   "id": "df853f20",
   "metadata": {
    "deletable": false,
    "id": "df853f20"
   },
   "outputs": [],
   "source": [
    "data = data.drop_duplicates()"
   ]
  },
  {
   "cell_type": "markdown",
   "id": "627be38f",
   "metadata": {
    "id": "627be38f"
   },
   "source": [
    "### Категоризация данных"
   ]
  },
  {
   "cell_type": "markdown",
   "id": "4684c3e0",
   "metadata": {
    "id": "4684c3e0"
   },
   "source": [
    "На основании диапазонов, указанных ниже, создадим в датафрейме `data` столбец `total_income_category` с категориями:\n",
    "\n",
    "- 0–30000 — `'E'`;\n",
    "- 30001–50000 — `'D'`;\n",
    "- 50001–200000 — `'C'`;\n",
    "- 200001–1000000 — `'B'`;\n",
    "- 1000001 и выше — `'A'`.\n",
    "\n",
    "\n"
   ]
  },
  {
   "cell_type": "code",
   "execution_count": 39,
   "id": "78965238",
   "metadata": {
    "deletable": false,
    "id": "78965238"
   },
   "outputs": [],
   "source": [
    "def categorize_income(income):\n",
    "    try:\n",
    "        if 0 <= income <= 30000:\n",
    "            return 'E'\n",
    "        elif 30001 <= income <= 50000:\n",
    "            return 'D'\n",
    "        elif 50001 <= income <= 200000:\n",
    "            return 'C'\n",
    "        elif 200001 <= income <= 1000000:\n",
    "            return 'B'\n",
    "        elif income >= 1000001:\n",
    "            return 'A'\n",
    "    except:\n",
    "        pass"
   ]
  },
  {
   "cell_type": "code",
   "execution_count": 40,
   "id": "0980ada1",
   "metadata": {
    "deletable": false,
    "id": "0980ada1"
   },
   "outputs": [],
   "source": [
    "data['total_income_category'] = data['total_income'].apply(categorize_income)"
   ]
  },
  {
   "cell_type": "markdown",
   "id": "9917bba0",
   "metadata": {
    "id": "9917bba0"
   },
   "source": [
    "Выведем на экран перечень уникальных целей взятия кредита из столбца `purpose`."
   ]
  },
  {
   "cell_type": "code",
   "execution_count": 41,
   "id": "ee07b65e",
   "metadata": {
    "deletable": false,
    "id": "ee07b65e",
    "outputId": "673c12d9-7d7e-4ae0-9812-c622c89dd244"
   },
   "outputs": [
    {
     "data": {
      "text/plain": [
       "array(['покупка жилья', 'приобретение автомобиля',\n",
       "       'дополнительное образование', 'сыграть свадьбу',\n",
       "       'операции с жильем', 'образование', 'на проведение свадьбы',\n",
       "       'покупка жилья для семьи', 'покупка недвижимости',\n",
       "       'покупка коммерческой недвижимости', 'покупка жилой недвижимости',\n",
       "       'строительство собственной недвижимости', 'недвижимость',\n",
       "       'строительство недвижимости', 'на покупку подержанного автомобиля',\n",
       "       'на покупку своего автомобиля',\n",
       "       'операции с коммерческой недвижимостью',\n",
       "       'строительство жилой недвижимости', 'жилье',\n",
       "       'операции со своей недвижимостью', 'автомобили',\n",
       "       'заняться образованием', 'сделка с подержанным автомобилем',\n",
       "       'получение образования', 'автомобиль', 'свадьба',\n",
       "       'получение дополнительного образования', 'покупка своего жилья',\n",
       "       'операции с недвижимостью', 'получение высшего образования',\n",
       "       'свой автомобиль', 'сделка с автомобилем',\n",
       "       'профильное образование', 'высшее образование',\n",
       "       'покупка жилья для сдачи', 'на покупку автомобиля', 'ремонт жилью',\n",
       "       'заняться высшим образованием'], dtype=object)"
      ]
     },
     "execution_count": 41,
     "metadata": {},
     "output_type": "execute_result"
    }
   ],
   "source": [
    "data['purpose'].unique()"
   ]
  },
  {
   "cell_type": "markdown",
   "id": "52b79d56",
   "metadata": {
    "id": "52b79d56"
   },
   "source": [
    "Создадим функцию, которая на основании данных из столбца `purpose` сформирует новый столбец `purpose_category`, в который войдут следующие категории:**\n",
    "\n",
    "- `'операции с автомобилем'`,\n",
    "- `'операции с недвижимостью'`,\n",
    "- `'проведение свадьбы'`,\n",
    "- `'получение образования'`.\n",
    "\n"
   ]
  },
  {
   "cell_type": "code",
   "execution_count": 42,
   "id": "be41da5d",
   "metadata": {
    "deletable": false,
    "id": "be41da5d"
   },
   "outputs": [],
   "source": [
    "def categorize_purpose(row):\n",
    "    try:\n",
    "        if 'автом' in row:\n",
    "            return 'операции с автомобилем'\n",
    "        elif 'жил' in row or 'недвиж' in row:\n",
    "            return 'операции с недвижимостью'\n",
    "        elif 'свад' in row:\n",
    "            return 'проведение свадьбы'\n",
    "        elif 'образов' in row:\n",
    "            return 'получение образования'\n",
    "    except:\n",
    "        return 'нет категории'"
   ]
  },
  {
   "cell_type": "code",
   "execution_count": 43,
   "id": "94c4a19a",
   "metadata": {
    "deletable": false,
    "id": "94c4a19a"
   },
   "outputs": [],
   "source": [
    "data['purpose_category'] = data['purpose'].apply(categorize_purpose)"
   ]
  },
  {
   "cell_type": "markdown",
   "id": "3d596c34",
   "metadata": {
    "id": "3d596c34"
   },
   "source": [
    "### Шаг 3. Исследование данных и ответы на вопросы"
   ]
  },
  {
   "cell_type": "markdown",
   "id": "648db036",
   "metadata": {
    "id": "648db036"
   },
   "source": [
    "#### 3.1 Есть ли зависимость между количеством детей и возвратом кредита в срок?"
   ]
  },
  {
   "cell_type": "markdown",
   "id": "df845167",
   "metadata": {},
   "source": [
    "Определим процент людей, которые имели задолженность по кредиту в каждой группе по количеству детей отдельно."
   ]
  },
  {
   "cell_type": "code",
   "execution_count": 44,
   "id": "7fcff25e",
   "metadata": {
    "deletable": false,
    "id": "7fcff25e"
   },
   "outputs": [
    {
     "data": {
      "text/html": [
       "<div>\n",
       "<style scoped>\n",
       "    .dataframe tbody tr th:only-of-type {\n",
       "        vertical-align: middle;\n",
       "    }\n",
       "\n",
       "    .dataframe tbody tr th {\n",
       "        vertical-align: top;\n",
       "    }\n",
       "\n",
       "    .dataframe thead th {\n",
       "        text-align: right;\n",
       "    }\n",
       "</style>\n",
       "<table border=\"1\" class=\"dataframe\">\n",
       "  <thead>\n",
       "    <tr style=\"text-align: right;\">\n",
       "      <th></th>\n",
       "      <th>children</th>\n",
       "      <th>count</th>\n",
       "      <th>mean</th>\n",
       "      <th>sum</th>\n",
       "    </tr>\n",
       "  </thead>\n",
       "  <tbody>\n",
       "    <tr>\n",
       "      <th>0</th>\n",
       "      <td>0</td>\n",
       "      <td>14091</td>\n",
       "      <td>7.543822</td>\n",
       "      <td>1063</td>\n",
       "    </tr>\n",
       "    <tr>\n",
       "      <th>1</th>\n",
       "      <td>1</td>\n",
       "      <td>4808</td>\n",
       "      <td>9.234609</td>\n",
       "      <td>444</td>\n",
       "    </tr>\n",
       "    <tr>\n",
       "      <th>2</th>\n",
       "      <td>2</td>\n",
       "      <td>2052</td>\n",
       "      <td>9.454191</td>\n",
       "      <td>194</td>\n",
       "    </tr>\n",
       "    <tr>\n",
       "      <th>3</th>\n",
       "      <td>3</td>\n",
       "      <td>330</td>\n",
       "      <td>8.181818</td>\n",
       "      <td>27</td>\n",
       "    </tr>\n",
       "    <tr>\n",
       "      <th>4</th>\n",
       "      <td>4</td>\n",
       "      <td>41</td>\n",
       "      <td>9.756098</td>\n",
       "      <td>4</td>\n",
       "    </tr>\n",
       "    <tr>\n",
       "      <th>5</th>\n",
       "      <td>5</td>\n",
       "      <td>9</td>\n",
       "      <td>0.000000</td>\n",
       "      <td>0</td>\n",
       "    </tr>\n",
       "  </tbody>\n",
       "</table>\n",
       "</div>"
      ],
      "text/plain": [
       "   children  count      mean   sum\n",
       "0         0  14091  7.543822  1063\n",
       "1         1   4808  9.234609   444\n",
       "2         2   2052  9.454191   194\n",
       "3         3    330  8.181818    27\n",
       "4         4     41  9.756098     4\n",
       "5         5      9  0.000000     0"
      ]
     },
     "execution_count": 44,
     "metadata": {},
     "output_type": "execute_result"
    }
   ],
   "source": [
    "data_debt=data[['children','debt']]\n",
    "data_pivot=data_debt.pivot_table(index=['children'],values='debt',aggfunc=('mean','count','sum')).reset_index()\n",
    "data_pivot['mean']=data_pivot['mean']*100 \n",
    "data_pivot\n",
    "\n",
    "\n",
    "\n"
   ]
  },
  {
   "cell_type": "markdown",
   "id": "a1bc6888",
   "metadata": {},
   "source": [
    "На данный момент можно однозначно говорить о том, что наличие хотя бы одного ребенка в семье увеличивает риск задолженности по кредиту.\n",
    "В виду значительной разницы между количеством людей с несколькими детьми, точно определить влияет ли увеличение количества детей на возврат кредита в срок исходя из имеющихся данных не представляется возможным, однако, сравнивая два относительно сопоставимых значения (1 ребенок в семье и 2 ребенка в семье), можно предположить, что увеличение количества детей в семье увеличивает риск невозврата должником кредита в срок."
   ]
  },
  {
   "cell_type": "markdown",
   "id": "c26623d7",
   "metadata": {},
   "source": [
    "Расчитаем зависимость между наличием хотя бы одного ребенка в семье и возвратом кредита в срок"
   ]
  },
  {
   "cell_type": "code",
   "execution_count": 45,
   "id": "db99edc6",
   "metadata": {},
   "outputs": [
    {
     "name": "stdout",
     "output_type": "stream",
     "text": [
      "Доля должников среди людей с детьми больше, чем без детей и составляет 9.240331491712707 %\n"
     ]
    }
   ],
   "source": [
    "people_with_children = data_debt.loc[data_debt['children'] > 0]\n",
    "deb_with_children = people_with_children.loc[people_with_children['debt'] == 1]\n",
    "deb_with_children_mean = len(deb_with_children) / len(people_with_children)\n",
    "\n",
    "people_without_children = data_debt.loc[data_debt['children'] == 0]\n",
    "deb_without_children = people_without_children.loc[people_without_children['debt'] == 1]\n",
    "deb_without_children_mean = len(deb_without_children) / len(people_without_children)\n",
    "if deb_with_children_mean>deb_without_children_mean:\n",
    "    print ('Доля должников среди людей с детьми больше, чем без детей и составляет', deb_with_children_mean*100, '%')\n",
    "else: \n",
    "    print ('Доля должников среди людей с без детей больше, чем с детьми и составляет', deb_without_children_mean*100, '%')"
   ]
  },
  {
   "cell_type": "markdown",
   "id": "2eb9088e",
   "metadata": {
    "deletable": false,
    "id": "2eb9088e"
   },
   "source": [
    "**Вывод:** Наличие детей у человека негативно влияет на возврат кредита в срок"
   ]
  },
  {
   "cell_type": "markdown",
   "id": "74c9b3a7",
   "metadata": {
    "id": "74c9b3a7"
   },
   "source": [
    "#### 3.2 Есть ли зависимость между семейным положением и возвратом кредита в срок?"
   ]
  },
  {
   "cell_type": "code",
   "execution_count": 46,
   "id": "8098ab3b",
   "metadata": {
    "deletable": false,
    "id": "8098ab3b"
   },
   "outputs": [
    {
     "data": {
      "text/html": [
       "<div>\n",
       "<style scoped>\n",
       "    .dataframe tbody tr th:only-of-type {\n",
       "        vertical-align: middle;\n",
       "    }\n",
       "\n",
       "    .dataframe tbody tr th {\n",
       "        vertical-align: top;\n",
       "    }\n",
       "\n",
       "    .dataframe thead th {\n",
       "        text-align: right;\n",
       "    }\n",
       "</style>\n",
       "<table border=\"1\" class=\"dataframe\">\n",
       "  <thead>\n",
       "    <tr style=\"text-align: right;\">\n",
       "      <th></th>\n",
       "      <th>debt</th>\n",
       "      <th>count</th>\n",
       "      <th>mean</th>\n",
       "    </tr>\n",
       "    <tr>\n",
       "      <th>family_status</th>\n",
       "      <th></th>\n",
       "      <th></th>\n",
       "      <th></th>\n",
       "    </tr>\n",
       "  </thead>\n",
       "  <tbody>\n",
       "    <tr>\n",
       "      <th>Не женат / не замужем</th>\n",
       "      <td>273</td>\n",
       "      <td>2796</td>\n",
       "      <td>9.763948</td>\n",
       "    </tr>\n",
       "    <tr>\n",
       "      <th>гражданский брак</th>\n",
       "      <td>385</td>\n",
       "      <td>4134</td>\n",
       "      <td>9.313014</td>\n",
       "    </tr>\n",
       "    <tr>\n",
       "      <th>женат / замужем</th>\n",
       "      <td>927</td>\n",
       "      <td>12261</td>\n",
       "      <td>7.560558</td>\n",
       "    </tr>\n",
       "    <tr>\n",
       "      <th>в разводе</th>\n",
       "      <td>84</td>\n",
       "      <td>1189</td>\n",
       "      <td>7.064760</td>\n",
       "    </tr>\n",
       "    <tr>\n",
       "      <th>вдовец / вдова</th>\n",
       "      <td>63</td>\n",
       "      <td>951</td>\n",
       "      <td>6.624606</td>\n",
       "    </tr>\n",
       "  </tbody>\n",
       "</table>\n",
       "</div>"
      ],
      "text/plain": [
       "                       debt  count      mean\n",
       "family_status                               \n",
       "Не женат / не замужем   273   2796  9.763948\n",
       "гражданский брак        385   4134  9.313014\n",
       "женат / замужем         927  12261  7.560558\n",
       "в разводе                84   1189  7.064760\n",
       "вдовец / вдова           63    951  6.624606"
      ]
     },
     "execution_count": 46,
     "metadata": {},
     "output_type": "execute_result"
    }
   ],
   "source": [
    "data_status=data[['family_status','debt']]\n",
    "data_status_grouped=data_status.groupby('family_status').sum()\n",
    "data_status_grouped['count']=data_status.groupby('family_status').count()\n",
    "data_status_grouped['mean']=data_status.groupby('family_status').mean()*100\n",
    "data_status_grouped.sort_values(by='mean',ascending=False)"
   ]
  },
  {
   "cell_type": "markdown",
   "id": "c389ca63",
   "metadata": {
    "deletable": false,
    "id": "c389ca63"
   },
   "source": [
    "**Вывод:** В группе людей с семейным положением не женат/ не замужем наибольший процент должников - 9,76%, наименьший процент должников в группе людей с семейным положением вдовец/вдова - 6,62%."
   ]
  },
  {
   "cell_type": "markdown",
   "id": "9529de68",
   "metadata": {
    "deletable": false,
    "editable": false,
    "id": "9529de68"
   },
   "source": [
    "#### 3.3 Есть ли зависимость между уровнем дохода и возвратом кредита в срок?"
   ]
  },
  {
   "cell_type": "code",
   "execution_count": 47,
   "id": "8787f44a",
   "metadata": {
    "deletable": false,
    "id": "8787f44a"
   },
   "outputs": [
    {
     "data": {
      "text/html": [
       "<div>\n",
       "<style scoped>\n",
       "    .dataframe tbody tr th:only-of-type {\n",
       "        vertical-align: middle;\n",
       "    }\n",
       "\n",
       "    .dataframe tbody tr th {\n",
       "        vertical-align: top;\n",
       "    }\n",
       "\n",
       "    .dataframe thead th {\n",
       "        text-align: right;\n",
       "    }\n",
       "</style>\n",
       "<table border=\"1\" class=\"dataframe\">\n",
       "  <thead>\n",
       "    <tr style=\"text-align: right;\">\n",
       "      <th></th>\n",
       "      <th>debt</th>\n",
       "      <th>debt_number</th>\n",
       "      <th>mean</th>\n",
       "    </tr>\n",
       "    <tr>\n",
       "      <th>income_group</th>\n",
       "      <th></th>\n",
       "      <th></th>\n",
       "      <th></th>\n",
       "    </tr>\n",
       "  </thead>\n",
       "  <tbody>\n",
       "    <tr>\n",
       "      <th>C</th>\n",
       "      <td>1353</td>\n",
       "      <td>2343396</td>\n",
       "      <td>0.000577</td>\n",
       "    </tr>\n",
       "    <tr>\n",
       "      <th>B</th>\n",
       "      <td>354</td>\n",
       "      <td>613128</td>\n",
       "      <td>0.000577</td>\n",
       "    </tr>\n",
       "    <tr>\n",
       "      <th>D</th>\n",
       "      <td>21</td>\n",
       "      <td>36372</td>\n",
       "      <td>0.000577</td>\n",
       "    </tr>\n",
       "    <tr>\n",
       "      <th>A</th>\n",
       "      <td>2</td>\n",
       "      <td>3464</td>\n",
       "      <td>0.000577</td>\n",
       "    </tr>\n",
       "    <tr>\n",
       "      <th>E</th>\n",
       "      <td>2</td>\n",
       "      <td>3464</td>\n",
       "      <td>0.000577</td>\n",
       "    </tr>\n",
       "  </tbody>\n",
       "</table>\n",
       "</div>"
      ],
      "text/plain": [
       "              debt  debt_number      mean\n",
       "income_group                             \n",
       "C             1353      2343396  0.000577\n",
       "B              354       613128  0.000577\n",
       "D               21        36372  0.000577\n",
       "A                2         3464  0.000577\n",
       "E                2         3464  0.000577"
      ]
     },
     "execution_count": 47,
     "metadata": {},
     "output_type": "execute_result"
    }
   ],
   "source": [
    "data_income=data[['total_income','debt']]\n",
    "data_income = data_income.loc[data_income['debt'] == 1]\n",
    "data_income['debt_number']=data_income['total_income'].count()\n",
    "data_income['income_group'] = data_income['total_income'].apply(categorize_income)\n",
    "data_income_final=data_income[['income_group', 'debt','debt_number']].groupby('income_group').sum().sort_values('debt', ascending = False)# Ваш код будет здесь. Вы можете создавать новые ячейки.\n",
    "data_income_final['mean']=data_income_final['debt']/data_income_final['debt_number']\n",
    "data_income_final"
   ]
  },
  {
   "cell_type": "markdown",
   "id": "6dd14b57",
   "metadata": {
    "deletable": false,
    "id": "6dd14b57"
   },
   "source": [
    "**Вывод:** Доля должников в каждой из групп одинакова, однако следует обратить внимание на размер каждой из групп. В данном случае имеет смысл сравнивать лишь относительно сопоставимые по размеру выборки, а именно группу \"C\" - доходность 50001–200000 и группу \"B\"- доходность 200001–1000000. Основываясь на полученных данных, можно предположить, что уровень дохода не влияет на возврат кредита в срок."
   ]
  },
  {
   "cell_type": "code",
   "execution_count": 48,
   "id": "de31a2f6",
   "metadata": {},
   "outputs": [
    {
     "data": {
      "text/html": [
       "<div>\n",
       "<style scoped>\n",
       "    .dataframe tbody tr th:only-of-type {\n",
       "        vertical-align: middle;\n",
       "    }\n",
       "\n",
       "    .dataframe tbody tr th {\n",
       "        vertical-align: top;\n",
       "    }\n",
       "\n",
       "    .dataframe thead th {\n",
       "        text-align: right;\n",
       "    }\n",
       "</style>\n",
       "<table border=\"1\" class=\"dataframe\">\n",
       "  <thead>\n",
       "    <tr style=\"text-align: right;\">\n",
       "      <th></th>\n",
       "      <th>count</th>\n",
       "      <th>sum</th>\n",
       "      <th>mean</th>\n",
       "    </tr>\n",
       "    <tr>\n",
       "      <th>total_income_category</th>\n",
       "      <th></th>\n",
       "      <th></th>\n",
       "      <th></th>\n",
       "    </tr>\n",
       "  </thead>\n",
       "  <tbody>\n",
       "    <tr>\n",
       "      <th>E</th>\n",
       "      <td>22</td>\n",
       "      <td>2</td>\n",
       "      <td>0.090909</td>\n",
       "    </tr>\n",
       "    <tr>\n",
       "      <th>C</th>\n",
       "      <td>15921</td>\n",
       "      <td>1353</td>\n",
       "      <td>0.084982</td>\n",
       "    </tr>\n",
       "    <tr>\n",
       "      <th>A</th>\n",
       "      <td>25</td>\n",
       "      <td>2</td>\n",
       "      <td>0.080000</td>\n",
       "    </tr>\n",
       "    <tr>\n",
       "      <th>B</th>\n",
       "      <td>5014</td>\n",
       "      <td>354</td>\n",
       "      <td>0.070602</td>\n",
       "    </tr>\n",
       "    <tr>\n",
       "      <th>D</th>\n",
       "      <td>349</td>\n",
       "      <td>21</td>\n",
       "      <td>0.060172</td>\n",
       "    </tr>\n",
       "  </tbody>\n",
       "</table>\n",
       "</div>"
      ],
      "text/plain": [
       "                       count   sum      mean\n",
       "total_income_category                       \n",
       "E                         22     2  0.090909\n",
       "C                      15921  1353  0.084982\n",
       "A                         25     2  0.080000\n",
       "B                       5014   354  0.070602\n",
       "D                        349    21  0.060172"
      ]
     },
     "execution_count": 48,
     "metadata": {},
     "output_type": "execute_result"
    }
   ],
   "source": [
    "# Код ревьюера\n",
    "data.groupby('total_income_category')['debt'].agg(['count', 'sum', 'mean'])\\\n",
    "  .sort_values(by = 'mean', ascending = False)"
   ]
  },
  {
   "cell_type": "markdown",
   "id": "1dcc9b12",
   "metadata": {
    "id": "1dcc9b12"
   },
   "source": [
    "#### 3.4 Как разные цели кредита влияют на его возврат в срок?"
   ]
  },
  {
   "cell_type": "code",
   "execution_count": 49,
   "id": "c602bc8b",
   "metadata": {
    "deletable": false,
    "id": "c602bc8b"
   },
   "outputs": [
    {
     "data": {
      "text/html": [
       "<div>\n",
       "<style scoped>\n",
       "    .dataframe tbody tr th:only-of-type {\n",
       "        vertical-align: middle;\n",
       "    }\n",
       "\n",
       "    .dataframe tbody tr th {\n",
       "        vertical-align: top;\n",
       "    }\n",
       "\n",
       "    .dataframe thead th {\n",
       "        text-align: right;\n",
       "    }\n",
       "</style>\n",
       "<table border=\"1\" class=\"dataframe\">\n",
       "  <thead>\n",
       "    <tr style=\"text-align: right;\">\n",
       "      <th></th>\n",
       "      <th>debt</th>\n",
       "      <th>debt_count</th>\n",
       "      <th>mean</th>\n",
       "    </tr>\n",
       "    <tr>\n",
       "      <th>purpose_category</th>\n",
       "      <th></th>\n",
       "      <th></th>\n",
       "      <th></th>\n",
       "    </tr>\n",
       "  </thead>\n",
       "  <tbody>\n",
       "    <tr>\n",
       "      <th>операции с автомобилем</th>\n",
       "      <td>4279</td>\n",
       "      <td>400</td>\n",
       "      <td>9.347978</td>\n",
       "    </tr>\n",
       "    <tr>\n",
       "      <th>операции с недвижимостью</th>\n",
       "      <td>10751</td>\n",
       "      <td>780</td>\n",
       "      <td>7.255139</td>\n",
       "    </tr>\n",
       "    <tr>\n",
       "      <th>получение образования</th>\n",
       "      <td>3988</td>\n",
       "      <td>369</td>\n",
       "      <td>9.252758</td>\n",
       "    </tr>\n",
       "    <tr>\n",
       "      <th>проведение свадьбы</th>\n",
       "      <td>2313</td>\n",
       "      <td>183</td>\n",
       "      <td>7.911803</td>\n",
       "    </tr>\n",
       "  </tbody>\n",
       "</table>\n",
       "</div>"
      ],
      "text/plain": [
       "                           debt  debt_count      mean\n",
       "purpose_category                                     \n",
       "операции с автомобилем     4279         400  9.347978\n",
       "операции с недвижимостью  10751         780  7.255139\n",
       "получение образования      3988         369  9.252758\n",
       "проведение свадьбы         2313         183  7.911803"
      ]
     },
     "execution_count": 49,
     "metadata": {},
     "output_type": "execute_result"
    }
   ],
   "source": [
    "data_purpose=data[['purpose_category','debt']]\n",
    "data_purpose_grouped = data_purpose.groupby('purpose_category').count()\n",
    "data_purpose_grouped['debt_count'] = data_purpose.loc[data_purpose['debt'] == 1].groupby('purpose_category').sum()\n",
    "data_purpose_grouped['mean'] = data_purpose_grouped['debt_count'] / data_purpose_grouped['debt'] * 100\n",
    "data_purpose_grouped\n",
    "# Ваш код будет здесь. Вы можете создавать новые ячейки."
   ]
  },
  {
   "cell_type": "markdown",
   "id": "cf05ed63",
   "metadata": {
    "deletable": false,
    "id": "cf05ed63"
   },
   "source": [
    "**Вывод:** Большая доля должников среди лиц, берущих кредит на операции с автомобилем - 9,347978% и на получение образования - 9.252758%, меньше всего должников, берущих кредит на операции с недвижимостью - 7.255139%"
   ]
  },
  {
   "cell_type": "markdown",
   "id": "46c1f10b",
   "metadata": {
    "id": "46c1f10b"
   },
   "source": [
    "#### 3.5 Возможные причины появления пропусков в исходных данных."
   ]
  },
  {
   "cell_type": "markdown",
   "id": "3697d2a9",
   "metadata": {
    "deletable": false,
    "id": "3697d2a9"
   },
   "source": [
    "В исходных данных пропуски содержались в данных о трудовом стаже и об уровне дохода.\n",
    "Данные пропуски могли возникнуть в виду того, что за кредитом могли обращаться и безработные лица. Также необходимо учитывать возможность неофициального трудоустройства людей, в виду чего документально подтвердить свой доход и трудовой стаж они были не способны.\n",
    "Также, следует отметить, что количество пропусков в двух разных колонках одинаково, это может свидетельствовать также и о программном сбое в определенный промежуток времени или о несовершенстве программы для внесения информации в целом, особенно учитывая, что большое количество данных в столбце со стажем имеет отрицательное значение. "
   ]
  },
  {
   "cell_type": "markdown",
   "id": "3137d257",
   "metadata": {
    "id": "3137d257"
   },
   "source": [
    "#### Почему заполнить пропуски медианным значением — лучшее решение для количественных переменных."
   ]
  },
  {
   "cell_type": "markdown",
   "id": "cf40012a",
   "metadata": {
    "deletable": false,
    "id": "cf40012a"
   },
   "source": [
    "Медианное значение наиболее точно  отражает выборку при незаполненных данных. Среднее арифметическое отражает ситуацию некорректно, так как не учитывается разброс данных."
   ]
  },
  {
   "cell_type": "markdown",
   "id": "57bc304e",
   "metadata": {
    "id": "57bc304e"
   },
   "source": [
    "### Шаг 4: общий вывод."
   ]
  },
  {
   "cell_type": "markdown",
   "id": "1ab75d1c",
   "metadata": {
    "id": "1ab75d1c"
   },
   "source": [
    "В ходе исследования были проверены следующие зависимости:\n",
    "1) Зависимость между количеством детей и возвратом кредита в срок.\n",
    "По результатам исследования наличие детей у человека негативно влияет на возврат кредита в срок\n",
    "\n",
    "2) Зависимость между семейным положением и возвратом кредита в срок.\n",
    "Выявлено, что в группе людей с семейным положением не женат/ не замужем наибольший процент должников, наименьший процент должников в группе людей с семейным положением вдовец/вдова \n",
    "\n",
    "3) Зависимость между уровнем дохода и возвратом кредита в срок.\n",
    "Наибольшее количество должников являются обладателями доходов 50001–200000, однако, если рассматривать долю должников среди всех кредиторов, то процентное соотношение в каждой из групп будет одинаково. Основываясь на полученных данных, можно предположить, что уровень дохода не влияет на возврат кредита в срок.\n",
    "\n",
    "4) Зависимость цели кредита на его возврат в срок.\n",
    "Большая доля должников среди лиц, берущих кредит на операции с автомобилем и на получение образования, меньше всего должников, берущих кредит на операции с недвижимостью \n",
    "\n",
    "Таким образом, наибольшая вероятность просрочки по кредиту возможна при совокупности вышеперечисленных факторов, а именно если кредит берет не женатый/ не замужний человек, имеющий детей, и берущий его на операции с автомобилем или на получение образование.\n",
    "\n",
    "При этом наименьшая вероятность просрочки по кредиту возможна в случае, если кредит берет вдовец/вдова, не имеющий детей, и берущий его на операции с недвижимостью.\n",
    "\n",
    "В качестве рекомендаций для повышения качества сбора данных можно рассмотреть вопрос о конкретизации данных по виду деятельности. Так, в предоставленных данных указаны лишь общие наименования: \"студент\", \"сотрудник\", \"госслужащий\", \"предприниматель\" и т.д. Если детализировать эти данные с указанием сферы, в которой данный человек трудоустроен, например \"предприниматель в сфере общественного питания\", это позволит выявить дополнительные группы риска при выдаче кредита."
   ]
  },
  {
   "cell_type": "code",
   "execution_count": null,
   "id": "a39c35f4",
   "metadata": {},
   "outputs": [],
   "source": []
  }
 ],
 "metadata": {
  "ExecuteTimeLog": [
   {
    "duration": 59,
    "start_time": "2023-03-13T20:55:37.116Z"
   },
   {
    "duration": 492,
    "start_time": "2023-03-13T20:55:45.183Z"
   },
   {
    "duration": 23,
    "start_time": "2023-03-13T20:55:45.677Z"
   },
   {
    "duration": 35,
    "start_time": "2023-03-13T20:55:45.701Z"
   },
   {
    "duration": 11,
    "start_time": "2023-03-13T20:55:45.740Z"
   },
   {
    "duration": 38,
    "start_time": "2023-03-13T20:55:45.754Z"
   },
   {
    "duration": 4,
    "start_time": "2023-03-13T20:55:45.793Z"
   },
   {
    "duration": 36,
    "start_time": "2023-03-13T20:55:45.799Z"
   },
   {
    "duration": 8,
    "start_time": "2023-03-13T20:55:45.836Z"
   },
   {
    "duration": 8,
    "start_time": "2023-03-13T20:55:45.845Z"
   },
   {
    "duration": 7,
    "start_time": "2023-03-13T20:55:45.854Z"
   },
   {
    "duration": 45,
    "start_time": "2023-03-13T20:55:45.862Z"
   },
   {
    "duration": 32,
    "start_time": "2023-03-13T20:55:45.908Z"
   },
   {
    "duration": 4,
    "start_time": "2023-03-13T20:55:45.942Z"
   },
   {
    "duration": 14,
    "start_time": "2023-03-13T20:55:45.949Z"
   },
   {
    "duration": 22,
    "start_time": "2023-03-13T20:55:45.965Z"
   },
   {
    "duration": 38,
    "start_time": "2023-03-13T20:55:45.989Z"
   },
   {
    "duration": 9,
    "start_time": "2023-03-13T20:55:46.031Z"
   },
   {
    "duration": 19,
    "start_time": "2023-03-13T20:55:46.042Z"
   },
   {
    "duration": 7,
    "start_time": "2023-03-13T20:55:46.063Z"
   },
   {
    "duration": 4,
    "start_time": "2023-03-13T20:55:46.072Z"
   },
   {
    "duration": 9,
    "start_time": "2023-03-13T20:55:46.078Z"
   },
   {
    "duration": 101,
    "start_time": "2023-03-13T20:55:46.088Z"
   },
   {
    "duration": 0,
    "start_time": "2023-03-13T20:55:46.191Z"
   },
   {
    "duration": 0,
    "start_time": "2023-03-13T20:55:46.192Z"
   },
   {
    "duration": 0,
    "start_time": "2023-03-13T20:55:46.194Z"
   },
   {
    "duration": 11,
    "start_time": "2023-03-13T20:55:56.964Z"
   },
   {
    "duration": 2,
    "start_time": "2023-03-13T20:57:36.208Z"
   },
   {
    "duration": 5,
    "start_time": "2023-03-13T20:57:47.478Z"
   },
   {
    "duration": 4,
    "start_time": "2023-03-13T20:58:00.795Z"
   },
   {
    "duration": 12,
    "start_time": "2023-03-13T20:58:08.475Z"
   },
   {
    "duration": 6,
    "start_time": "2023-03-13T21:00:42.509Z"
   },
   {
    "duration": 15,
    "start_time": "2023-03-13T21:08:11.680Z"
   },
   {
    "duration": 13,
    "start_time": "2023-03-13T21:08:20.088Z"
   },
   {
    "duration": 14,
    "start_time": "2023-03-13T21:09:23.929Z"
   },
   {
    "duration": 13,
    "start_time": "2023-03-13T21:09:42.987Z"
   },
   {
    "duration": 14,
    "start_time": "2023-03-13T21:10:14.007Z"
   },
   {
    "duration": 16,
    "start_time": "2023-03-13T21:11:37.332Z"
   },
   {
    "duration": 11,
    "start_time": "2023-03-13T21:12:20.606Z"
   },
   {
    "duration": 9,
    "start_time": "2023-03-13T21:12:33.650Z"
   },
   {
    "duration": 10,
    "start_time": "2023-03-13T21:18:57.302Z"
   },
   {
    "duration": 10,
    "start_time": "2023-03-13T21:19:50.677Z"
   },
   {
    "duration": 15,
    "start_time": "2023-03-13T21:20:14.518Z"
   },
   {
    "duration": 10,
    "start_time": "2023-03-13T21:20:21.010Z"
   },
   {
    "duration": 8,
    "start_time": "2023-03-13T21:23:50.077Z"
   },
   {
    "duration": 8,
    "start_time": "2023-03-13T21:24:30.540Z"
   },
   {
    "duration": 20,
    "start_time": "2023-03-13T21:26:13.946Z"
   },
   {
    "duration": 7,
    "start_time": "2023-03-13T21:26:42.333Z"
   },
   {
    "duration": 10,
    "start_time": "2023-03-13T21:28:25.841Z"
   },
   {
    "duration": 7,
    "start_time": "2023-03-13T21:29:50.542Z"
   },
   {
    "duration": 8,
    "start_time": "2023-03-13T21:29:57.229Z"
   },
   {
    "duration": 6,
    "start_time": "2023-03-13T21:30:29.807Z"
   },
   {
    "duration": 6,
    "start_time": "2023-03-13T21:30:37.094Z"
   },
   {
    "duration": 5,
    "start_time": "2023-03-13T21:30:42.538Z"
   },
   {
    "duration": 101,
    "start_time": "2023-03-13T21:35:01.645Z"
   },
   {
    "duration": 80,
    "start_time": "2023-03-13T21:35:21.855Z"
   },
   {
    "duration": 80,
    "start_time": "2023-03-13T21:35:38.479Z"
   },
   {
    "duration": 11,
    "start_time": "2023-03-13T21:35:59.494Z"
   },
   {
    "duration": 9,
    "start_time": "2023-03-13T21:36:15.527Z"
   },
   {
    "duration": 8,
    "start_time": "2023-03-13T21:36:43.016Z"
   },
   {
    "duration": 10,
    "start_time": "2023-03-13T21:36:49.921Z"
   },
   {
    "duration": 15,
    "start_time": "2023-03-13T21:37:33.741Z"
   },
   {
    "duration": 8,
    "start_time": "2023-03-13T21:37:51.727Z"
   },
   {
    "duration": 8,
    "start_time": "2023-03-13T21:38:07.959Z"
   },
   {
    "duration": 14,
    "start_time": "2023-03-13T21:38:25.573Z"
   },
   {
    "duration": 10,
    "start_time": "2023-03-13T21:38:31.919Z"
   },
   {
    "duration": 9,
    "start_time": "2023-03-13T21:39:00.704Z"
   },
   {
    "duration": 11,
    "start_time": "2023-03-13T21:39:21.314Z"
   },
   {
    "duration": 16,
    "start_time": "2023-03-13T21:40:14.372Z"
   },
   {
    "duration": 12,
    "start_time": "2023-03-13T21:40:40.853Z"
   },
   {
    "duration": 11,
    "start_time": "2023-03-13T21:41:36.763Z"
   },
   {
    "duration": 47,
    "start_time": "2023-03-14T12:09:27.819Z"
   },
   {
    "duration": 494,
    "start_time": "2023-03-14T12:09:35.772Z"
   },
   {
    "duration": 24,
    "start_time": "2023-03-14T12:09:36.268Z"
   },
   {
    "duration": 17,
    "start_time": "2023-03-14T12:09:36.294Z"
   },
   {
    "duration": 15,
    "start_time": "2023-03-14T12:09:36.313Z"
   },
   {
    "duration": 45,
    "start_time": "2023-03-14T12:09:36.330Z"
   },
   {
    "duration": 4,
    "start_time": "2023-03-14T12:09:36.376Z"
   },
   {
    "duration": 10,
    "start_time": "2023-03-14T12:09:36.382Z"
   },
   {
    "duration": 9,
    "start_time": "2023-03-14T12:09:36.393Z"
   },
   {
    "duration": 6,
    "start_time": "2023-03-14T12:09:36.404Z"
   },
   {
    "duration": 14,
    "start_time": "2023-03-14T12:09:36.413Z"
   },
   {
    "duration": 36,
    "start_time": "2023-03-14T12:09:36.429Z"
   },
   {
    "duration": 11,
    "start_time": "2023-03-14T12:09:36.466Z"
   },
   {
    "duration": 5,
    "start_time": "2023-03-14T12:09:36.479Z"
   },
   {
    "duration": 12,
    "start_time": "2023-03-14T12:09:36.485Z"
   },
   {
    "duration": 20,
    "start_time": "2023-03-14T12:09:36.523Z"
   },
   {
    "duration": 17,
    "start_time": "2023-03-14T12:09:36.545Z"
   },
   {
    "duration": 4,
    "start_time": "2023-03-14T12:09:36.564Z"
   },
   {
    "duration": 14,
    "start_time": "2023-03-14T12:09:36.571Z"
   },
   {
    "duration": 9,
    "start_time": "2023-03-14T12:09:36.587Z"
   },
   {
    "duration": 28,
    "start_time": "2023-03-14T12:09:36.597Z"
   },
   {
    "duration": 16,
    "start_time": "2023-03-14T12:09:36.627Z"
   },
   {
    "duration": 14,
    "start_time": "2023-03-14T12:09:36.645Z"
   },
   {
    "duration": 17,
    "start_time": "2023-03-14T12:09:36.660Z"
   },
   {
    "duration": 2,
    "start_time": "2023-03-14T12:09:36.679Z"
   },
   {
    "duration": 11,
    "start_time": "2023-03-14T12:09:36.682Z"
   },
   {
    "duration": 7,
    "start_time": "2023-03-14T12:10:04.561Z"
   },
   {
    "duration": 6,
    "start_time": "2023-03-14T12:11:51.218Z"
   },
   {
    "duration": 16,
    "start_time": "2023-03-14T12:15:02.148Z"
   },
   {
    "duration": 13,
    "start_time": "2023-03-14T12:15:37.108Z"
   },
   {
    "duration": 15,
    "start_time": "2023-03-14T12:16:52.273Z"
   },
   {
    "duration": 11893,
    "start_time": "2023-03-14T12:17:16.367Z"
   },
   {
    "duration": 11958,
    "start_time": "2023-03-14T12:17:53.853Z"
   },
   {
    "duration": 77,
    "start_time": "2023-03-14T12:18:53.653Z"
   },
   {
    "duration": 27618,
    "start_time": "2023-03-14T12:19:11.522Z"
   },
   {
    "duration": 6,
    "start_time": "2023-03-14T12:20:08.354Z"
   },
   {
    "duration": 20,
    "start_time": "2023-03-14T12:20:12.793Z"
   },
   {
    "duration": 8,
    "start_time": "2023-03-14T12:20:31.609Z"
   },
   {
    "duration": 7,
    "start_time": "2023-03-14T12:20:51.451Z"
   },
   {
    "duration": 5,
    "start_time": "2023-03-14T12:21:10.038Z"
   },
   {
    "duration": 10,
    "start_time": "2023-03-14T12:21:26.096Z"
   },
   {
    "duration": 7,
    "start_time": "2023-03-14T12:21:39.343Z"
   },
   {
    "duration": 4,
    "start_time": "2023-03-14T12:22:42.553Z"
   },
   {
    "duration": 10,
    "start_time": "2023-03-14T12:23:21.536Z"
   },
   {
    "duration": 12,
    "start_time": "2023-03-14T12:24:16.905Z"
   },
   {
    "duration": 14,
    "start_time": "2023-03-14T12:24:38.850Z"
   },
   {
    "duration": 7,
    "start_time": "2023-03-14T12:24:48.858Z"
   },
   {
    "duration": 9,
    "start_time": "2023-03-14T12:24:57.992Z"
   },
   {
    "duration": 13,
    "start_time": "2023-03-14T12:25:17.997Z"
   },
   {
    "duration": 10,
    "start_time": "2023-03-14T12:25:34.411Z"
   },
   {
    "duration": 1193,
    "start_time": "2023-03-14T12:26:18.108Z"
   },
   {
    "duration": 13,
    "start_time": "2023-03-14T12:26:24.500Z"
   },
   {
    "duration": 22,
    "start_time": "2023-03-14T12:26:35.706Z"
   },
   {
    "duration": 27526,
    "start_time": "2023-03-14T12:27:26.138Z"
   },
   {
    "duration": 18,
    "start_time": "2023-03-14T12:28:26.277Z"
   },
   {
    "duration": 21,
    "start_time": "2023-03-14T12:30:04.896Z"
   },
   {
    "duration": 1197,
    "start_time": "2023-03-14T12:30:34.374Z"
   },
   {
    "duration": 18,
    "start_time": "2023-03-14T12:32:54.442Z"
   },
   {
    "duration": 32,
    "start_time": "2023-03-14T12:33:07.559Z"
   },
   {
    "duration": 21,
    "start_time": "2023-03-14T12:33:34.430Z"
   },
   {
    "duration": 34,
    "start_time": "2023-03-14T12:34:01.905Z"
   },
   {
    "duration": 1331,
    "start_time": "2023-03-14T12:35:15.995Z"
   },
   {
    "duration": 1200,
    "start_time": "2023-03-14T12:35:33.442Z"
   },
   {
    "duration": 18,
    "start_time": "2023-03-14T12:35:40.865Z"
   },
   {
    "duration": 1191,
    "start_time": "2023-03-14T12:35:45.405Z"
   },
   {
    "duration": 15,
    "start_time": "2023-03-14T12:36:44.210Z"
   },
   {
    "duration": 79,
    "start_time": "2023-03-14T12:38:55.527Z"
   },
   {
    "duration": 7,
    "start_time": "2023-03-14T12:39:01.548Z"
   },
   {
    "duration": 7,
    "start_time": "2023-03-14T12:39:15.042Z"
   },
   {
    "duration": 11,
    "start_time": "2023-03-14T12:39:18.595Z"
   },
   {
    "duration": 1189,
    "start_time": "2023-03-14T13:35:38.670Z"
   },
   {
    "duration": 479,
    "start_time": "2023-03-14T13:35:52.621Z"
   },
   {
    "duration": 23,
    "start_time": "2023-03-14T13:35:53.102Z"
   },
   {
    "duration": 16,
    "start_time": "2023-03-14T13:35:53.127Z"
   },
   {
    "duration": 11,
    "start_time": "2023-03-14T13:35:53.145Z"
   },
   {
    "duration": 51,
    "start_time": "2023-03-14T13:35:53.158Z"
   },
   {
    "duration": 3,
    "start_time": "2023-03-14T13:35:53.211Z"
   },
   {
    "duration": 13,
    "start_time": "2023-03-14T13:35:53.216Z"
   },
   {
    "duration": 4,
    "start_time": "2023-03-14T13:35:53.230Z"
   },
   {
    "duration": 10,
    "start_time": "2023-03-14T13:35:53.235Z"
   },
   {
    "duration": 12,
    "start_time": "2023-03-14T13:35:53.247Z"
   },
   {
    "duration": 38,
    "start_time": "2023-03-14T13:35:53.260Z"
   },
   {
    "duration": 9,
    "start_time": "2023-03-14T13:35:53.300Z"
   },
   {
    "duration": 18,
    "start_time": "2023-03-14T13:35:53.310Z"
   },
   {
    "duration": 18,
    "start_time": "2023-03-14T13:35:53.329Z"
   },
   {
    "duration": 18,
    "start_time": "2023-03-14T13:35:53.349Z"
   },
   {
    "duration": 17,
    "start_time": "2023-03-14T13:35:53.369Z"
   },
   {
    "duration": 4,
    "start_time": "2023-03-14T13:35:53.387Z"
   },
   {
    "duration": 36,
    "start_time": "2023-03-14T13:35:53.393Z"
   },
   {
    "duration": 13,
    "start_time": "2023-03-14T13:35:53.431Z"
   },
   {
    "duration": 3,
    "start_time": "2023-03-14T13:35:53.446Z"
   },
   {
    "duration": 10,
    "start_time": "2023-03-14T13:35:53.450Z"
   },
   {
    "duration": 1163,
    "start_time": "2023-03-14T13:35:53.461Z"
   },
   {
    "duration": 0,
    "start_time": "2023-03-14T13:35:54.626Z"
   },
   {
    "duration": 0,
    "start_time": "2023-03-14T13:35:54.627Z"
   },
   {
    "duration": 0,
    "start_time": "2023-03-14T13:35:54.628Z"
   },
   {
    "duration": 9,
    "start_time": "2023-03-14T13:36:55.415Z"
   },
   {
    "duration": 76,
    "start_time": "2023-03-14T13:48:14.529Z"
   },
   {
    "duration": 17,
    "start_time": "2023-03-14T13:48:31.142Z"
   },
   {
    "duration": 23,
    "start_time": "2023-03-14T13:48:55.608Z"
   },
   {
    "duration": 74,
    "start_time": "2023-03-14T13:49:26.752Z"
   },
   {
    "duration": 16,
    "start_time": "2023-03-14T13:49:31.942Z"
   },
   {
    "duration": 11873,
    "start_time": "2023-03-14T13:49:45.301Z"
   },
   {
    "duration": 11,
    "start_time": "2023-03-14T13:55:58.322Z"
   },
   {
    "duration": 16,
    "start_time": "2023-03-14T13:56:08.451Z"
   },
   {
    "duration": 19,
    "start_time": "2023-03-14T13:56:38.925Z"
   },
   {
    "duration": 12,
    "start_time": "2023-03-14T14:01:02.945Z"
   },
   {
    "duration": 14,
    "start_time": "2023-03-14T14:06:03.122Z"
   },
   {
    "duration": 1140,
    "start_time": "2023-03-14T14:06:14.446Z"
   },
   {
    "duration": 16,
    "start_time": "2023-03-14T14:10:01.657Z"
   },
   {
    "duration": 15,
    "start_time": "2023-03-14T14:10:12.981Z"
   },
   {
    "duration": 90,
    "start_time": "2023-03-14T14:11:59.544Z"
   },
   {
    "duration": 7,
    "start_time": "2023-03-14T14:15:17.400Z"
   },
   {
    "duration": 10,
    "start_time": "2023-03-14T14:15:24.263Z"
   },
   {
    "duration": 51,
    "start_time": "2023-03-14T16:26:55.347Z"
   },
   {
    "duration": 676,
    "start_time": "2023-03-14T16:27:06.861Z"
   },
   {
    "duration": 24,
    "start_time": "2023-03-14T16:27:07.539Z"
   },
   {
    "duration": 17,
    "start_time": "2023-03-14T16:27:07.565Z"
   },
   {
    "duration": 11,
    "start_time": "2023-03-14T16:27:07.584Z"
   },
   {
    "duration": 55,
    "start_time": "2023-03-14T16:27:07.596Z"
   },
   {
    "duration": 4,
    "start_time": "2023-03-14T16:27:07.653Z"
   },
   {
    "duration": 10,
    "start_time": "2023-03-14T16:27:07.659Z"
   },
   {
    "duration": 8,
    "start_time": "2023-03-14T16:27:07.671Z"
   },
   {
    "duration": 10,
    "start_time": "2023-03-14T16:27:07.680Z"
   },
   {
    "duration": 5,
    "start_time": "2023-03-14T16:27:07.693Z"
   },
   {
    "duration": 63,
    "start_time": "2023-03-14T16:27:07.699Z"
   },
   {
    "duration": 10,
    "start_time": "2023-03-14T16:27:07.764Z"
   },
   {
    "duration": 4,
    "start_time": "2023-03-14T16:27:07.775Z"
   },
   {
    "duration": 14,
    "start_time": "2023-03-14T16:27:07.781Z"
   },
   {
    "duration": 40,
    "start_time": "2023-03-14T16:27:07.797Z"
   },
   {
    "duration": 18,
    "start_time": "2023-03-14T16:27:07.839Z"
   },
   {
    "duration": 4,
    "start_time": "2023-03-14T16:27:07.859Z"
   },
   {
    "duration": 30,
    "start_time": "2023-03-14T16:27:07.865Z"
   },
   {
    "duration": 9,
    "start_time": "2023-03-14T16:27:07.897Z"
   },
   {
    "duration": 3,
    "start_time": "2023-03-14T16:27:07.908Z"
   },
   {
    "duration": 29,
    "start_time": "2023-03-14T16:27:07.912Z"
   },
   {
    "duration": 69,
    "start_time": "2023-03-14T16:27:07.943Z"
   },
   {
    "duration": 0,
    "start_time": "2023-03-14T16:27:08.014Z"
   },
   {
    "duration": 0,
    "start_time": "2023-03-14T16:27:08.015Z"
   },
   {
    "duration": 0,
    "start_time": "2023-03-14T16:27:08.016Z"
   },
   {
    "duration": 9,
    "start_time": "2023-03-14T16:27:27.971Z"
   },
   {
    "duration": 10,
    "start_time": "2023-03-14T16:27:44.396Z"
   },
   {
    "duration": 8,
    "start_time": "2023-03-14T17:05:22.994Z"
   },
   {
    "duration": 492,
    "start_time": "2023-03-14T17:05:30.399Z"
   },
   {
    "duration": 22,
    "start_time": "2023-03-14T17:05:30.893Z"
   },
   {
    "duration": 31,
    "start_time": "2023-03-14T17:05:30.917Z"
   },
   {
    "duration": 28,
    "start_time": "2023-03-14T17:05:30.949Z"
   },
   {
    "duration": 41,
    "start_time": "2023-03-14T17:05:30.979Z"
   },
   {
    "duration": 3,
    "start_time": "2023-03-14T17:05:31.022Z"
   },
   {
    "duration": 23,
    "start_time": "2023-03-14T17:05:31.026Z"
   },
   {
    "duration": 24,
    "start_time": "2023-03-14T17:05:31.051Z"
   },
   {
    "duration": 25,
    "start_time": "2023-03-14T17:05:31.076Z"
   },
   {
    "duration": 50,
    "start_time": "2023-03-14T17:05:31.103Z"
   },
   {
    "duration": 49,
    "start_time": "2023-03-14T17:05:31.154Z"
   },
   {
    "duration": 10,
    "start_time": "2023-03-14T17:05:31.205Z"
   },
   {
    "duration": 25,
    "start_time": "2023-03-14T17:05:31.216Z"
   },
   {
    "duration": 63,
    "start_time": "2023-03-14T17:05:31.243Z"
   },
   {
    "duration": 44,
    "start_time": "2023-03-14T17:05:31.307Z"
   },
   {
    "duration": 15,
    "start_time": "2023-03-14T17:05:31.352Z"
   },
   {
    "duration": 4,
    "start_time": "2023-03-14T17:05:31.368Z"
   },
   {
    "duration": 26,
    "start_time": "2023-03-14T17:05:31.374Z"
   },
   {
    "duration": 20,
    "start_time": "2023-03-14T17:05:31.401Z"
   },
   {
    "duration": 21,
    "start_time": "2023-03-14T17:05:31.423Z"
   },
   {
    "duration": 37,
    "start_time": "2023-03-14T17:05:31.446Z"
   },
   {
    "duration": 80,
    "start_time": "2023-03-14T17:05:31.484Z"
   },
   {
    "duration": 0,
    "start_time": "2023-03-14T17:05:31.565Z"
   },
   {
    "duration": 0,
    "start_time": "2023-03-14T17:05:31.566Z"
   },
   {
    "duration": 0,
    "start_time": "2023-03-14T17:05:31.567Z"
   },
   {
    "duration": 45,
    "start_time": "2023-03-14T17:07:31.452Z"
   },
   {
    "duration": 7,
    "start_time": "2023-03-14T17:07:54.810Z"
   },
   {
    "duration": 8,
    "start_time": "2023-03-14T17:08:12.834Z"
   },
   {
    "duration": 7,
    "start_time": "2023-03-14T17:08:38.840Z"
   },
   {
    "duration": 7,
    "start_time": "2023-03-14T17:08:54.815Z"
   },
   {
    "duration": 8,
    "start_time": "2023-03-14T17:10:12.550Z"
   },
   {
    "duration": 15,
    "start_time": "2023-03-14T17:11:06.340Z"
   },
   {
    "duration": 17,
    "start_time": "2023-03-14T17:11:16.100Z"
   },
   {
    "duration": 18,
    "start_time": "2023-03-14T17:13:14.739Z"
   },
   {
    "duration": 15,
    "start_time": "2023-03-14T17:13:19.547Z"
   },
   {
    "duration": 15,
    "start_time": "2023-03-14T17:13:39.953Z"
   },
   {
    "duration": 14,
    "start_time": "2023-03-14T17:15:06.065Z"
   },
   {
    "duration": 14,
    "start_time": "2023-03-14T17:18:20.008Z"
   },
   {
    "duration": 20,
    "start_time": "2023-03-14T17:18:26.492Z"
   },
   {
    "duration": 22,
    "start_time": "2023-03-14T17:18:40.519Z"
   },
   {
    "duration": 17,
    "start_time": "2023-03-14T17:18:58.039Z"
   },
   {
    "duration": 13,
    "start_time": "2023-03-14T17:19:39.653Z"
   },
   {
    "duration": 15,
    "start_time": "2023-03-14T17:20:07.800Z"
   },
   {
    "duration": 231,
    "start_time": "2023-03-14T17:21:30.306Z"
   },
   {
    "duration": 18,
    "start_time": "2023-03-14T17:21:40.801Z"
   },
   {
    "duration": 21,
    "start_time": "2023-03-14T17:22:21.430Z"
   },
   {
    "duration": 25,
    "start_time": "2023-03-14T17:24:42.092Z"
   },
   {
    "duration": 55,
    "start_time": "2023-03-14T17:25:26.636Z"
   },
   {
    "duration": 21,
    "start_time": "2023-03-14T17:25:31.800Z"
   },
   {
    "duration": 18,
    "start_time": "2023-03-14T17:25:51.044Z"
   },
   {
    "duration": 21,
    "start_time": "2023-03-14T17:25:55.428Z"
   },
   {
    "duration": 29,
    "start_time": "2023-03-14T17:26:54.731Z"
   },
   {
    "duration": 33,
    "start_time": "2023-03-14T17:27:10.599Z"
   },
   {
    "duration": 21,
    "start_time": "2023-03-14T17:27:29.039Z"
   },
   {
    "duration": 17,
    "start_time": "2023-03-14T17:27:31.597Z"
   },
   {
    "duration": 68,
    "start_time": "2023-03-14T17:27:40.917Z"
   },
   {
    "duration": 43,
    "start_time": "2023-03-14T17:27:49.617Z"
   },
   {
    "duration": 39,
    "start_time": "2023-03-14T17:27:56.583Z"
   },
   {
    "duration": 17,
    "start_time": "2023-03-14T17:28:06.849Z"
   },
   {
    "duration": 22,
    "start_time": "2023-03-14T17:28:10.735Z"
   },
   {
    "duration": 23,
    "start_time": "2023-03-14T17:28:32.103Z"
   },
   {
    "duration": 21,
    "start_time": "2023-03-14T17:51:40.493Z"
   },
   {
    "duration": 451,
    "start_time": "2023-03-14T17:58:03.810Z"
   },
   {
    "duration": 5,
    "start_time": "2023-03-14T17:58:13.565Z"
   },
   {
    "duration": 5,
    "start_time": "2023-03-14T17:58:32.196Z"
   },
   {
    "duration": 749,
    "start_time": "2023-03-14T17:59:16.214Z"
   },
   {
    "duration": 5,
    "start_time": "2023-03-14T17:59:26.544Z"
   },
   {
    "duration": 6,
    "start_time": "2023-03-14T18:04:52.107Z"
   },
   {
    "duration": 5,
    "start_time": "2023-03-14T18:05:07.035Z"
   },
   {
    "duration": 5,
    "start_time": "2023-03-14T18:05:37.200Z"
   },
   {
    "duration": 5,
    "start_time": "2023-03-14T18:05:48.665Z"
   },
   {
    "duration": 6,
    "start_time": "2023-03-14T18:06:56.214Z"
   },
   {
    "duration": 5,
    "start_time": "2023-03-14T18:07:37.943Z"
   },
   {
    "duration": 5,
    "start_time": "2023-03-14T18:07:50.351Z"
   },
   {
    "duration": 5,
    "start_time": "2023-03-14T18:08:36.399Z"
   },
   {
    "duration": 7,
    "start_time": "2023-03-14T18:08:46.625Z"
   },
   {
    "duration": 5,
    "start_time": "2023-03-14T18:08:55.447Z"
   },
   {
    "duration": 5,
    "start_time": "2023-03-14T18:09:09.825Z"
   },
   {
    "duration": 5,
    "start_time": "2023-03-14T18:09:17.328Z"
   },
   {
    "duration": 8,
    "start_time": "2023-03-14T18:10:44.289Z"
   },
   {
    "duration": 6,
    "start_time": "2023-03-14T18:10:50.905Z"
   },
   {
    "duration": 5,
    "start_time": "2023-03-14T18:11:05.026Z"
   },
   {
    "duration": 5,
    "start_time": "2023-03-14T18:11:17.460Z"
   },
   {
    "duration": 4,
    "start_time": "2023-03-14T18:11:24.513Z"
   },
   {
    "duration": 627,
    "start_time": "2023-03-14T18:22:00.153Z"
   },
   {
    "duration": 515,
    "start_time": "2023-03-14T18:23:06.099Z"
   },
   {
    "duration": 28,
    "start_time": "2023-03-14T18:23:06.616Z"
   },
   {
    "duration": 21,
    "start_time": "2023-03-14T18:23:06.646Z"
   },
   {
    "duration": 16,
    "start_time": "2023-03-14T18:23:06.670Z"
   },
   {
    "duration": 77,
    "start_time": "2023-03-14T18:23:06.690Z"
   },
   {
    "duration": 4,
    "start_time": "2023-03-14T18:23:06.769Z"
   },
   {
    "duration": 24,
    "start_time": "2023-03-14T18:23:06.776Z"
   },
   {
    "duration": 13,
    "start_time": "2023-03-14T18:23:06.802Z"
   },
   {
    "duration": 22,
    "start_time": "2023-03-14T18:23:06.817Z"
   },
   {
    "duration": 10,
    "start_time": "2023-03-14T18:23:06.841Z"
   },
   {
    "duration": 53,
    "start_time": "2023-03-14T18:23:06.853Z"
   },
   {
    "duration": 22,
    "start_time": "2023-03-14T18:23:06.908Z"
   },
   {
    "duration": 4,
    "start_time": "2023-03-14T18:23:06.932Z"
   },
   {
    "duration": 23,
    "start_time": "2023-03-14T18:23:06.938Z"
   },
   {
    "duration": 28,
    "start_time": "2023-03-14T18:23:06.962Z"
   },
   {
    "duration": 19,
    "start_time": "2023-03-14T18:23:06.991Z"
   },
   {
    "duration": 4,
    "start_time": "2023-03-14T18:23:07.011Z"
   },
   {
    "duration": 26,
    "start_time": "2023-03-14T18:23:07.017Z"
   },
   {
    "duration": 14,
    "start_time": "2023-03-14T18:23:07.045Z"
   },
   {
    "duration": 4,
    "start_time": "2023-03-14T18:23:07.060Z"
   },
   {
    "duration": 17,
    "start_time": "2023-03-14T18:23:07.066Z"
   },
   {
    "duration": 28,
    "start_time": "2023-03-14T18:23:07.085Z"
   },
   {
    "duration": 48,
    "start_time": "2023-03-14T18:23:07.130Z"
   },
   {
    "duration": 0,
    "start_time": "2023-03-14T18:23:07.180Z"
   },
   {
    "duration": 0,
    "start_time": "2023-03-14T18:23:07.181Z"
   },
   {
    "duration": 0,
    "start_time": "2023-03-14T18:23:07.183Z"
   },
   {
    "duration": 0,
    "start_time": "2023-03-14T18:23:07.184Z"
   },
   {
    "duration": 548,
    "start_time": "2023-03-14T18:23:19.297Z"
   },
   {
    "duration": 620,
    "start_time": "2023-03-14T18:23:49.858Z"
   },
   {
    "duration": 597,
    "start_time": "2023-03-14T18:24:45.620Z"
   },
   {
    "duration": 11,
    "start_time": "2023-03-14T18:25:44.368Z"
   },
   {
    "duration": 7,
    "start_time": "2023-03-14T18:26:04.628Z"
   },
   {
    "duration": 2,
    "start_time": "2023-03-14T18:29:43.591Z"
   },
   {
    "duration": 4,
    "start_time": "2023-03-14T18:29:49.829Z"
   },
   {
    "duration": 11,
    "start_time": "2023-03-14T18:29:56.543Z"
   },
   {
    "duration": 13,
    "start_time": "2023-03-14T18:30:22.215Z"
   },
   {
    "duration": 20,
    "start_time": "2023-03-14T18:33:11.038Z"
   },
   {
    "duration": 10,
    "start_time": "2023-03-14T18:34:01.240Z"
   },
   {
    "duration": 17,
    "start_time": "2023-03-14T18:34:39.028Z"
   },
   {
    "duration": 17,
    "start_time": "2023-03-14T18:34:57.471Z"
   },
   {
    "duration": 26,
    "start_time": "2023-03-14T18:35:11.017Z"
   },
   {
    "duration": 10,
    "start_time": "2023-03-14T18:35:53.796Z"
   },
   {
    "duration": 21,
    "start_time": "2023-03-14T18:36:44.539Z"
   },
   {
    "duration": 11,
    "start_time": "2023-03-14T18:37:07.415Z"
   },
   {
    "duration": 15,
    "start_time": "2023-03-14T18:37:12.805Z"
   },
   {
    "duration": 10,
    "start_time": "2023-03-14T18:38:41.996Z"
   },
   {
    "duration": 9,
    "start_time": "2023-03-14T18:39:08.729Z"
   },
   {
    "duration": 12,
    "start_time": "2023-03-14T18:39:24.701Z"
   },
   {
    "duration": 8,
    "start_time": "2023-03-14T18:40:20.433Z"
   },
   {
    "duration": 12,
    "start_time": "2023-03-14T18:40:29.268Z"
   },
   {
    "duration": 17,
    "start_time": "2023-03-14T18:41:19.071Z"
   },
   {
    "duration": 16,
    "start_time": "2023-03-14T18:41:29.107Z"
   },
   {
    "duration": 17,
    "start_time": "2023-03-14T18:42:05.275Z"
   },
   {
    "duration": 19,
    "start_time": "2023-03-14T18:42:09.900Z"
   },
   {
    "duration": 20,
    "start_time": "2023-03-14T18:42:14.402Z"
   },
   {
    "duration": 21,
    "start_time": "2023-03-14T18:42:35.833Z"
   },
   {
    "duration": 4,
    "start_time": "2023-03-14T18:46:53.135Z"
   },
   {
    "duration": 9,
    "start_time": "2023-03-14T18:47:06.616Z"
   },
   {
    "duration": 12,
    "start_time": "2023-03-14T18:54:03.313Z"
   },
   {
    "duration": 16,
    "start_time": "2023-03-14T18:54:08.805Z"
   },
   {
    "duration": 6,
    "start_time": "2023-03-14T18:57:10.917Z"
   },
   {
    "duration": 12,
    "start_time": "2023-03-14T18:57:14.153Z"
   },
   {
    "duration": 14,
    "start_time": "2023-03-14T18:57:42.849Z"
   },
   {
    "duration": 12,
    "start_time": "2023-03-14T18:58:08.737Z"
   },
   {
    "duration": 16,
    "start_time": "2023-03-14T18:58:16.906Z"
   },
   {
    "duration": 54,
    "start_time": "2023-03-14T18:59:52.600Z"
   },
   {
    "duration": 13,
    "start_time": "2023-03-14T18:59:57.294Z"
   },
   {
    "duration": 18,
    "start_time": "2023-03-14T19:00:06.292Z"
   },
   {
    "duration": 13,
    "start_time": "2023-03-14T19:00:21.340Z"
   },
   {
    "duration": 13,
    "start_time": "2023-03-14T19:00:29.831Z"
   },
   {
    "duration": 12,
    "start_time": "2023-03-14T19:06:02.986Z"
   },
   {
    "duration": 19,
    "start_time": "2023-03-14T19:06:12.134Z"
   },
   {
    "duration": 17,
    "start_time": "2023-03-14T19:06:21.482Z"
   },
   {
    "duration": 500,
    "start_time": "2023-03-14T19:26:28.310Z"
   },
   {
    "duration": 21,
    "start_time": "2023-03-14T19:26:28.812Z"
   },
   {
    "duration": 14,
    "start_time": "2023-03-14T19:26:28.835Z"
   },
   {
    "duration": 12,
    "start_time": "2023-03-14T19:26:28.851Z"
   },
   {
    "duration": 37,
    "start_time": "2023-03-14T19:26:28.865Z"
   },
   {
    "duration": 3,
    "start_time": "2023-03-14T19:26:28.904Z"
   },
   {
    "duration": 27,
    "start_time": "2023-03-14T19:26:28.908Z"
   },
   {
    "duration": 4,
    "start_time": "2023-03-14T19:26:28.937Z"
   },
   {
    "duration": 10,
    "start_time": "2023-03-14T19:26:28.943Z"
   },
   {
    "duration": 4,
    "start_time": "2023-03-14T19:26:28.955Z"
   },
   {
    "duration": 39,
    "start_time": "2023-03-14T19:26:28.961Z"
   },
   {
    "duration": 35,
    "start_time": "2023-03-14T19:26:29.002Z"
   },
   {
    "duration": 7,
    "start_time": "2023-03-14T19:26:29.038Z"
   },
   {
    "duration": 12,
    "start_time": "2023-03-14T19:26:29.047Z"
   },
   {
    "duration": 19,
    "start_time": "2023-03-14T19:26:29.060Z"
   },
   {
    "duration": 16,
    "start_time": "2023-03-14T19:26:29.080Z"
   },
   {
    "duration": 3,
    "start_time": "2023-03-14T19:26:29.098Z"
   },
   {
    "duration": 31,
    "start_time": "2023-03-14T19:26:29.103Z"
   },
   {
    "duration": 6,
    "start_time": "2023-03-14T19:26:29.136Z"
   },
   {
    "duration": 4,
    "start_time": "2023-03-14T19:26:29.143Z"
   },
   {
    "duration": 14,
    "start_time": "2023-03-14T19:26:29.149Z"
   },
   {
    "duration": 39,
    "start_time": "2023-03-14T19:26:29.164Z"
   },
   {
    "duration": 31,
    "start_time": "2023-03-14T19:26:29.205Z"
   },
   {
    "duration": 25,
    "start_time": "2023-03-14T19:26:29.237Z"
   },
   {
    "duration": 13,
    "start_time": "2023-03-14T19:26:29.264Z"
   },
   {
    "duration": 20,
    "start_time": "2023-03-14T19:26:29.278Z"
   },
   {
    "duration": 496,
    "start_time": "2023-03-15T07:48:35.904Z"
   },
   {
    "duration": 25,
    "start_time": "2023-03-15T07:48:36.403Z"
   },
   {
    "duration": 17,
    "start_time": "2023-03-15T07:48:36.430Z"
   },
   {
    "duration": 32,
    "start_time": "2023-03-15T07:48:36.449Z"
   },
   {
    "duration": 43,
    "start_time": "2023-03-15T07:48:36.484Z"
   },
   {
    "duration": 4,
    "start_time": "2023-03-15T07:48:36.530Z"
   },
   {
    "duration": 39,
    "start_time": "2023-03-15T07:48:36.537Z"
   },
   {
    "duration": 5,
    "start_time": "2023-03-15T07:48:36.579Z"
   },
   {
    "duration": 14,
    "start_time": "2023-03-15T07:48:36.586Z"
   },
   {
    "duration": 14,
    "start_time": "2023-03-15T07:48:36.602Z"
   },
   {
    "duration": 55,
    "start_time": "2023-03-15T07:48:36.618Z"
   },
   {
    "duration": 11,
    "start_time": "2023-03-15T07:48:36.675Z"
   },
   {
    "duration": 4,
    "start_time": "2023-03-15T07:48:36.688Z"
   },
   {
    "duration": 14,
    "start_time": "2023-03-15T07:48:36.695Z"
   },
   {
    "duration": 24,
    "start_time": "2023-03-15T07:48:36.711Z"
   },
   {
    "duration": 48,
    "start_time": "2023-03-15T07:48:36.737Z"
   },
   {
    "duration": 4,
    "start_time": "2023-03-15T07:48:36.788Z"
   },
   {
    "duration": 19,
    "start_time": "2023-03-15T07:48:36.794Z"
   },
   {
    "duration": 11,
    "start_time": "2023-03-15T07:48:36.815Z"
   },
   {
    "duration": 4,
    "start_time": "2023-03-15T07:48:36.828Z"
   },
   {
    "duration": 14,
    "start_time": "2023-03-15T07:48:36.833Z"
   },
   {
    "duration": 54,
    "start_time": "2023-03-15T07:48:36.849Z"
   },
   {
    "duration": 10,
    "start_time": "2023-03-15T07:48:36.904Z"
   },
   {
    "duration": 23,
    "start_time": "2023-03-15T07:48:36.916Z"
   },
   {
    "duration": 41,
    "start_time": "2023-03-15T07:48:36.944Z"
   },
   {
    "duration": 22,
    "start_time": "2023-03-15T07:48:36.987Z"
   },
   {
    "duration": 50,
    "start_time": "2023-03-15T08:38:40.714Z"
   },
   {
    "duration": 701,
    "start_time": "2023-03-15T08:38:48.637Z"
   },
   {
    "duration": 21,
    "start_time": "2023-03-15T08:38:49.340Z"
   },
   {
    "duration": 14,
    "start_time": "2023-03-15T08:38:49.363Z"
   },
   {
    "duration": 10,
    "start_time": "2023-03-15T08:38:49.379Z"
   },
   {
    "duration": 34,
    "start_time": "2023-03-15T08:38:49.390Z"
   },
   {
    "duration": 3,
    "start_time": "2023-03-15T08:38:49.426Z"
   },
   {
    "duration": 34,
    "start_time": "2023-03-15T08:38:49.431Z"
   },
   {
    "duration": 7,
    "start_time": "2023-03-15T08:38:49.467Z"
   },
   {
    "duration": 10,
    "start_time": "2023-03-15T08:38:49.476Z"
   },
   {
    "duration": 4,
    "start_time": "2023-03-15T08:38:49.489Z"
   },
   {
    "duration": 34,
    "start_time": "2023-03-15T08:38:49.495Z"
   },
   {
    "duration": 32,
    "start_time": "2023-03-15T08:38:49.531Z"
   },
   {
    "duration": 4,
    "start_time": "2023-03-15T08:38:49.564Z"
   },
   {
    "duration": 12,
    "start_time": "2023-03-15T08:38:49.569Z"
   },
   {
    "duration": 18,
    "start_time": "2023-03-15T08:38:49.583Z"
   },
   {
    "duration": 18,
    "start_time": "2023-03-15T08:38:49.602Z"
   },
   {
    "duration": 4,
    "start_time": "2023-03-15T08:38:49.621Z"
   },
   {
    "duration": 36,
    "start_time": "2023-03-15T08:38:49.627Z"
   },
   {
    "duration": 7,
    "start_time": "2023-03-15T08:38:49.665Z"
   },
   {
    "duration": 4,
    "start_time": "2023-03-15T08:38:49.673Z"
   },
   {
    "duration": 13,
    "start_time": "2023-03-15T08:38:49.679Z"
   },
   {
    "duration": 26,
    "start_time": "2023-03-15T08:38:49.694Z"
   },
   {
    "duration": 41,
    "start_time": "2023-03-15T08:38:49.722Z"
   },
   {
    "duration": 21,
    "start_time": "2023-03-15T08:38:49.764Z"
   },
   {
    "duration": 12,
    "start_time": "2023-03-15T08:38:49.786Z"
   },
   {
    "duration": 11,
    "start_time": "2023-03-15T08:38:49.799Z"
   },
   {
    "duration": 12,
    "start_time": "2023-03-15T08:39:18.351Z"
   },
   {
    "duration": 17,
    "start_time": "2023-03-15T08:39:26.608Z"
   },
   {
    "duration": 1345,
    "start_time": "2023-03-15T08:41:36.160Z"
   },
   {
    "duration": 18,
    "start_time": "2023-03-15T08:43:43.414Z"
   },
   {
    "duration": 18,
    "start_time": "2023-03-15T08:46:22.318Z"
   },
   {
    "duration": 16,
    "start_time": "2023-03-15T08:48:17.263Z"
   },
   {
    "duration": 15,
    "start_time": "2023-03-15T08:48:37.734Z"
   },
   {
    "duration": 22,
    "start_time": "2023-03-15T08:49:42.416Z"
   },
   {
    "duration": 70,
    "start_time": "2023-03-15T09:15:46.432Z"
   },
   {
    "duration": 50,
    "start_time": "2023-03-15T09:15:53.223Z"
   },
   {
    "duration": 551,
    "start_time": "2023-03-15T14:50:16.910Z"
   },
   {
    "duration": 29,
    "start_time": "2023-03-15T14:50:17.464Z"
   },
   {
    "duration": 26,
    "start_time": "2023-03-15T14:50:17.495Z"
   },
   {
    "duration": 17,
    "start_time": "2023-03-15T14:50:17.523Z"
   },
   {
    "duration": 76,
    "start_time": "2023-03-15T14:50:17.545Z"
   },
   {
    "duration": 4,
    "start_time": "2023-03-15T14:50:17.623Z"
   },
   {
    "duration": 12,
    "start_time": "2023-03-15T14:50:17.630Z"
   },
   {
    "duration": 10,
    "start_time": "2023-03-15T14:50:17.644Z"
   },
   {
    "duration": 38,
    "start_time": "2023-03-15T14:50:17.656Z"
   },
   {
    "duration": 9,
    "start_time": "2023-03-15T14:50:17.697Z"
   },
   {
    "duration": 39,
    "start_time": "2023-03-15T14:50:17.709Z"
   },
   {
    "duration": 14,
    "start_time": "2023-03-15T14:50:17.750Z"
   },
   {
    "duration": 38,
    "start_time": "2023-03-15T14:50:17.766Z"
   },
   {
    "duration": 18,
    "start_time": "2023-03-15T14:50:17.808Z"
   },
   {
    "duration": 28,
    "start_time": "2023-03-15T14:50:17.832Z"
   },
   {
    "duration": 30,
    "start_time": "2023-03-15T14:50:17.862Z"
   },
   {
    "duration": 5,
    "start_time": "2023-03-15T14:50:17.894Z"
   },
   {
    "duration": 16,
    "start_time": "2023-03-15T14:50:17.902Z"
   },
   {
    "duration": 9,
    "start_time": "2023-03-15T14:50:17.921Z"
   },
   {
    "duration": 9,
    "start_time": "2023-03-15T14:50:17.932Z"
   },
   {
    "duration": 15,
    "start_time": "2023-03-15T14:50:17.943Z"
   },
   {
    "duration": 44,
    "start_time": "2023-03-15T14:50:17.989Z"
   },
   {
    "duration": 11,
    "start_time": "2023-03-15T14:50:18.035Z"
   },
   {
    "duration": 45,
    "start_time": "2023-03-15T14:50:18.047Z"
   },
   {
    "duration": 19,
    "start_time": "2023-03-15T14:50:18.094Z"
   },
   {
    "duration": 24,
    "start_time": "2023-03-15T14:50:18.115Z"
   },
   {
    "duration": 20,
    "start_time": "2023-03-15T14:51:10.604Z"
   },
   {
    "duration": 13,
    "start_time": "2023-03-15T14:51:58.597Z"
   },
   {
    "duration": 16,
    "start_time": "2023-03-15T14:52:27.810Z"
   }
  ],
  "celltoolbar": "Edit Metadata",
  "colab": {
   "provenance": []
  },
  "kernelspec": {
   "display_name": "Python 3 (ipykernel)",
   "language": "python",
   "name": "python3"
  },
  "language_info": {
   "codemirror_mode": {
    "name": "ipython",
    "version": 3
   },
   "file_extension": ".py",
   "mimetype": "text/x-python",
   "name": "python",
   "nbconvert_exporter": "python",
   "pygments_lexer": "ipython3",
   "version": "3.10.9"
  },
  "toc": {
   "base_numbering": 1,
   "nav_menu": {},
   "number_sections": true,
   "sideBar": true,
   "skip_h1_title": true,
   "title_cell": "Table of Contents",
   "title_sidebar": "Contents",
   "toc_cell": false,
   "toc_position": {},
   "toc_section_display": true,
   "toc_window_display": false
  }
 },
 "nbformat": 4,
 "nbformat_minor": 5
}
