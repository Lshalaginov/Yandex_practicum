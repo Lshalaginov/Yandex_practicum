{
 "cells": [
  {
   "cell_type": "markdown",
   "metadata": {},
   "source": [
    "# Планирование рекламных компаний для магазина компьютерных игр на 2017 год #"
   ]
  },
  {
   "cell_type": "markdown",
   "metadata": {},
   "source": [
    "## Описание проекта ##"
   ]
  },
  {
   "cell_type": "markdown",
   "metadata": {},
   "source": [
    "Интернет-магазине «Стримчик» продаёт по всему миру компьютерные игры. Из открытых источников доступны исторические данные о продажах игр, оценки пользователей и экспертов, жанры и платформы (например, Xbox или PlayStation). Необходимо выявить определяющие успешность игры закономерности. Это позволит сделать ставку на потенциально популярный продукт и спланировать рекламные кампании."
   ]
  },
  {
   "cell_type": "markdown",
   "metadata": {},
   "source": [
    "## Описание данных ##"
   ]
  },
  {
   "cell_type": "markdown",
   "metadata": {},
   "source": [
    "- Name — название игры\n",
    "- Platform — платформа\n",
    "- Year_of_Release — год выпуска\n",
    "- Genre — жанр игры\n",
    "- NA_sales — продажи в Северной Америке (миллионы проданных копий)\n",
    "- EU_sales — продажи в Европе (миллионы проданных копий)\n",
    "- JP_sales — продажи в Японии (миллионы проданных копий)\n",
    "- Other_sales — продажи в других странах (миллионы проданных копий)\n",
    "- Critic_Score — оценка критиков (максимум 100)\n",
    "- User_Score — оценка пользователей (максимум 10)\n",
    "- Rating — рейтинг от организации ESRB (англ. Entertainment Software Rating Board). Эта ассоциация определяет рейтинг компьютерных игр и присваивает им подходящую возрастную категорию."
   ]
  },
  {
   "cell_type": "markdown",
   "metadata": {},
   "source": [
    "## Подготовка и обработка данных ##"
   ]
  },
  {
   "cell_type": "code",
   "execution_count": 1,
   "metadata": {},
   "outputs": [],
   "source": [
    "import pandas as pd\n",
    "import matplotlib.pyplot as plt\n",
    "import seaborn as sns\n",
    "import warnings\n",
    "warnings.filterwarnings('ignore')"
   ]
  },
  {
   "cell_type": "code",
   "execution_count": 2,
   "metadata": {},
   "outputs": [
    {
     "data": {
      "text/html": [
       "<div>\n",
       "<style scoped>\n",
       "    .dataframe tbody tr th:only-of-type {\n",
       "        vertical-align: middle;\n",
       "    }\n",
       "\n",
       "    .dataframe tbody tr th {\n",
       "        vertical-align: top;\n",
       "    }\n",
       "\n",
       "    .dataframe thead th {\n",
       "        text-align: right;\n",
       "    }\n",
       "</style>\n",
       "<table border=\"1\" class=\"dataframe\">\n",
       "  <thead>\n",
       "    <tr style=\"text-align: right;\">\n",
       "      <th></th>\n",
       "      <th>Name</th>\n",
       "      <th>Platform</th>\n",
       "      <th>Year_of_Release</th>\n",
       "      <th>Genre</th>\n",
       "      <th>NA_sales</th>\n",
       "      <th>EU_sales</th>\n",
       "      <th>JP_sales</th>\n",
       "      <th>Other_sales</th>\n",
       "      <th>Critic_Score</th>\n",
       "      <th>User_Score</th>\n",
       "      <th>Rating</th>\n",
       "    </tr>\n",
       "  </thead>\n",
       "  <tbody>\n",
       "    <tr>\n",
       "      <th>0</th>\n",
       "      <td>Wii Sports</td>\n",
       "      <td>Wii</td>\n",
       "      <td>2006.0</td>\n",
       "      <td>Sports</td>\n",
       "      <td>41.36</td>\n",
       "      <td>28.96</td>\n",
       "      <td>3.77</td>\n",
       "      <td>8.45</td>\n",
       "      <td>76.0</td>\n",
       "      <td>8</td>\n",
       "      <td>E</td>\n",
       "    </tr>\n",
       "    <tr>\n",
       "      <th>1</th>\n",
       "      <td>Super Mario Bros.</td>\n",
       "      <td>NES</td>\n",
       "      <td>1985.0</td>\n",
       "      <td>Platform</td>\n",
       "      <td>29.08</td>\n",
       "      <td>3.58</td>\n",
       "      <td>6.81</td>\n",
       "      <td>0.77</td>\n",
       "      <td>NaN</td>\n",
       "      <td>NaN</td>\n",
       "      <td>NaN</td>\n",
       "    </tr>\n",
       "    <tr>\n",
       "      <th>2</th>\n",
       "      <td>Mario Kart Wii</td>\n",
       "      <td>Wii</td>\n",
       "      <td>2008.0</td>\n",
       "      <td>Racing</td>\n",
       "      <td>15.68</td>\n",
       "      <td>12.76</td>\n",
       "      <td>3.79</td>\n",
       "      <td>3.29</td>\n",
       "      <td>82.0</td>\n",
       "      <td>8.3</td>\n",
       "      <td>E</td>\n",
       "    </tr>\n",
       "    <tr>\n",
       "      <th>3</th>\n",
       "      <td>Wii Sports Resort</td>\n",
       "      <td>Wii</td>\n",
       "      <td>2009.0</td>\n",
       "      <td>Sports</td>\n",
       "      <td>15.61</td>\n",
       "      <td>10.93</td>\n",
       "      <td>3.28</td>\n",
       "      <td>2.95</td>\n",
       "      <td>80.0</td>\n",
       "      <td>8</td>\n",
       "      <td>E</td>\n",
       "    </tr>\n",
       "    <tr>\n",
       "      <th>4</th>\n",
       "      <td>Pokemon Red/Pokemon Blue</td>\n",
       "      <td>GB</td>\n",
       "      <td>1996.0</td>\n",
       "      <td>Role-Playing</td>\n",
       "      <td>11.27</td>\n",
       "      <td>8.89</td>\n",
       "      <td>10.22</td>\n",
       "      <td>1.00</td>\n",
       "      <td>NaN</td>\n",
       "      <td>NaN</td>\n",
       "      <td>NaN</td>\n",
       "    </tr>\n",
       "  </tbody>\n",
       "</table>\n",
       "</div>"
      ],
      "text/plain": [
       "                       Name Platform  Year_of_Release         Genre  NA_sales  \\\n",
       "0                Wii Sports      Wii           2006.0        Sports     41.36   \n",
       "1         Super Mario Bros.      NES           1985.0      Platform     29.08   \n",
       "2            Mario Kart Wii      Wii           2008.0        Racing     15.68   \n",
       "3         Wii Sports Resort      Wii           2009.0        Sports     15.61   \n",
       "4  Pokemon Red/Pokemon Blue       GB           1996.0  Role-Playing     11.27   \n",
       "\n",
       "   EU_sales  JP_sales  Other_sales  Critic_Score User_Score Rating  \n",
       "0     28.96      3.77         8.45          76.0          8      E  \n",
       "1      3.58      6.81         0.77           NaN        NaN    NaN  \n",
       "2     12.76      3.79         3.29          82.0        8.3      E  \n",
       "3     10.93      3.28         2.95          80.0          8      E  \n",
       "4      8.89     10.22         1.00           NaN        NaN    NaN  "
      ]
     },
     "execution_count": 2,
     "metadata": {},
     "output_type": "execute_result"
    }
   ],
   "source": [
    "data=pd.read_csv('/datasets/games.csv')\n",
    "data.head()"
   ]
  },
  {
   "cell_type": "markdown",
   "metadata": {},
   "source": [
    "Осуществим первичное знакомство с данными: выясним тип данных, уникальные значения, количество пропусков"
   ]
  },
  {
   "cell_type": "code",
   "execution_count": 3,
   "metadata": {},
   "outputs": [
    {
     "data": {
      "text/html": [
       "<div>\n",
       "<style scoped>\n",
       "    .dataframe tbody tr th:only-of-type {\n",
       "        vertical-align: middle;\n",
       "    }\n",
       "\n",
       "    .dataframe tbody tr th {\n",
       "        vertical-align: top;\n",
       "    }\n",
       "\n",
       "    .dataframe thead th {\n",
       "        text-align: right;\n",
       "    }\n",
       "</style>\n",
       "<table border=\"1\" class=\"dataframe\">\n",
       "  <thead>\n",
       "    <tr style=\"text-align: right;\">\n",
       "      <th></th>\n",
       "      <th>Значения</th>\n",
       "      <th>тип данных</th>\n",
       "      <th>Кол-во уникальных значений</th>\n",
       "    </tr>\n",
       "  </thead>\n",
       "  <tbody>\n",
       "    <tr>\n",
       "      <th>Year_of_Release</th>\n",
       "      <td>[2006.0, 1985.0, 2008.0, 2009.0, 1996.0, 1989....</td>\n",
       "      <td>float64</td>\n",
       "      <td>37</td>\n",
       "    </tr>\n",
       "    <tr>\n",
       "      <th>NA_sales</th>\n",
       "      <td>[41.36, 29.08, 15.68, 15.61, 11.27, 23.2, 11.2...</td>\n",
       "      <td>float64</td>\n",
       "      <td>402</td>\n",
       "    </tr>\n",
       "    <tr>\n",
       "      <th>EU_sales</th>\n",
       "      <td>[28.96, 3.58, 12.76, 10.93, 8.89, 2.26, 9.14, ...</td>\n",
       "      <td>float64</td>\n",
       "      <td>307</td>\n",
       "    </tr>\n",
       "    <tr>\n",
       "      <th>JP_sales</th>\n",
       "      <td>[3.77, 6.81, 3.79, 3.28, 10.22, 4.22, 6.5, 2.9...</td>\n",
       "      <td>float64</td>\n",
       "      <td>244</td>\n",
       "    </tr>\n",
       "    <tr>\n",
       "      <th>Other_sales</th>\n",
       "      <td>[8.45, 0.77, 3.29, 2.95, 1.0, 0.58, 2.88, 2.84...</td>\n",
       "      <td>float64</td>\n",
       "      <td>155</td>\n",
       "    </tr>\n",
       "    <tr>\n",
       "      <th>Critic_Score</th>\n",
       "      <td>[76.0, nan, 82.0, 80.0, 89.0, 58.0, 87.0, 91.0...</td>\n",
       "      <td>float64</td>\n",
       "      <td>82</td>\n",
       "    </tr>\n",
       "    <tr>\n",
       "      <th>Name</th>\n",
       "      <td>[Wii Sports, Super Mario Bros., Mario Kart Wii...</td>\n",
       "      <td>object</td>\n",
       "      <td>11559</td>\n",
       "    </tr>\n",
       "    <tr>\n",
       "      <th>Platform</th>\n",
       "      <td>[Wii, NES, GB, DS, X360, PS3, PS2, SNES, GBA, ...</td>\n",
       "      <td>object</td>\n",
       "      <td>31</td>\n",
       "    </tr>\n",
       "    <tr>\n",
       "      <th>Genre</th>\n",
       "      <td>[Sports, Platform, Racing, Role-Playing, Puzzl...</td>\n",
       "      <td>object</td>\n",
       "      <td>12</td>\n",
       "    </tr>\n",
       "    <tr>\n",
       "      <th>User_Score</th>\n",
       "      <td>[8, nan, 8.3, 8.5, 6.6, 8.4, 8.6, 7.7, 6.3, 7....</td>\n",
       "      <td>object</td>\n",
       "      <td>96</td>\n",
       "    </tr>\n",
       "    <tr>\n",
       "      <th>Rating</th>\n",
       "      <td>[E, nan, M, T, E10+, K-A, AO, EC, RP]</td>\n",
       "      <td>object</td>\n",
       "      <td>8</td>\n",
       "    </tr>\n",
       "  </tbody>\n",
       "</table>\n",
       "</div>"
      ],
      "text/plain": [
       "                                                          Значения тип данных  \\\n",
       "Year_of_Release  [2006.0, 1985.0, 2008.0, 2009.0, 1996.0, 1989....    float64   \n",
       "NA_sales         [41.36, 29.08, 15.68, 15.61, 11.27, 23.2, 11.2...    float64   \n",
       "EU_sales         [28.96, 3.58, 12.76, 10.93, 8.89, 2.26, 9.14, ...    float64   \n",
       "JP_sales         [3.77, 6.81, 3.79, 3.28, 10.22, 4.22, 6.5, 2.9...    float64   \n",
       "Other_sales      [8.45, 0.77, 3.29, 2.95, 1.0, 0.58, 2.88, 2.84...    float64   \n",
       "Critic_Score     [76.0, nan, 82.0, 80.0, 89.0, 58.0, 87.0, 91.0...    float64   \n",
       "Name             [Wii Sports, Super Mario Bros., Mario Kart Wii...     object   \n",
       "Platform         [Wii, NES, GB, DS, X360, PS3, PS2, SNES, GBA, ...     object   \n",
       "Genre            [Sports, Platform, Racing, Role-Playing, Puzzl...     object   \n",
       "User_Score       [8, nan, 8.3, 8.5, 6.6, 8.4, 8.6, 7.7, 6.3, 7....     object   \n",
       "Rating                       [E, nan, M, T, E10+, K-A, AO, EC, RP]     object   \n",
       "\n",
       "                Кол-во уникальных значений  \n",
       "Year_of_Release                         37  \n",
       "NA_sales                               402  \n",
       "EU_sales                               307  \n",
       "JP_sales                               244  \n",
       "Other_sales                            155  \n",
       "Critic_Score                            82  \n",
       "Name                                 11559  \n",
       "Platform                                31  \n",
       "Genre                                   12  \n",
       "User_Score                              96  \n",
       "Rating                                   8  "
      ]
     },
     "execution_count": 3,
     "metadata": {},
     "output_type": "execute_result"
    }
   ],
   "source": [
    "#Создадим функцию для описания данных\n",
    "def describe_cols(data):\n",
    "    \n",
    "    values = pd.DataFrame()\n",
    "    \n",
    "    for col in data.columns:\n",
    "        values[col] = [data[col].unique(), data[col].dtypes, data[col].nunique()]\n",
    "        \n",
    "    return values.transpose().sort_values(by=1, ascending=True).rename({0: 'Значения', 1: 'тип данных', 2: 'Кол-во уникальных значений'}, axis=1)\n",
    "\n",
    "describe_cols(data)"
   ]
  },
  {
   "cell_type": "code",
   "execution_count": 4,
   "metadata": {},
   "outputs": [
    {
     "data": {
      "text/html": [
       "<div>\n",
       "<style scoped>\n",
       "    .dataframe tbody tr th:only-of-type {\n",
       "        vertical-align: middle;\n",
       "    }\n",
       "\n",
       "    .dataframe tbody tr th {\n",
       "        vertical-align: top;\n",
       "    }\n",
       "\n",
       "    .dataframe thead th {\n",
       "        text-align: right;\n",
       "    }\n",
       "</style>\n",
       "<table border=\"1\" class=\"dataframe\">\n",
       "  <thead>\n",
       "    <tr style=\"text-align: right;\">\n",
       "      <th></th>\n",
       "      <th>column_name</th>\n",
       "      <th>num_missing</th>\n",
       "      <th>percent_missing</th>\n",
       "    </tr>\n",
       "  </thead>\n",
       "  <tbody>\n",
       "    <tr>\n",
       "      <th>Name</th>\n",
       "      <td>Name</td>\n",
       "      <td>2</td>\n",
       "      <td>0.01</td>\n",
       "    </tr>\n",
       "    <tr>\n",
       "      <th>Platform</th>\n",
       "      <td>Platform</td>\n",
       "      <td>0</td>\n",
       "      <td>0.00</td>\n",
       "    </tr>\n",
       "    <tr>\n",
       "      <th>Year_of_Release</th>\n",
       "      <td>Year_of_Release</td>\n",
       "      <td>269</td>\n",
       "      <td>1.61</td>\n",
       "    </tr>\n",
       "    <tr>\n",
       "      <th>Genre</th>\n",
       "      <td>Genre</td>\n",
       "      <td>2</td>\n",
       "      <td>0.01</td>\n",
       "    </tr>\n",
       "    <tr>\n",
       "      <th>NA_sales</th>\n",
       "      <td>NA_sales</td>\n",
       "      <td>0</td>\n",
       "      <td>0.00</td>\n",
       "    </tr>\n",
       "    <tr>\n",
       "      <th>EU_sales</th>\n",
       "      <td>EU_sales</td>\n",
       "      <td>0</td>\n",
       "      <td>0.00</td>\n",
       "    </tr>\n",
       "    <tr>\n",
       "      <th>JP_sales</th>\n",
       "      <td>JP_sales</td>\n",
       "      <td>0</td>\n",
       "      <td>0.00</td>\n",
       "    </tr>\n",
       "    <tr>\n",
       "      <th>Other_sales</th>\n",
       "      <td>Other_sales</td>\n",
       "      <td>0</td>\n",
       "      <td>0.00</td>\n",
       "    </tr>\n",
       "    <tr>\n",
       "      <th>Critic_Score</th>\n",
       "      <td>Critic_Score</td>\n",
       "      <td>8578</td>\n",
       "      <td>51.32</td>\n",
       "    </tr>\n",
       "    <tr>\n",
       "      <th>User_Score</th>\n",
       "      <td>User_Score</td>\n",
       "      <td>6701</td>\n",
       "      <td>40.09</td>\n",
       "    </tr>\n",
       "    <tr>\n",
       "      <th>Rating</th>\n",
       "      <td>Rating</td>\n",
       "      <td>6766</td>\n",
       "      <td>40.48</td>\n",
       "    </tr>\n",
       "  </tbody>\n",
       "</table>\n",
       "</div>"
      ],
      "text/plain": [
       "                     column_name  num_missing  percent_missing\n",
       "Name                        Name            2             0.01\n",
       "Platform                Platform            0             0.00\n",
       "Year_of_Release  Year_of_Release          269             1.61\n",
       "Genre                      Genre            2             0.01\n",
       "NA_sales                NA_sales            0             0.00\n",
       "EU_sales                EU_sales            0             0.00\n",
       "JP_sales                JP_sales            0             0.00\n",
       "Other_sales          Other_sales            0             0.00\n",
       "Critic_Score        Critic_Score         8578            51.32\n",
       "User_Score            User_Score         6701            40.09\n",
       "Rating                    Rating         6766            40.48"
      ]
     },
     "execution_count": 4,
     "metadata": {},
     "output_type": "execute_result"
    }
   ],
   "source": [
    "#Создадим функцию для поиска и подсчета пропусков в столбцах\n",
    "def nan_values(data):\n",
    "    count_missing = data.isna().sum()\n",
    "    percent_missing = round(data.isna().sum() * 100 / len(data), 2)\n",
    "    \n",
    "    missing_value_data = pd.DataFrame({'column_name': data.columns,\n",
    "                                     'num_missing': count_missing,\n",
    "                                     'percent_missing': percent_missing})\n",
    "    \n",
    "    return missing_value_data\n",
    "nan_values(data)"
   ]
  },
  {
   "cell_type": "markdown",
   "metadata": {},
   "source": [
    "В данным имеются пропуски. Больше всего пропусках в столбцах с оценкой критиков, оценкой пользователей и рейтингом. В первую очередь необходимо привести наименования столбцов к нижнему регистру."
   ]
  },
  {
   "cell_type": "code",
   "execution_count": 5,
   "metadata": {},
   "outputs": [],
   "source": [
    "data.columns=map(str.lower,data.columns)"
   ]
  },
  {
   "cell_type": "markdown",
   "metadata": {},
   "source": [
    "Исследуем пропуски по столбцам и заполним их."
   ]
  },
  {
   "cell_type": "code",
   "execution_count": 6,
   "metadata": {},
   "outputs": [
    {
     "data": {
      "text/html": [
       "<div>\n",
       "<style scoped>\n",
       "    .dataframe tbody tr th:only-of-type {\n",
       "        vertical-align: middle;\n",
       "    }\n",
       "\n",
       "    .dataframe tbody tr th {\n",
       "        vertical-align: top;\n",
       "    }\n",
       "\n",
       "    .dataframe thead th {\n",
       "        text-align: right;\n",
       "    }\n",
       "</style>\n",
       "<table border=\"1\" class=\"dataframe\">\n",
       "  <thead>\n",
       "    <tr style=\"text-align: right;\">\n",
       "      <th></th>\n",
       "      <th>name</th>\n",
       "      <th>platform</th>\n",
       "      <th>year_of_release</th>\n",
       "      <th>genre</th>\n",
       "      <th>na_sales</th>\n",
       "      <th>eu_sales</th>\n",
       "      <th>jp_sales</th>\n",
       "      <th>other_sales</th>\n",
       "      <th>critic_score</th>\n",
       "      <th>user_score</th>\n",
       "      <th>rating</th>\n",
       "    </tr>\n",
       "  </thead>\n",
       "  <tbody>\n",
       "    <tr>\n",
       "      <th>659</th>\n",
       "      <td>NaN</td>\n",
       "      <td>GEN</td>\n",
       "      <td>1993.0</td>\n",
       "      <td>NaN</td>\n",
       "      <td>1.78</td>\n",
       "      <td>0.53</td>\n",
       "      <td>0.00</td>\n",
       "      <td>0.08</td>\n",
       "      <td>NaN</td>\n",
       "      <td>NaN</td>\n",
       "      <td>NaN</td>\n",
       "    </tr>\n",
       "    <tr>\n",
       "      <th>14244</th>\n",
       "      <td>NaN</td>\n",
       "      <td>GEN</td>\n",
       "      <td>1993.0</td>\n",
       "      <td>NaN</td>\n",
       "      <td>0.00</td>\n",
       "      <td>0.00</td>\n",
       "      <td>0.03</td>\n",
       "      <td>0.00</td>\n",
       "      <td>NaN</td>\n",
       "      <td>NaN</td>\n",
       "      <td>NaN</td>\n",
       "    </tr>\n",
       "  </tbody>\n",
       "</table>\n",
       "</div>"
      ],
      "text/plain": [
       "      name platform  year_of_release genre  na_sales  eu_sales  jp_sales  \\\n",
       "659    NaN      GEN           1993.0   NaN      1.78      0.53      0.00   \n",
       "14244  NaN      GEN           1993.0   NaN      0.00      0.00      0.03   \n",
       "\n",
       "       other_sales  critic_score user_score rating  \n",
       "659           0.08           NaN        NaN    NaN  \n",
       "14244         0.00           NaN        NaN    NaN  "
      ]
     },
     "execution_count": 6,
     "metadata": {},
     "output_type": "execute_result"
    }
   ],
   "source": [
    "data.loc[data['name'].isna()]"
   ]
  },
  {
   "cell_type": "markdown",
   "metadata": {},
   "source": [
    "В данном столбце всего два пропуска, при этом, если смотреть на другие столбцы, то в них также имеются пропуски. Учитывая, что данные две строки описывают игры 1993 года, а также то, что имеется много пропусках в иных столбцах - удалим данные строки"
   ]
  },
  {
   "cell_type": "code",
   "execution_count": 7,
   "metadata": {},
   "outputs": [],
   "source": [
    "data.dropna(subset = ['name'], inplace = True)"
   ]
  },
  {
   "cell_type": "markdown",
   "metadata": {},
   "source": [
    "Изучим стоблбце user_score, рассмотрев все уникальные значения"
   ]
  },
  {
   "cell_type": "code",
   "execution_count": 8,
   "metadata": {},
   "outputs": [
    {
     "data": {
      "text/plain": [
       "array(['8', nan, '8.3', '8.5', '6.6', '8.4', '8.6', '7.7', '6.3', '7.4',\n",
       "       '8.2', '9', '7.9', '8.1', '8.7', '7.1', '3.4', '5.3', '4.8', '3.2',\n",
       "       '8.9', '6.4', '7.8', '7.5', '2.6', '7.2', '9.2', '7', '7.3', '4.3',\n",
       "       '7.6', '5.7', '5', '9.1', '6.5', 'tbd', '8.8', '6.9', '9.4', '6.8',\n",
       "       '6.1', '6.7', '5.4', '4', '4.9', '4.5', '9.3', '6.2', '4.2', '6',\n",
       "       '3.7', '4.1', '5.8', '5.6', '5.5', '4.4', '4.6', '5.9', '3.9',\n",
       "       '3.1', '2.9', '5.2', '3.3', '4.7', '5.1', '3.5', '2.5', '1.9', '3',\n",
       "       '2.7', '2.2', '2', '9.5', '2.1', '3.6', '2.8', '1.8', '3.8', '0',\n",
       "       '1.6', '9.6', '2.4', '1.7', '1.1', '0.3', '1.5', '0.7', '1.2',\n",
       "       '2.3', '0.5', '1.3', '0.2', '0.6', '1.4', '0.9', '1', '9.7'],\n",
       "      dtype=object)"
      ]
     },
     "execution_count": 8,
     "metadata": {},
     "output_type": "execute_result"
    }
   ],
   "source": [
    "data.user_score.unique()"
   ]
  },
  {
   "cell_type": "markdown",
   "metadata": {},
   "source": [
    "В данных помимо пропусков имеется аббревиатура tbd. В игровой индустрии данная аббревиатура обозначает \"to be determined\", что означает, что в настоящий момент у данной игры нет оценки, однако она будет выставлена позднее"
   ]
  },
  {
   "cell_type": "markdown",
   "metadata": {},
   "source": [
    "В столбце имеется большое количество пропусков, а также значения \"tbd\". Удаление строк с такими значениями приведет к значительному ухудшению качества данных, в виду чего можно заменить данные значения на несвойственные, и учитывать эти данные\n",
    "Вместе с этим изменим тип данных в данном столбце на числовой, для упрощения дальнейших расчетов, а также потому что после внесенных замен, оценка будет представлять собой исключительно числовые значения"
   ]
  },
  {
   "cell_type": "code",
   "execution_count": 9,
   "metadata": {},
   "outputs": [],
   "source": [
    "data.loc[data['user_score'].isna(),'user_score']=-1"
   ]
  },
  {
   "cell_type": "code",
   "execution_count": 10,
   "metadata": {},
   "outputs": [],
   "source": [
    "data.loc[data['user_score']=='tbd']=-1\n",
    "data['user_score']=pd.to_numeric(data['user_score'])"
   ]
  },
  {
   "cell_type": "markdown",
   "metadata": {},
   "source": [
    "Аналогичная ситуация в столбцах year_of_release, critic_score и rating. При этом значение года является челочисленным, поэтому поменяем тип данных в данном столбце на int"
   ]
  },
  {
   "cell_type": "code",
   "execution_count": 11,
   "metadata": {},
   "outputs": [],
   "source": [
    "data.loc[data['year_of_release'].isna(),'year_of_release']=-1"
   ]
  },
  {
   "cell_type": "code",
   "execution_count": 12,
   "metadata": {},
   "outputs": [],
   "source": [
    "data['year_of_release']=data['year_of_release'].astype(int)"
   ]
  },
  {
   "cell_type": "code",
   "execution_count": 13,
   "metadata": {},
   "outputs": [],
   "source": [
    "data.loc[data['critic_score'].isna(),'critic_score']=-1\n",
    "\n",
    "data.loc[data['rating'].isna(),'rating']=-1"
   ]
  },
  {
   "cell_type": "markdown",
   "metadata": {},
   "source": [
    "Проверим наличие пропусков после проведенных действий"
   ]
  },
  {
   "cell_type": "code",
   "execution_count": 14,
   "metadata": {},
   "outputs": [
    {
     "data": {
      "text/plain": [
       "name               0\n",
       "platform           0\n",
       "year_of_release    0\n",
       "genre              0\n",
       "na_sales           0\n",
       "eu_sales           0\n",
       "jp_sales           0\n",
       "other_sales        0\n",
       "critic_score       0\n",
       "user_score         0\n",
       "rating             0\n",
       "dtype: int64"
      ]
     },
     "execution_count": 14,
     "metadata": {},
     "output_type": "execute_result"
    }
   ],
   "source": [
    "data.isna().sum()"
   ]
  },
  {
   "cell_type": "markdown",
   "metadata": {},
   "source": [
    "Создадим новый столбец, в котором будут указаны общие продажи игры вне зависимости от региона, который потребуется для дальнешего исследования"
   ]
  },
  {
   "cell_type": "code",
   "execution_count": 15,
   "metadata": {},
   "outputs": [],
   "source": [
    "data['sum_sales']=data['na_sales']+data['eu_sales']+data['jp_sales']"
   ]
  },
  {
   "cell_type": "markdown",
   "metadata": {},
   "source": [
    "### Вывод ###"
   ]
  },
  {
   "cell_type": "markdown",
   "metadata": {},
   "source": [
    "Данные обладали большим количеством пропусков, некоторые столбцы имели не свойственный тип данных. В результате обработки пропуски заполненны несвойственными значениями, с целью сохранения данных и использования их в анализе. Также столбцы были приведены к нижнему регистру и добавлен необходимый для дальнейшего исследования столбец с суммарным количеством продаж по всем регионам."
   ]
  },
  {
   "cell_type": "markdown",
   "metadata": {},
   "source": [
    "## Исследовательский анализ данных ##"
   ]
  },
  {
   "cell_type": "markdown",
   "metadata": {},
   "source": [
    "Исследуем количество игр в разрезе по годам. Учитывая, что нам необходимы актуальные данные, сразу будем анализировать сведения позднее 2000 года. На основании полученного исследования более точно определим промежуток времени, при котором данные будут являться актуальными."
   ]
  },
  {
   "cell_type": "code",
   "execution_count": 16,
   "metadata": {},
   "outputs": [
    {
     "data": {
      "text/plain": [
       "year_of_release\n",
       "-1      -7190.68\n",
       " 1980      11.26\n",
       " 1981      35.36\n",
       " 1982      28.57\n",
       " 1983      16.66\n",
       " 1984      49.65\n",
       " 1985      53.03\n",
       " 1986      35.15\n",
       " 1987      21.50\n",
       " 1988      46.22\n",
       " 1989      71.95\n",
       " 1990      47.97\n",
       " 1991      31.49\n",
       " 1992      74.51\n",
       " 1993      45.10\n",
       " 1994      77.03\n",
       " 1995      85.48\n",
       " 1996     191.46\n",
       " 1997     191.89\n",
       " 1998     245.30\n",
       " 1999     236.94\n",
       " 2000     177.26\n",
       " 2001     289.87\n",
       " 2002     343.37\n",
       " 2003     317.79\n",
       " 2004     350.07\n",
       " 2005     399.62\n",
       " 2006     449.62\n",
       " 2007     488.96\n",
       " 2008     527.31\n",
       " 2009     515.03\n",
       " 2010     466.81\n",
       " 2011     420.93\n",
       " 2012     317.53\n",
       " 2013     321.67\n",
       " 2014     291.77\n",
       " 2015     235.06\n",
       " 2016     113.89\n",
       "Name: sum_sales, dtype: float64"
      ]
     },
     "execution_count": 16,
     "metadata": {},
     "output_type": "execute_result"
    }
   ],
   "source": [
    "data.groupby('year_of_release')['sum_sales'].sum()"
   ]
  },
  {
   "cell_type": "code",
   "execution_count": 17,
   "metadata": {},
   "outputs": [
    {
     "data": {
      "image/png": "[encoded data removed]",
      "text/plain": [
       "<Figure size 648x648 with 1 Axes>"
      ]
     },
     "metadata": {
      "needs_background": "light"
     },
     "output_type": "display_data"
    }
   ],
   "source": [
    "year_analyse=data.query('year_of_release>2000').groupby('year_of_release')['name'].count()\n",
    "year_analyse.plot(title='Количество игр по годам',figsize=(9,9),xlabel='Год',ylabel='Количество игр');\n"
   ]
  },
  {
   "cell_type": "markdown",
   "metadata": {},
   "source": [
    "Судя по графику, наибольшее количество игр было издано в промежуток с 2004 по 2013 год. Построим сводную таблицу с разбивкой по годам и платформам."
   ]
  },
  {
   "cell_type": "code",
   "execution_count": 18,
   "metadata": {},
   "outputs": [
    {
     "data": {
      "text/html": [
       "<div>\n",
       "<style scoped>\n",
       "    .dataframe tbody tr th:only-of-type {\n",
       "        vertical-align: middle;\n",
       "    }\n",
       "\n",
       "    .dataframe tbody tr th {\n",
       "        vertical-align: top;\n",
       "    }\n",
       "\n",
       "    .dataframe thead th {\n",
       "        text-align: right;\n",
       "    }\n",
       "</style>\n",
       "<table border=\"1\" class=\"dataframe\">\n",
       "  <thead>\n",
       "    <tr style=\"text-align: right;\">\n",
       "      <th>year_of_release</th>\n",
       "      <th>2001</th>\n",
       "      <th>2002</th>\n",
       "      <th>2003</th>\n",
       "      <th>2004</th>\n",
       "      <th>2005</th>\n",
       "      <th>2006</th>\n",
       "      <th>2007</th>\n",
       "      <th>2008</th>\n",
       "      <th>2009</th>\n",
       "      <th>2010</th>\n",
       "      <th>2011</th>\n",
       "      <th>2012</th>\n",
       "      <th>2013</th>\n",
       "      <th>2014</th>\n",
       "      <th>2015</th>\n",
       "      <th>2016</th>\n",
       "    </tr>\n",
       "    <tr>\n",
       "      <th>platform</th>\n",
       "      <th></th>\n",
       "      <th></th>\n",
       "      <th></th>\n",
       "      <th></th>\n",
       "      <th></th>\n",
       "      <th></th>\n",
       "      <th></th>\n",
       "      <th></th>\n",
       "      <th></th>\n",
       "      <th></th>\n",
       "      <th></th>\n",
       "      <th></th>\n",
       "      <th></th>\n",
       "      <th></th>\n",
       "      <th></th>\n",
       "      <th></th>\n",
       "    </tr>\n",
       "  </thead>\n",
       "  <tbody>\n",
       "    <tr>\n",
       "      <th>3DS</th>\n",
       "      <td>-</td>\n",
       "      <td>-</td>\n",
       "      <td>-</td>\n",
       "      <td>-</td>\n",
       "      <td>-</td>\n",
       "      <td>-</td>\n",
       "      <td>-</td>\n",
       "      <td>-</td>\n",
       "      <td>-</td>\n",
       "      <td>-</td>\n",
       "      <td>91.0</td>\n",
       "      <td>89.0</td>\n",
       "      <td>87.0</td>\n",
       "      <td>71.0</td>\n",
       "      <td>77.0</td>\n",
       "      <td>43.0</td>\n",
       "    </tr>\n",
       "    <tr>\n",
       "      <th>DC</th>\n",
       "      <td>8.0</td>\n",
       "      <td>1.0</td>\n",
       "      <td>-</td>\n",
       "      <td>-</td>\n",
       "      <td>-</td>\n",
       "      <td>-</td>\n",
       "      <td>1.0</td>\n",
       "      <td>1.0</td>\n",
       "      <td>-</td>\n",
       "      <td>-</td>\n",
       "      <td>-</td>\n",
       "      <td>-</td>\n",
       "      <td>-</td>\n",
       "      <td>-</td>\n",
       "      <td>-</td>\n",
       "      <td>-</td>\n",
       "    </tr>\n",
       "    <tr>\n",
       "      <th>DS</th>\n",
       "      <td>-</td>\n",
       "      <td>-</td>\n",
       "      <td>-</td>\n",
       "      <td>22.0</td>\n",
       "      <td>101.0</td>\n",
       "      <td>166.0</td>\n",
       "      <td>273.0</td>\n",
       "      <td>309.0</td>\n",
       "      <td>217.0</td>\n",
       "      <td>179.0</td>\n",
       "      <td>91.0</td>\n",
       "      <td>15.0</td>\n",
       "      <td>3.0</td>\n",
       "      <td>-</td>\n",
       "      <td>-</td>\n",
       "      <td>-</td>\n",
       "    </tr>\n",
       "    <tr>\n",
       "      <th>GB</th>\n",
       "      <td>10.0</td>\n",
       "      <td>-</td>\n",
       "      <td>-</td>\n",
       "      <td>-</td>\n",
       "      <td>-</td>\n",
       "      <td>-</td>\n",
       "      <td>-</td>\n",
       "      <td>-</td>\n",
       "      <td>-</td>\n",
       "      <td>-</td>\n",
       "      <td>-</td>\n",
       "      <td>-</td>\n",
       "      <td>-</td>\n",
       "      <td>-</td>\n",
       "      <td>-</td>\n",
       "      <td>-</td>\n",
       "    </tr>\n",
       "    <tr>\n",
       "      <th>GBA</th>\n",
       "      <td>63.0</td>\n",
       "      <td>115.0</td>\n",
       "      <td>114.0</td>\n",
       "      <td>127.0</td>\n",
       "      <td>98.0</td>\n",
       "      <td>30.0</td>\n",
       "      <td>5.0</td>\n",
       "      <td>-</td>\n",
       "      <td>-</td>\n",
       "      <td>-</td>\n",
       "      <td>-</td>\n",
       "      <td>-</td>\n",
       "      <td>-</td>\n",
       "      <td>-</td>\n",
       "      <td>-</td>\n",
       "      <td>-</td>\n",
       "    </tr>\n",
       "    <tr>\n",
       "      <th>GC</th>\n",
       "      <td>20.0</td>\n",
       "      <td>116.0</td>\n",
       "      <td>125.0</td>\n",
       "      <td>68.0</td>\n",
       "      <td>79.0</td>\n",
       "      <td>32.0</td>\n",
       "      <td>2.0</td>\n",
       "      <td>-</td>\n",
       "      <td>-</td>\n",
       "      <td>-</td>\n",
       "      <td>-</td>\n",
       "      <td>-</td>\n",
       "      <td>-</td>\n",
       "      <td>-</td>\n",
       "      <td>-</td>\n",
       "      <td>-</td>\n",
       "    </tr>\n",
       "    <tr>\n",
       "      <th>N64</th>\n",
       "      <td>9.0</td>\n",
       "      <td>1.0</td>\n",
       "      <td>-</td>\n",
       "      <td>-</td>\n",
       "      <td>-</td>\n",
       "      <td>-</td>\n",
       "      <td>-</td>\n",
       "      <td>-</td>\n",
       "      <td>-</td>\n",
       "      <td>-</td>\n",
       "      <td>-</td>\n",
       "      <td>-</td>\n",
       "      <td>-</td>\n",
       "      <td>-</td>\n",
       "      <td>-</td>\n",
       "      <td>-</td>\n",
       "    </tr>\n",
       "    <tr>\n",
       "      <th>PC</th>\n",
       "      <td>15.0</td>\n",
       "      <td>18.0</td>\n",
       "      <td>33.0</td>\n",
       "      <td>30.0</td>\n",
       "      <td>36.0</td>\n",
       "      <td>50.0</td>\n",
       "      <td>60.0</td>\n",
       "      <td>69.0</td>\n",
       "      <td>96.0</td>\n",
       "      <td>84.0</td>\n",
       "      <td>126.0</td>\n",
       "      <td>61.0</td>\n",
       "      <td>38.0</td>\n",
       "      <td>46.0</td>\n",
       "      <td>48.0</td>\n",
       "      <td>52.0</td>\n",
       "    </tr>\n",
       "    <tr>\n",
       "      <th>PS</th>\n",
       "      <td>82.0</td>\n",
       "      <td>20.0</td>\n",
       "      <td>3.0</td>\n",
       "      <td>-</td>\n",
       "      <td>-</td>\n",
       "      <td>-</td>\n",
       "      <td>-</td>\n",
       "      <td>-</td>\n",
       "      <td>-</td>\n",
       "      <td>-</td>\n",
       "      <td>-</td>\n",
       "      <td>-</td>\n",
       "      <td>-</td>\n",
       "      <td>-</td>\n",
       "      <td>-</td>\n",
       "      <td>-</td>\n",
       "    </tr>\n",
       "    <tr>\n",
       "      <th>PS2</th>\n",
       "      <td>164.0</td>\n",
       "      <td>245.0</td>\n",
       "      <td>245.0</td>\n",
       "      <td>245.0</td>\n",
       "      <td>245.0</td>\n",
       "      <td>241.0</td>\n",
       "      <td>183.0</td>\n",
       "      <td>148.0</td>\n",
       "      <td>74.0</td>\n",
       "      <td>29.0</td>\n",
       "      <td>6.0</td>\n",
       "      <td>-</td>\n",
       "      <td>-</td>\n",
       "      <td>-</td>\n",
       "      <td>-</td>\n",
       "      <td>-</td>\n",
       "    </tr>\n",
       "    <tr>\n",
       "      <th>PS3</th>\n",
       "      <td>-</td>\n",
       "      <td>-</td>\n",
       "      <td>-</td>\n",
       "      <td>-</td>\n",
       "      <td>-</td>\n",
       "      <td>26.0</td>\n",
       "      <td>88.0</td>\n",
       "      <td>131.0</td>\n",
       "      <td>150.0</td>\n",
       "      <td>165.0</td>\n",
       "      <td>192.0</td>\n",
       "      <td>145.0</td>\n",
       "      <td>125.0</td>\n",
       "      <td>103.0</td>\n",
       "      <td>62.0</td>\n",
       "      <td>32.0</td>\n",
       "    </tr>\n",
       "    <tr>\n",
       "      <th>PS4</th>\n",
       "      <td>-</td>\n",
       "      <td>-</td>\n",
       "      <td>-</td>\n",
       "      <td>-</td>\n",
       "      <td>-</td>\n",
       "      <td>-</td>\n",
       "      <td>-</td>\n",
       "      <td>-</td>\n",
       "      <td>-</td>\n",
       "      <td>-</td>\n",
       "      <td>-</td>\n",
       "      <td>-</td>\n",
       "      <td>16.0</td>\n",
       "      <td>75.0</td>\n",
       "      <td>136.0</td>\n",
       "      <td>159.0</td>\n",
       "    </tr>\n",
       "    <tr>\n",
       "      <th>PSP</th>\n",
       "      <td>-</td>\n",
       "      <td>-</td>\n",
       "      <td>-</td>\n",
       "      <td>14.0</td>\n",
       "      <td>92.0</td>\n",
       "      <td>158.0</td>\n",
       "      <td>113.0</td>\n",
       "      <td>86.0</td>\n",
       "      <td>135.0</td>\n",
       "      <td>172.0</td>\n",
       "      <td>134.0</td>\n",
       "      <td>104.0</td>\n",
       "      <td>54.0</td>\n",
       "      <td>10.0</td>\n",
       "      <td>3.0</td>\n",
       "      <td>-</td>\n",
       "    </tr>\n",
       "    <tr>\n",
       "      <th>PSV</th>\n",
       "      <td>-</td>\n",
       "      <td>-</td>\n",
       "      <td>-</td>\n",
       "      <td>-</td>\n",
       "      <td>-</td>\n",
       "      <td>-</td>\n",
       "      <td>-</td>\n",
       "      <td>-</td>\n",
       "      <td>-</td>\n",
       "      <td>-</td>\n",
       "      <td>18.0</td>\n",
       "      <td>53.0</td>\n",
       "      <td>63.0</td>\n",
       "      <td>100.0</td>\n",
       "      <td>104.0</td>\n",
       "      <td>84.0</td>\n",
       "    </tr>\n",
       "    <tr>\n",
       "      <th>WS</th>\n",
       "      <td>2.0</td>\n",
       "      <td>-</td>\n",
       "      <td>-</td>\n",
       "      <td>-</td>\n",
       "      <td>-</td>\n",
       "      <td>-</td>\n",
       "      <td>-</td>\n",
       "      <td>-</td>\n",
       "      <td>-</td>\n",
       "      <td>-</td>\n",
       "      <td>-</td>\n",
       "      <td>-</td>\n",
       "      <td>-</td>\n",
       "      <td>-</td>\n",
       "      <td>-</td>\n",
       "      <td>-</td>\n",
       "    </tr>\n",
       "    <tr>\n",
       "      <th>Wii</th>\n",
       "      <td>-</td>\n",
       "      <td>-</td>\n",
       "      <td>-</td>\n",
       "      <td>-</td>\n",
       "      <td>-</td>\n",
       "      <td>41.0</td>\n",
       "      <td>162.0</td>\n",
       "      <td>218.0</td>\n",
       "      <td>192.0</td>\n",
       "      <td>126.0</td>\n",
       "      <td>82.0</td>\n",
       "      <td>25.0</td>\n",
       "      <td>8.0</td>\n",
       "      <td>3.0</td>\n",
       "      <td>1.0</td>\n",
       "      <td>-</td>\n",
       "    </tr>\n",
       "    <tr>\n",
       "      <th>WiiU</th>\n",
       "      <td>-</td>\n",
       "      <td>-</td>\n",
       "      <td>-</td>\n",
       "      <td>-</td>\n",
       "      <td>-</td>\n",
       "      <td>-</td>\n",
       "      <td>-</td>\n",
       "      <td>-</td>\n",
       "      <td>-</td>\n",
       "      <td>-</td>\n",
       "      <td>-</td>\n",
       "      <td>32.0</td>\n",
       "      <td>42.0</td>\n",
       "      <td>30.0</td>\n",
       "      <td>27.0</td>\n",
       "      <td>11.0</td>\n",
       "    </tr>\n",
       "    <tr>\n",
       "      <th>X360</th>\n",
       "      <td>-</td>\n",
       "      <td>-</td>\n",
       "      <td>-</td>\n",
       "      <td>-</td>\n",
       "      <td>18.0</td>\n",
       "      <td>92.0</td>\n",
       "      <td>115.0</td>\n",
       "      <td>138.0</td>\n",
       "      <td>157.0</td>\n",
       "      <td>169.0</td>\n",
       "      <td>179.0</td>\n",
       "      <td>105.0</td>\n",
       "      <td>74.0</td>\n",
       "      <td>61.0</td>\n",
       "      <td>33.0</td>\n",
       "      <td>8.0</td>\n",
       "    </tr>\n",
       "    <tr>\n",
       "      <th>XB</th>\n",
       "      <td>27.0</td>\n",
       "      <td>121.0</td>\n",
       "      <td>160.0</td>\n",
       "      <td>149.0</td>\n",
       "      <td>149.0</td>\n",
       "      <td>46.0</td>\n",
       "      <td>3.0</td>\n",
       "      <td>1.0</td>\n",
       "      <td>-</td>\n",
       "      <td>-</td>\n",
       "      <td>-</td>\n",
       "      <td>-</td>\n",
       "      <td>-</td>\n",
       "      <td>-</td>\n",
       "      <td>-</td>\n",
       "      <td>-</td>\n",
       "    </tr>\n",
       "    <tr>\n",
       "      <th>XOne</th>\n",
       "      <td>-</td>\n",
       "      <td>-</td>\n",
       "      <td>-</td>\n",
       "      <td>-</td>\n",
       "      <td>-</td>\n",
       "      <td>-</td>\n",
       "      <td>-</td>\n",
       "      <td>-</td>\n",
       "      <td>-</td>\n",
       "      <td>-</td>\n",
       "      <td>-</td>\n",
       "      <td>-</td>\n",
       "      <td>19.0</td>\n",
       "      <td>61.0</td>\n",
       "      <td>77.0</td>\n",
       "      <td>79.0</td>\n",
       "    </tr>\n",
       "  </tbody>\n",
       "</table>\n",
       "</div>"
      ],
      "text/plain": [
       "year_of_release   2001   2002   2003   2004   2005   2006   2007   2008  \\\n",
       "platform                                                                  \n",
       "3DS                  -      -      -      -      -      -      -      -   \n",
       "DC                 8.0    1.0      -      -      -      -    1.0    1.0   \n",
       "DS                   -      -      -   22.0  101.0  166.0  273.0  309.0   \n",
       "GB                10.0      -      -      -      -      -      -      -   \n",
       "GBA               63.0  115.0  114.0  127.0   98.0   30.0    5.0      -   \n",
       "GC                20.0  116.0  125.0   68.0   79.0   32.0    2.0      -   \n",
       "N64                9.0    1.0      -      -      -      -      -      -   \n",
       "PC                15.0   18.0   33.0   30.0   36.0   50.0   60.0   69.0   \n",
       "PS                82.0   20.0    3.0      -      -      -      -      -   \n",
       "PS2              164.0  245.0  245.0  245.0  245.0  241.0  183.0  148.0   \n",
       "PS3                  -      -      -      -      -   26.0   88.0  131.0   \n",
       "PS4                  -      -      -      -      -      -      -      -   \n",
       "PSP                  -      -      -   14.0   92.0  158.0  113.0   86.0   \n",
       "PSV                  -      -      -      -      -      -      -      -   \n",
       "WS                 2.0      -      -      -      -      -      -      -   \n",
       "Wii                  -      -      -      -      -   41.0  162.0  218.0   \n",
       "WiiU                 -      -      -      -      -      -      -      -   \n",
       "X360                 -      -      -      -   18.0   92.0  115.0  138.0   \n",
       "XB                27.0  121.0  160.0  149.0  149.0   46.0    3.0    1.0   \n",
       "XOne                 -      -      -      -      -      -      -      -   \n",
       "\n",
       "year_of_release   2009   2010   2011   2012   2013   2014   2015   2016  \n",
       "platform                                                                 \n",
       "3DS                  -      -   91.0   89.0   87.0   71.0   77.0   43.0  \n",
       "DC                   -      -      -      -      -      -      -      -  \n",
       "DS               217.0  179.0   91.0   15.0    3.0      -      -      -  \n",
       "GB                   -      -      -      -      -      -      -      -  \n",
       "GBA                  -      -      -      -      -      -      -      -  \n",
       "GC                   -      -      -      -      -      -      -      -  \n",
       "N64                  -      -      -      -      -      -      -      -  \n",
       "PC                96.0   84.0  126.0   61.0   38.0   46.0   48.0   52.0  \n",
       "PS                   -      -      -      -      -      -      -      -  \n",
       "PS2               74.0   29.0    6.0      -      -      -      -      -  \n",
       "PS3              150.0  165.0  192.0  145.0  125.0  103.0   62.0   32.0  \n",
       "PS4                  -      -      -      -   16.0   75.0  136.0  159.0  \n",
       "PSP              135.0  172.0  134.0  104.0   54.0   10.0    3.0      -  \n",
       "PSV                  -      -   18.0   53.0   63.0  100.0  104.0   84.0  \n",
       "WS                   -      -      -      -      -      -      -      -  \n",
       "Wii              192.0  126.0   82.0   25.0    8.0    3.0    1.0      -  \n",
       "WiiU                 -      -      -   32.0   42.0   30.0   27.0   11.0  \n",
       "X360             157.0  169.0  179.0  105.0   74.0   61.0   33.0    8.0  \n",
       "XB                   -      -      -      -      -      -      -      -  \n",
       "XOne                 -      -      -      -   19.0   61.0   77.0   79.0  "
      ]
     },
     "execution_count": 18,
     "metadata": {},
     "output_type": "execute_result"
    }
   ],
   "source": [
    "data.query('year_of_release>2000').pivot_table(index='platform',columns='year_of_release',values='name',aggfunc='count',fill_value='-')"
   ]
  },
  {
   "cell_type": "code",
   "execution_count": 19,
   "metadata": {},
   "outputs": [
    {
     "data": {
      "image/png": "[encoded data removed]",
      "text/plain": [
       "<Figure size 648x648 with 1 Axes>"
      ]
     },
     "metadata": {
      "needs_background": "light"
     },
     "output_type": "display_data"
    }
   ],
   "source": [
    "year_analyse.plot(x='year_of_release',y='name',grid=True,kind='bar',title=\"Количество выпущенных игр по годам\",figsize=(9,9));"
   ]
  },
  {
   "cell_type": "code",
   "execution_count": 20,
   "metadata": {},
   "outputs": [
    {
     "data": {
      "image/png": "[encoded data removed]",
      "text/plain": [
       "<Figure size 648x648 with 1 Axes>"
      ]
     },
     "metadata": {
      "needs_background": "light"
     },
     "output_type": "display_data"
    }
   ],
   "source": [
    "year_sales=data.query('year_of_release>2000').groupby('year_of_release')['sum_sales'].sum().reset_index()\n",
    "year_sales.plot(x='year_of_release',y='sum_sales',grid=True,kind='bar',title=\"Сумма продаж игр по годам\",figsize=(9,9));"
   ]
  },
  {
   "cell_type": "markdown",
   "metadata": {},
   "source": [
    "Исходя из полученных данных наблюдается смена поколений платформ в 2007 году и в 2012-2013 годах. Также наблюдается резкий спад игрового рынка в период с 2008 по 2012 год. Основываясь на этих сведения, наиболее актуальными являются сведения начиная с 2013 года, когда вышли новые платформы."
   ]
  },
  {
   "cell_type": "code",
   "execution_count": 21,
   "metadata": {},
   "outputs": [],
   "source": [
    "data=data.query('year_of_release>=2013')"
   ]
  },
  {
   "cell_type": "markdown",
   "metadata": {},
   "source": [
    "Определим платформы с наибольшими суммарными продажами"
   ]
  },
  {
   "cell_type": "code",
   "execution_count": 22,
   "metadata": {},
   "outputs": [],
   "source": [
    "platform_sales=data.groupby('platform')['sum_sales'].sum().sort_values(ascending=False).reset_index().head(10)"
   ]
  },
  {
   "cell_type": "code",
   "execution_count": 23,
   "metadata": {},
   "outputs": [
    {
     "data": {
      "text/html": [
       "<div>\n",
       "<style scoped>\n",
       "    .dataframe tbody tr th:only-of-type {\n",
       "        vertical-align: middle;\n",
       "    }\n",
       "\n",
       "    .dataframe tbody tr th {\n",
       "        vertical-align: top;\n",
       "    }\n",
       "\n",
       "    .dataframe thead th {\n",
       "        text-align: right;\n",
       "    }\n",
       "</style>\n",
       "<table border=\"1\" class=\"dataframe\">\n",
       "  <thead>\n",
       "    <tr style=\"text-align: right;\">\n",
       "      <th></th>\n",
       "      <th>platform</th>\n",
       "      <th>sum_sales</th>\n",
       "    </tr>\n",
       "  </thead>\n",
       "  <tbody>\n",
       "    <tr>\n",
       "      <th>0</th>\n",
       "      <td>PS4</td>\n",
       "      <td>265.67</td>\n",
       "    </tr>\n",
       "    <tr>\n",
       "      <th>1</th>\n",
       "      <td>PS3</td>\n",
       "      <td>153.48</td>\n",
       "    </tr>\n",
       "    <tr>\n",
       "      <th>2</th>\n",
       "      <td>XOne</td>\n",
       "      <td>144.54</td>\n",
       "    </tr>\n",
       "    <tr>\n",
       "      <th>3</th>\n",
       "      <td>3DS</td>\n",
       "      <td>135.52</td>\n",
       "    </tr>\n",
       "    <tr>\n",
       "      <th>4</th>\n",
       "      <td>X360</td>\n",
       "      <td>123.44</td>\n",
       "    </tr>\n",
       "    <tr>\n",
       "      <th>5</th>\n",
       "      <td>WiiU</td>\n",
       "      <td>59.58</td>\n",
       "    </tr>\n",
       "    <tr>\n",
       "      <th>6</th>\n",
       "      <td>PC</td>\n",
       "      <td>36.38</td>\n",
       "    </tr>\n",
       "    <tr>\n",
       "      <th>7</th>\n",
       "      <td>PSV</td>\n",
       "      <td>29.46</td>\n",
       "    </tr>\n",
       "    <tr>\n",
       "      <th>8</th>\n",
       "      <td>Wii</td>\n",
       "      <td>9.97</td>\n",
       "    </tr>\n",
       "    <tr>\n",
       "      <th>9</th>\n",
       "      <td>PSP</td>\n",
       "      <td>3.46</td>\n",
       "    </tr>\n",
       "  </tbody>\n",
       "</table>\n",
       "</div>"
      ],
      "text/plain": [
       "  platform  sum_sales\n",
       "0      PS4     265.67\n",
       "1      PS3     153.48\n",
       "2     XOne     144.54\n",
       "3      3DS     135.52\n",
       "4     X360     123.44\n",
       "5     WiiU      59.58\n",
       "6       PC      36.38\n",
       "7      PSV      29.46\n",
       "8      Wii       9.97\n",
       "9      PSP       3.46"
      ]
     },
     "execution_count": 23,
     "metadata": {},
     "output_type": "execute_result"
    }
   ],
   "source": [
    "platform_sales"
   ]
  },
  {
   "cell_type": "markdown",
   "metadata": {},
   "source": [
    "Создадим список из первых самых прибыльных платформ, после чего сделаем срез данных только по этим платформам и изучим его"
   ]
  },
  {
   "cell_type": "code",
   "execution_count": 24,
   "metadata": {},
   "outputs": [],
   "source": [
    "top_platform_list=platform_sales['platform'].to_list()"
   ]
  },
  {
   "cell_type": "code",
   "execution_count": 25,
   "metadata": {},
   "outputs": [
    {
     "data": {
      "text/plain": [
       "['PS4', 'PS3', 'XOne', '3DS', 'X360', 'WiiU', 'PC', 'PSV', 'Wii', 'PSP']"
      ]
     },
     "execution_count": 25,
     "metadata": {},
     "output_type": "execute_result"
    }
   ],
   "source": [
    "top_platform_list"
   ]
  },
  {
   "cell_type": "code",
   "execution_count": 26,
   "metadata": {},
   "outputs": [
    {
     "data": {
      "text/html": [
       "<div>\n",
       "<style scoped>\n",
       "    .dataframe tbody tr th:only-of-type {\n",
       "        vertical-align: middle;\n",
       "    }\n",
       "\n",
       "    .dataframe tbody tr th {\n",
       "        vertical-align: top;\n",
       "    }\n",
       "\n",
       "    .dataframe thead th {\n",
       "        text-align: right;\n",
       "    }\n",
       "</style>\n",
       "<table border=\"1\" class=\"dataframe\">\n",
       "  <thead>\n",
       "    <tr style=\"text-align: right;\">\n",
       "      <th></th>\n",
       "      <th>name</th>\n",
       "      <th>platform</th>\n",
       "      <th>year_of_release</th>\n",
       "      <th>genre</th>\n",
       "      <th>na_sales</th>\n",
       "      <th>eu_sales</th>\n",
       "      <th>jp_sales</th>\n",
       "      <th>other_sales</th>\n",
       "      <th>critic_score</th>\n",
       "      <th>user_score</th>\n",
       "      <th>rating</th>\n",
       "      <th>sum_sales</th>\n",
       "    </tr>\n",
       "  </thead>\n",
       "  <tbody>\n",
       "    <tr>\n",
       "      <th>16</th>\n",
       "      <td>Grand Theft Auto V</td>\n",
       "      <td>PS3</td>\n",
       "      <td>2013</td>\n",
       "      <td>Action</td>\n",
       "      <td>7.02</td>\n",
       "      <td>9.09</td>\n",
       "      <td>0.98</td>\n",
       "      <td>3.96</td>\n",
       "      <td>97.0</td>\n",
       "      <td>8.2</td>\n",
       "      <td>M</td>\n",
       "      <td>17.09</td>\n",
       "    </tr>\n",
       "    <tr>\n",
       "      <th>23</th>\n",
       "      <td>Grand Theft Auto V</td>\n",
       "      <td>X360</td>\n",
       "      <td>2013</td>\n",
       "      <td>Action</td>\n",
       "      <td>9.66</td>\n",
       "      <td>5.14</td>\n",
       "      <td>0.06</td>\n",
       "      <td>1.41</td>\n",
       "      <td>97.0</td>\n",
       "      <td>8.1</td>\n",
       "      <td>M</td>\n",
       "      <td>14.86</td>\n",
       "    </tr>\n",
       "    <tr>\n",
       "      <th>31</th>\n",
       "      <td>Call of Duty: Black Ops 3</td>\n",
       "      <td>PS4</td>\n",
       "      <td>2015</td>\n",
       "      <td>Shooter</td>\n",
       "      <td>6.03</td>\n",
       "      <td>5.86</td>\n",
       "      <td>0.36</td>\n",
       "      <td>2.38</td>\n",
       "      <td>-1.0</td>\n",
       "      <td>-1.0</td>\n",
       "      <td>-1</td>\n",
       "      <td>12.25</td>\n",
       "    </tr>\n",
       "    <tr>\n",
       "      <th>33</th>\n",
       "      <td>Pokemon X/Pokemon Y</td>\n",
       "      <td>3DS</td>\n",
       "      <td>2013</td>\n",
       "      <td>Role-Playing</td>\n",
       "      <td>5.28</td>\n",
       "      <td>4.19</td>\n",
       "      <td>4.35</td>\n",
       "      <td>0.78</td>\n",
       "      <td>-1.0</td>\n",
       "      <td>-1.0</td>\n",
       "      <td>-1</td>\n",
       "      <td>13.82</td>\n",
       "    </tr>\n",
       "    <tr>\n",
       "      <th>42</th>\n",
       "      <td>Grand Theft Auto V</td>\n",
       "      <td>PS4</td>\n",
       "      <td>2014</td>\n",
       "      <td>Action</td>\n",
       "      <td>3.96</td>\n",
       "      <td>6.31</td>\n",
       "      <td>0.38</td>\n",
       "      <td>1.97</td>\n",
       "      <td>97.0</td>\n",
       "      <td>8.3</td>\n",
       "      <td>M</td>\n",
       "      <td>10.65</td>\n",
       "    </tr>\n",
       "    <tr>\n",
       "      <th>...</th>\n",
       "      <td>...</td>\n",
       "      <td>...</td>\n",
       "      <td>...</td>\n",
       "      <td>...</td>\n",
       "      <td>...</td>\n",
       "      <td>...</td>\n",
       "      <td>...</td>\n",
       "      <td>...</td>\n",
       "      <td>...</td>\n",
       "      <td>...</td>\n",
       "      <td>...</td>\n",
       "      <td>...</td>\n",
       "    </tr>\n",
       "    <tr>\n",
       "      <th>16703</th>\n",
       "      <td>Strawberry Nauts</td>\n",
       "      <td>PSV</td>\n",
       "      <td>2016</td>\n",
       "      <td>Adventure</td>\n",
       "      <td>0.00</td>\n",
       "      <td>0.00</td>\n",
       "      <td>0.01</td>\n",
       "      <td>0.00</td>\n",
       "      <td>-1.0</td>\n",
       "      <td>-1.0</td>\n",
       "      <td>-1</td>\n",
       "      <td>0.01</td>\n",
       "    </tr>\n",
       "    <tr>\n",
       "      <th>16707</th>\n",
       "      <td>Aiyoku no Eustia</td>\n",
       "      <td>PSV</td>\n",
       "      <td>2014</td>\n",
       "      <td>Misc</td>\n",
       "      <td>0.00</td>\n",
       "      <td>0.00</td>\n",
       "      <td>0.01</td>\n",
       "      <td>0.00</td>\n",
       "      <td>-1.0</td>\n",
       "      <td>-1.0</td>\n",
       "      <td>-1</td>\n",
       "      <td>0.01</td>\n",
       "    </tr>\n",
       "    <tr>\n",
       "      <th>16710</th>\n",
       "      <td>Samurai Warriors: Sanada Maru</td>\n",
       "      <td>PS3</td>\n",
       "      <td>2016</td>\n",
       "      <td>Action</td>\n",
       "      <td>0.00</td>\n",
       "      <td>0.00</td>\n",
       "      <td>0.01</td>\n",
       "      <td>0.00</td>\n",
       "      <td>-1.0</td>\n",
       "      <td>-1.0</td>\n",
       "      <td>-1</td>\n",
       "      <td>0.01</td>\n",
       "    </tr>\n",
       "    <tr>\n",
       "      <th>16712</th>\n",
       "      <td>Haitaka no Psychedelica</td>\n",
       "      <td>PSV</td>\n",
       "      <td>2016</td>\n",
       "      <td>Adventure</td>\n",
       "      <td>0.00</td>\n",
       "      <td>0.00</td>\n",
       "      <td>0.01</td>\n",
       "      <td>0.00</td>\n",
       "      <td>-1.0</td>\n",
       "      <td>-1.0</td>\n",
       "      <td>-1</td>\n",
       "      <td>0.01</td>\n",
       "    </tr>\n",
       "    <tr>\n",
       "      <th>16714</th>\n",
       "      <td>Winning Post 8 2016</td>\n",
       "      <td>PSV</td>\n",
       "      <td>2016</td>\n",
       "      <td>Simulation</td>\n",
       "      <td>0.00</td>\n",
       "      <td>0.00</td>\n",
       "      <td>0.01</td>\n",
       "      <td>0.00</td>\n",
       "      <td>-1.0</td>\n",
       "      <td>-1.0</td>\n",
       "      <td>-1</td>\n",
       "      <td>0.01</td>\n",
       "    </tr>\n",
       "  </tbody>\n",
       "</table>\n",
       "<p>2122 rows × 12 columns</p>\n",
       "</div>"
      ],
      "text/plain": [
       "                                name platform  year_of_release         genre  \\\n",
       "16                Grand Theft Auto V      PS3             2013        Action   \n",
       "23                Grand Theft Auto V     X360             2013        Action   \n",
       "31         Call of Duty: Black Ops 3      PS4             2015       Shooter   \n",
       "33               Pokemon X/Pokemon Y      3DS             2013  Role-Playing   \n",
       "42                Grand Theft Auto V      PS4             2014        Action   \n",
       "...                              ...      ...              ...           ...   \n",
       "16703               Strawberry Nauts      PSV             2016     Adventure   \n",
       "16707               Aiyoku no Eustia      PSV             2014          Misc   \n",
       "16710  Samurai Warriors: Sanada Maru      PS3             2016        Action   \n",
       "16712        Haitaka no Psychedelica      PSV             2016     Adventure   \n",
       "16714            Winning Post 8 2016      PSV             2016    Simulation   \n",
       "\n",
       "       na_sales  eu_sales  jp_sales  other_sales  critic_score  user_score  \\\n",
       "16         7.02      9.09      0.98         3.96          97.0         8.2   \n",
       "23         9.66      5.14      0.06         1.41          97.0         8.1   \n",
       "31         6.03      5.86      0.36         2.38          -1.0        -1.0   \n",
       "33         5.28      4.19      4.35         0.78          -1.0        -1.0   \n",
       "42         3.96      6.31      0.38         1.97          97.0         8.3   \n",
       "...         ...       ...       ...          ...           ...         ...   \n",
       "16703      0.00      0.00      0.01         0.00          -1.0        -1.0   \n",
       "16707      0.00      0.00      0.01         0.00          -1.0        -1.0   \n",
       "16710      0.00      0.00      0.01         0.00          -1.0        -1.0   \n",
       "16712      0.00      0.00      0.01         0.00          -1.0        -1.0   \n",
       "16714      0.00      0.00      0.01         0.00          -1.0        -1.0   \n",
       "\n",
       "      rating  sum_sales  \n",
       "16         M      17.09  \n",
       "23         M      14.86  \n",
       "31        -1      12.25  \n",
       "33        -1      13.82  \n",
       "42         M      10.65  \n",
       "...      ...        ...  \n",
       "16703     -1       0.01  \n",
       "16707     -1       0.01  \n",
       "16710     -1       0.01  \n",
       "16712     -1       0.01  \n",
       "16714     -1       0.01  \n",
       "\n",
       "[2122 rows x 12 columns]"
      ]
     },
     "execution_count": 26,
     "metadata": {},
     "output_type": "execute_result"
    }
   ],
   "source": [
    "top_platform_data=data.query('platform in @top_platform_list')\n",
    "top_platform_data"
   ]
  },
  {
   "cell_type": "code",
   "execution_count": 27,
   "metadata": {},
   "outputs": [
    {
     "data": {
      "image/png": "[encoded data removed]",
      "text/plain": [
       "<Figure size 648x648 with 1 Axes>"
      ]
     },
     "metadata": {
      "needs_background": "light"
     },
     "output_type": "display_data"
    }
   ],
   "source": [
    "top_platform_data.pivot_table(index='platform',columns='year_of_release',values='sum_sales',aggfunc='sum',fill_value='-').plot(kind='bar',figsize=(9,9),title='Продажи игр в разрезе по годам и по платформам',xlabel='Платформа',ylabel='Суммарные продажи',grid=True)\n",
    "plt.legend(title='Год');"
   ]
  },
  {
   "cell_type": "markdown",
   "metadata": {},
   "source": [
    "Наибольшими продажами выделяется PS4 и XOne, что обусловлено тем, что данные платформы относительно недавно на рынке и большенство игр выпускается именно для них и именно у этих платформ продажи растут с каждым годом."
   ]
  },
  {
   "cell_type": "markdown",
   "metadata": {},
   "source": [
    "Изучим разброс выручки на различных платформах"
   ]
  },
  {
   "cell_type": "code",
   "execution_count": 28,
   "metadata": {},
   "outputs": [
    {
     "data": {
      "image/png": "[encoded data removed]",
      "text/plain": [
       "<Figure size 720x720 with 1 Axes>"
      ]
     },
     "metadata": {
      "needs_background": "light"
     },
     "output_type": "display_data"
    }
   ],
   "source": [
    "sns.catplot(x='platform',y='sum_sales',kind='box',data=top_platform_data,height=10)\n",
    "plt.ylim([0,20])\n",
    "plt.xlabel('Платформа')\n",
    "plt.ylabel('Сумма продаж')\n",
    "plt.title('Разброс выручки по играм')\n",
    "plt.show()"
   ]
  },
  {
   "cell_type": "code",
   "execution_count": 29,
   "metadata": {},
   "outputs": [
    {
     "data": {
      "image/png": "[encoded data removed]",
      "text/plain": [
       "<Figure size 720x720 with 1 Axes>"
      ]
     },
     "metadata": {
      "needs_background": "light"
     },
     "output_type": "display_data"
    }
   ],
   "source": [
    "sns.catplot(x='platform',y='sum_sales',kind='box',data=top_platform_data,height=10)\n",
    "plt.ylim([0,2])\n",
    "plt.xlabel('Платформа')\n",
    "plt.ylabel('Сумма продаж')\n",
    "plt.title('Разброс выручки по играм')\n",
    "plt.show()"
   ]
  },
  {
   "cell_type": "markdown",
   "metadata": {},
   "source": [
    "Нормальные значения по всем платформам, кроме Wii не превышают 2 млн, при этом имеется огромное количество выбросов вплоть до 17,5 млн. Платформы с наибольшим значением медианы и диапазоном нормальных значений - Wii и X360, наименьшие - PSP и PSV. "
   ]
  },
  {
   "cell_type": "markdown",
   "metadata": {},
   "source": [
    "Рассмотрим влияние оценок критиков и пользователей на продажи на примере самой прибыльной платформы Xbox360"
   ]
  },
  {
   "cell_type": "code",
   "execution_count": 30,
   "metadata": {},
   "outputs": [
    {
     "data": {
      "text/plain": [
       "0.3504305787216835"
      ]
     },
     "execution_count": 30,
     "metadata": {},
     "output_type": "execute_result"
    }
   ],
   "source": [
    "data_x360=data.query('platform==\"X360\" and critic_score!=-1 and user_score!=-1')\n",
    "data_x360['sum_sales'].corr(data_x360['critic_score'])"
   ]
  },
  {
   "cell_type": "code",
   "execution_count": 31,
   "metadata": {},
   "outputs": [
    {
     "data": {
      "text/plain": [
       "Text(0.5, 1.0, 'Диаграмма рассеивания Оценка критиков\\\\Уровень продаж X360')"
      ]
     },
     "execution_count": 31,
     "metadata": {},
     "output_type": "execute_result"
    },
    {
     "data": {
      "image/png": "[encoded data removed]",
      "text/plain": [
       "<Figure size 432x288 with 1 Axes>"
      ]
     },
     "metadata": {
      "needs_background": "light"
     },
     "output_type": "display_data"
    }
   ],
   "source": [
    "data_x360.plot('critic_score','sum_sales',kind='scatter',);\n",
    "plt.xlabel('Оценка критиков') \n",
    "plt.ylabel('Уровень продаж')\n",
    "plt.title('Диаграмма рассеивания Оценка критиков\\Уровень продаж X360')"
   ]
  },
  {
   "cell_type": "code",
   "execution_count": 32,
   "metadata": {},
   "outputs": [
    {
     "data": {
      "text/plain": [
       "-0.005619646382532603"
      ]
     },
     "execution_count": 32,
     "metadata": {},
     "output_type": "execute_result"
    }
   ],
   "source": [
    "data_x360['sum_sales'].corr(data_x360['user_score'])"
   ]
  },
  {
   "cell_type": "code",
   "execution_count": 33,
   "metadata": {},
   "outputs": [
    {
     "data": {
      "text/plain": [
       "Text(0.5, 1.0, 'Диаграмма рассеивания Оценка пользователей\\\\Уровень продаж X360')"
      ]
     },
     "execution_count": 33,
     "metadata": {},
     "output_type": "execute_result"
    },
    {
     "data": {
      "image/png": "[encoded data removed]",
      "text/plain": [
       "<Figure size 432x288 with 1 Axes>"
      ]
     },
     "metadata": {
      "needs_background": "light"
     },
     "output_type": "display_data"
    }
   ],
   "source": [
    "data_x360.plot('user_score','sum_sales',kind='scatter',);\n",
    "plt.xlabel('Оценка пользователей') \n",
    "plt.ylabel('Уровень продаж')\n",
    "plt.title('Диаграмма рассеивания Оценка пользователей\\Уровень продаж X360')"
   ]
  },
  {
   "cell_type": "markdown",
   "metadata": {},
   "source": [
    "Исходя из полученных данных можно сделать вывод, что оценки пользователей практически не влияют на уровень продаж, в отличии от оценки критиков, которая имеет коэффициент корреляции с уровнем продаж 0.35."
   ]
  },
  {
   "cell_type": "markdown",
   "metadata": {},
   "source": [
    "Проверим уровень влияния оценок на всех платформах."
   ]
  },
  {
   "cell_type": "code",
   "execution_count": 34,
   "metadata": {},
   "outputs": [],
   "source": [
    "data_score=data.query('critic_score!=-1 and user_score!=-1')"
   ]
  },
  {
   "cell_type": "code",
   "execution_count": 35,
   "metadata": {},
   "outputs": [
    {
     "data": {
      "text/plain": [
       "0.3146923903436915"
      ]
     },
     "execution_count": 35,
     "metadata": {},
     "output_type": "execute_result"
    }
   ],
   "source": [
    "data_score['sum_sales'].corr(data_score['critic_score'])"
   ]
  },
  {
   "cell_type": "code",
   "execution_count": 36,
   "metadata": {},
   "outputs": [
    {
     "data": {
      "text/plain": [
       "Text(0.5, 1.0, 'Диаграмма рассеивания Оценка критиков\\\\Уровень продаж')"
      ]
     },
     "execution_count": 36,
     "metadata": {},
     "output_type": "execute_result"
    },
    {
     "data": {
      "image/png": "[encoded data removed]",
      "text/plain": [
       "<Figure size 432x288 with 1 Axes>"
      ]
     },
     "metadata": {
      "needs_background": "light"
     },
     "output_type": "display_data"
    }
   ],
   "source": [
    "data_score.plot('critic_score','sum_sales',kind='scatter',);\n",
    "plt.xlabel('Оценка критиков') \n",
    "plt.ylabel('Уровень продаж')\n",
    "plt.title('Диаграмма рассеивания Оценка критиков\\Уровень продаж')"
   ]
  },
  {
   "cell_type": "code",
   "execution_count": 37,
   "metadata": {},
   "outputs": [
    {
     "data": {
      "text/plain": [
       "-0.0028397010015255263"
      ]
     },
     "execution_count": 37,
     "metadata": {},
     "output_type": "execute_result"
    }
   ],
   "source": [
    "data_score['sum_sales'].corr(data_score['user_score'])"
   ]
  },
  {
   "cell_type": "code",
   "execution_count": 38,
   "metadata": {},
   "outputs": [
    {
     "data": {
      "text/plain": [
       "Text(0.5, 1.0, 'Диаграмма рассеивания Оценка пользователей\\\\Уровень продаж')"
      ]
     },
     "execution_count": 38,
     "metadata": {},
     "output_type": "execute_result"
    },
    {
     "data": {
      "image/png": "[encoded data removed]",
      "text/plain": [
       "<Figure size 432x288 with 1 Axes>"
      ]
     },
     "metadata": {
      "needs_background": "light"
     },
     "output_type": "display_data"
    }
   ],
   "source": [
    "data_score.plot('user_score','sum_sales',kind='scatter');\n",
    "plt.xlabel('Оценка пользователей') \n",
    "plt.ylabel('Уровень продаж')\n",
    "plt.title('Диаграмма рассеивания Оценка пользователей\\Уровень продаж')"
   ]
  },
  {
   "cell_type": "markdown",
   "metadata": {},
   "source": [
    "При рассмотрении данных по всем платформам факт того, что оценки критиков больше влияют на уровень продаж, чем оценки пользователей, также подтверждается. При этом в разрезе конкретной платформы Xbox360, разница вовлиянии больше, чем по всем платформам.\n",
    "Также с уверенностью можно утверждать, что выручка увеличивается при оценке критиков более 70."
   ]
  },
  {
   "cell_type": "markdown",
   "metadata": {},
   "source": [
    "Рассмотрим прибыльность игр в разрезе по жанрам, для этого рассмотрим медианные значения каждого из жанров, так как оно наиболее точно позволит оценить стабильность покупки игр того или иного жанра."
   ]
  },
  {
   "cell_type": "code",
   "execution_count": 39,
   "metadata": {},
   "outputs": [
    {
     "data": {
      "text/html": [
       "<div>\n",
       "<style scoped>\n",
       "    .dataframe tbody tr th:only-of-type {\n",
       "        vertical-align: middle;\n",
       "    }\n",
       "\n",
       "    .dataframe tbody tr th {\n",
       "        vertical-align: top;\n",
       "    }\n",
       "\n",
       "    .dataframe thead th {\n",
       "        text-align: right;\n",
       "    }\n",
       "</style>\n",
       "<table border=\"1\" class=\"dataframe\">\n",
       "  <thead>\n",
       "    <tr style=\"text-align: right;\">\n",
       "      <th></th>\n",
       "      <th>sum_sales</th>\n",
       "    </tr>\n",
       "    <tr>\n",
       "      <th>genre</th>\n",
       "      <th></th>\n",
       "    </tr>\n",
       "  </thead>\n",
       "  <tbody>\n",
       "    <tr>\n",
       "      <th>Shooter</th>\n",
       "      <td>0.450</td>\n",
       "    </tr>\n",
       "    <tr>\n",
       "      <th>Sports</th>\n",
       "      <td>0.260</td>\n",
       "    </tr>\n",
       "    <tr>\n",
       "      <th>Platform</th>\n",
       "      <td>0.220</td>\n",
       "    </tr>\n",
       "    <tr>\n",
       "      <th>Fighting</th>\n",
       "      <td>0.120</td>\n",
       "    </tr>\n",
       "    <tr>\n",
       "      <th>Role-Playing</th>\n",
       "      <td>0.120</td>\n",
       "    </tr>\n",
       "    <tr>\n",
       "      <th>Racing</th>\n",
       "      <td>0.115</td>\n",
       "    </tr>\n",
       "    <tr>\n",
       "      <th>Action</th>\n",
       "      <td>0.110</td>\n",
       "    </tr>\n",
       "    <tr>\n",
       "      <th>Misc</th>\n",
       "      <td>0.110</td>\n",
       "    </tr>\n",
       "    <tr>\n",
       "      <th>Simulation</th>\n",
       "      <td>0.095</td>\n",
       "    </tr>\n",
       "    <tr>\n",
       "      <th>Puzzle</th>\n",
       "      <td>0.090</td>\n",
       "    </tr>\n",
       "    <tr>\n",
       "      <th>Strategy</th>\n",
       "      <td>0.070</td>\n",
       "    </tr>\n",
       "    <tr>\n",
       "      <th>Adventure</th>\n",
       "      <td>0.030</td>\n",
       "    </tr>\n",
       "  </tbody>\n",
       "</table>\n",
       "</div>"
      ],
      "text/plain": [
       "              sum_sales\n",
       "genre                  \n",
       "Shooter           0.450\n",
       "Sports            0.260\n",
       "Platform          0.220\n",
       "Fighting          0.120\n",
       "Role-Playing      0.120\n",
       "Racing            0.115\n",
       "Action            0.110\n",
       "Misc              0.110\n",
       "Simulation        0.095\n",
       "Puzzle            0.090\n",
       "Strategy          0.070\n",
       "Adventure         0.030"
      ]
     },
     "execution_count": 39,
     "metadata": {},
     "output_type": "execute_result"
    }
   ],
   "source": [
    "data.pivot_table(index='genre',values='sum_sales',aggfunc='median').sort_values(by='sum_sales',ascending=False)"
   ]
  },
  {
   "cell_type": "markdown",
   "metadata": {},
   "source": [
    "Явным лидером по продажам является жанр Shooter, при этом самыми убыточными жанрами являются Strategy и Adventure"
   ]
  },
  {
   "cell_type": "markdown",
   "metadata": {},
   "source": [
    "### Вывод ###"
   ]
  },
  {
   "cell_type": "markdown",
   "metadata": {},
   "source": [
    "В 2007 году и в 2012-2013 годах наблюдается смена поколений платформ. Также наблюдается резкий спад игрового рынка в период с 2008 по 2012 год. Основываясь на этих сведения, наиболее актуальными являются сведения начиная с 2013 года.\n",
    "Самыми прибыльными платформами являются PS4, PS3, XOne, 3DS, X360, WiiU, PC, PSV, Wii, PSP.\n",
    "\n",
    "Наибольшими продажами выделяется PS4 и XOne, что обусловлено тем, что данные платформы относительно недавно на рынке и большенство игр выпускается именно для них и именно у этих платформ продажи растут с каждым годом.\n",
    "\n",
    "Нормальные значения по всем платформам, кроме Wii не превышают 2 млн, при этом имеется огромное количество выбросов вплоть до 17,5 млн. Платформы с наибольшим значением медианы и диапазоном нормальных значений - Wii и X360, наименьшие - PSP и PSV, что свидетельствует о неравномерности прибыли для различных игр и платформ.\n",
    "\n",
    "Оценки пользователей практически не влияют на уровень продаж, в отличии от оценки критиков, которая имеет коэффициент корреляции с уровнем продаж 0.31. Также с уверенностью можно утверждать, что выручка увеличивается при оценке критиков более 70.\n",
    "\n",
    "Явным лидером по продажам является жанр Shooter, при этом самыми убыточными жанрами являются Strategy и Adventure.\n",
    "\n"
   ]
  },
  {
   "cell_type": "markdown",
   "metadata": {},
   "source": [
    "## Составление протрета пользователя для каждого региона ##"
   ]
  },
  {
   "cell_type": "markdown",
   "metadata": {},
   "source": [
    "Составим портрет пользователя для каждого региона"
   ]
  },
  {
   "cell_type": "markdown",
   "metadata": {},
   "source": [
    "**Северная Америка**"
   ]
  },
  {
   "cell_type": "code",
   "execution_count": 40,
   "metadata": {},
   "outputs": [
    {
     "data": {
      "text/html": [
       "<div>\n",
       "<style scoped>\n",
       "    .dataframe tbody tr th:only-of-type {\n",
       "        vertical-align: middle;\n",
       "    }\n",
       "\n",
       "    .dataframe tbody tr th {\n",
       "        vertical-align: top;\n",
       "    }\n",
       "\n",
       "    .dataframe thead th {\n",
       "        text-align: right;\n",
       "    }\n",
       "</style>\n",
       "<table border=\"1\" class=\"dataframe\">\n",
       "  <thead>\n",
       "    <tr style=\"text-align: right;\">\n",
       "      <th></th>\n",
       "      <th>platform</th>\n",
       "      <th>na_sales</th>\n",
       "    </tr>\n",
       "  </thead>\n",
       "  <tbody>\n",
       "    <tr>\n",
       "      <th>4</th>\n",
       "      <td>PS4</td>\n",
       "      <td>108.62</td>\n",
       "    </tr>\n",
       "    <tr>\n",
       "      <th>10</th>\n",
       "      <td>XOne</td>\n",
       "      <td>92.77</td>\n",
       "    </tr>\n",
       "    <tr>\n",
       "      <th>9</th>\n",
       "      <td>X360</td>\n",
       "      <td>80.90</td>\n",
       "    </tr>\n",
       "    <tr>\n",
       "      <th>3</th>\n",
       "      <td>PS3</td>\n",
       "      <td>63.27</td>\n",
       "    </tr>\n",
       "    <tr>\n",
       "      <th>0</th>\n",
       "      <td>3DS</td>\n",
       "      <td>37.71</td>\n",
       "    </tr>\n",
       "  </tbody>\n",
       "</table>\n",
       "</div>"
      ],
      "text/plain": [
       "   platform  na_sales\n",
       "4       PS4    108.62\n",
       "10     XOne     92.77\n",
       "9      X360     80.90\n",
       "3       PS3     63.27\n",
       "0       3DS     37.71"
      ]
     },
     "execution_count": 40,
     "metadata": {},
     "output_type": "execute_result"
    }
   ],
   "source": [
    "data.groupby('platform')['na_sales'].sum().reset_index().sort_values(by='na_sales',ascending=False).head(5)"
   ]
  },
  {
   "cell_type": "code",
   "execution_count": 41,
   "metadata": {},
   "outputs": [
    {
     "data": {
      "text/html": [
       "<div>\n",
       "<style scoped>\n",
       "    .dataframe tbody tr th:only-of-type {\n",
       "        vertical-align: middle;\n",
       "    }\n",
       "\n",
       "    .dataframe tbody tr th {\n",
       "        vertical-align: top;\n",
       "    }\n",
       "\n",
       "    .dataframe thead th {\n",
       "        text-align: right;\n",
       "    }\n",
       "</style>\n",
       "<table border=\"1\" class=\"dataframe\">\n",
       "  <thead>\n",
       "    <tr style=\"text-align: right;\">\n",
       "      <th></th>\n",
       "      <th>genre</th>\n",
       "      <th>na_sales</th>\n",
       "    </tr>\n",
       "  </thead>\n",
       "  <tbody>\n",
       "    <tr>\n",
       "      <th>0</th>\n",
       "      <td>Action</td>\n",
       "      <td>124.66</td>\n",
       "    </tr>\n",
       "    <tr>\n",
       "      <th>8</th>\n",
       "      <td>Shooter</td>\n",
       "      <td>109.61</td>\n",
       "    </tr>\n",
       "    <tr>\n",
       "      <th>10</th>\n",
       "      <td>Sports</td>\n",
       "      <td>65.17</td>\n",
       "    </tr>\n",
       "    <tr>\n",
       "      <th>7</th>\n",
       "      <td>Role-Playing</td>\n",
       "      <td>46.40</td>\n",
       "    </tr>\n",
       "    <tr>\n",
       "      <th>3</th>\n",
       "      <td>Misc</td>\n",
       "      <td>26.64</td>\n",
       "    </tr>\n",
       "  </tbody>\n",
       "</table>\n",
       "</div>"
      ],
      "text/plain": [
       "           genre  na_sales\n",
       "0         Action    124.66\n",
       "8        Shooter    109.61\n",
       "10        Sports     65.17\n",
       "7   Role-Playing     46.40\n",
       "3           Misc     26.64"
      ]
     },
     "execution_count": 41,
     "metadata": {},
     "output_type": "execute_result"
    }
   ],
   "source": [
    "data.groupby('genre')['na_sales'].sum().reset_index().sort_values(by='na_sales',ascending=False).head(5)"
   ]
  },
  {
   "cell_type": "code",
   "execution_count": 42,
   "metadata": {},
   "outputs": [
    {
     "data": {
      "text/html": [
       "<div>\n",
       "<style scoped>\n",
       "    .dataframe tbody tr th:only-of-type {\n",
       "        vertical-align: middle;\n",
       "    }\n",
       "\n",
       "    .dataframe tbody tr th {\n",
       "        vertical-align: top;\n",
       "    }\n",
       "\n",
       "    .dataframe thead th {\n",
       "        text-align: right;\n",
       "    }\n",
       "</style>\n",
       "<table border=\"1\" class=\"dataframe\">\n",
       "  <thead>\n",
       "    <tr style=\"text-align: right;\">\n",
       "      <th></th>\n",
       "      <th>rating</th>\n",
       "      <th>na_sales</th>\n",
       "    </tr>\n",
       "  </thead>\n",
       "  <tbody>\n",
       "    <tr>\n",
       "      <th>2</th>\n",
       "      <td>M</td>\n",
       "      <td>165.15</td>\n",
       "    </tr>\n",
       "    <tr>\n",
       "      <th>0</th>\n",
       "      <td>E</td>\n",
       "      <td>78.24</td>\n",
       "    </tr>\n",
       "    <tr>\n",
       "      <th>1</th>\n",
       "      <td>E10+</td>\n",
       "      <td>51.97</td>\n",
       "    </tr>\n",
       "    <tr>\n",
       "      <th>3</th>\n",
       "      <td>T</td>\n",
       "      <td>49.60</td>\n",
       "    </tr>\n",
       "  </tbody>\n",
       "</table>\n",
       "</div>"
      ],
      "text/plain": [
       "  rating  na_sales\n",
       "2      M    165.15\n",
       "0      E     78.24\n",
       "1   E10+     51.97\n",
       "3      T     49.60"
      ]
     },
     "execution_count": 42,
     "metadata": {},
     "output_type": "execute_result"
    }
   ],
   "source": [
    "data.query('rating!=-1').groupby('rating')['na_sales'].sum().reset_index().sort_values(by='na_sales',ascending=False).head(5)"
   ]
  },
  {
   "cell_type": "markdown",
   "metadata": {},
   "source": [
    "В Северной Америке наиболее популярной платформой является PS4 и XOne - это самые новые платформы, их популярность скорее всего обеспечена их доступностью и производительностью.\n",
    "\n",
    "Самым популярным жанром является Action.\n",
    "\n",
    "Рейтинг игр также влияет на уровень продаж, так, наиболее популярны игры с рейтингом 'M' и 'E'."
   ]
  },
  {
   "cell_type": "markdown",
   "metadata": {},
   "source": [
    "**Европа**\n"
   ]
  },
  {
   "cell_type": "code",
   "execution_count": 43,
   "metadata": {},
   "outputs": [
    {
     "data": {
      "text/html": [
       "<div>\n",
       "<style scoped>\n",
       "    .dataframe tbody tr th:only-of-type {\n",
       "        vertical-align: middle;\n",
       "    }\n",
       "\n",
       "    .dataframe tbody tr th {\n",
       "        vertical-align: top;\n",
       "    }\n",
       "\n",
       "    .dataframe thead th {\n",
       "        text-align: right;\n",
       "    }\n",
       "</style>\n",
       "<table border=\"1\" class=\"dataframe\">\n",
       "  <thead>\n",
       "    <tr style=\"text-align: right;\">\n",
       "      <th></th>\n",
       "      <th>platform</th>\n",
       "      <th>eu_sales</th>\n",
       "    </tr>\n",
       "  </thead>\n",
       "  <tbody>\n",
       "    <tr>\n",
       "      <th>4</th>\n",
       "      <td>PS4</td>\n",
       "      <td>141.09</td>\n",
       "    </tr>\n",
       "    <tr>\n",
       "      <th>3</th>\n",
       "      <td>PS3</td>\n",
       "      <td>67.23</td>\n",
       "    </tr>\n",
       "    <tr>\n",
       "      <th>10</th>\n",
       "      <td>XOne</td>\n",
       "      <td>51.43</td>\n",
       "    </tr>\n",
       "    <tr>\n",
       "      <th>9</th>\n",
       "      <td>X360</td>\n",
       "      <td>42.04</td>\n",
       "    </tr>\n",
       "    <tr>\n",
       "      <th>0</th>\n",
       "      <td>3DS</td>\n",
       "      <td>30.11</td>\n",
       "    </tr>\n",
       "  </tbody>\n",
       "</table>\n",
       "</div>"
      ],
      "text/plain": [
       "   platform  eu_sales\n",
       "4       PS4    141.09\n",
       "3       PS3     67.23\n",
       "10     XOne     51.43\n",
       "9      X360     42.04\n",
       "0       3DS     30.11"
      ]
     },
     "execution_count": 43,
     "metadata": {},
     "output_type": "execute_result"
    }
   ],
   "source": [
    "data.groupby('platform')['eu_sales'].sum().reset_index().sort_values(by='eu_sales',ascending=False).head(5)"
   ]
  },
  {
   "cell_type": "code",
   "execution_count": 44,
   "metadata": {},
   "outputs": [
    {
     "data": {
      "text/html": [
       "<div>\n",
       "<style scoped>\n",
       "    .dataframe tbody tr th:only-of-type {\n",
       "        vertical-align: middle;\n",
       "    }\n",
       "\n",
       "    .dataframe tbody tr th {\n",
       "        vertical-align: top;\n",
       "    }\n",
       "\n",
       "    .dataframe thead th {\n",
       "        text-align: right;\n",
       "    }\n",
       "</style>\n",
       "<table border=\"1\" class=\"dataframe\">\n",
       "  <thead>\n",
       "    <tr style=\"text-align: right;\">\n",
       "      <th></th>\n",
       "      <th>genre</th>\n",
       "      <th>eu_sales</th>\n",
       "    </tr>\n",
       "  </thead>\n",
       "  <tbody>\n",
       "    <tr>\n",
       "      <th>0</th>\n",
       "      <td>Action</td>\n",
       "      <td>116.44</td>\n",
       "    </tr>\n",
       "    <tr>\n",
       "      <th>8</th>\n",
       "      <td>Shooter</td>\n",
       "      <td>87.72</td>\n",
       "    </tr>\n",
       "    <tr>\n",
       "      <th>10</th>\n",
       "      <td>Sports</td>\n",
       "      <td>60.22</td>\n",
       "    </tr>\n",
       "    <tr>\n",
       "      <th>7</th>\n",
       "      <td>Role-Playing</td>\n",
       "      <td>36.97</td>\n",
       "    </tr>\n",
       "    <tr>\n",
       "      <th>6</th>\n",
       "      <td>Racing</td>\n",
       "      <td>20.09</td>\n",
       "    </tr>\n",
       "  </tbody>\n",
       "</table>\n",
       "</div>"
      ],
      "text/plain": [
       "           genre  eu_sales\n",
       "0         Action    116.44\n",
       "8        Shooter     87.72\n",
       "10        Sports     60.22\n",
       "7   Role-Playing     36.97\n",
       "6         Racing     20.09"
      ]
     },
     "execution_count": 44,
     "metadata": {},
     "output_type": "execute_result"
    }
   ],
   "source": [
    "data.groupby('genre')['eu_sales'].sum().reset_index().sort_values(by='eu_sales',ascending=False).head(5)"
   ]
  },
  {
   "cell_type": "code",
   "execution_count": 45,
   "metadata": {},
   "outputs": [
    {
     "data": {
      "text/html": [
       "<div>\n",
       "<style scoped>\n",
       "    .dataframe tbody tr th:only-of-type {\n",
       "        vertical-align: middle;\n",
       "    }\n",
       "\n",
       "    .dataframe tbody tr th {\n",
       "        vertical-align: top;\n",
       "    }\n",
       "\n",
       "    .dataframe thead th {\n",
       "        text-align: right;\n",
       "    }\n",
       "</style>\n",
       "<table border=\"1\" class=\"dataframe\">\n",
       "  <thead>\n",
       "    <tr style=\"text-align: right;\">\n",
       "      <th></th>\n",
       "      <th>rating</th>\n",
       "      <th>eu_sales</th>\n",
       "    </tr>\n",
       "  </thead>\n",
       "  <tbody>\n",
       "    <tr>\n",
       "      <th>2</th>\n",
       "      <td>M</td>\n",
       "      <td>145.30</td>\n",
       "    </tr>\n",
       "    <tr>\n",
       "      <th>0</th>\n",
       "      <td>E</td>\n",
       "      <td>82.03</td>\n",
       "    </tr>\n",
       "    <tr>\n",
       "      <th>3</th>\n",
       "      <td>T</td>\n",
       "      <td>41.81</td>\n",
       "    </tr>\n",
       "    <tr>\n",
       "      <th>1</th>\n",
       "      <td>E10+</td>\n",
       "      <td>40.03</td>\n",
       "    </tr>\n",
       "  </tbody>\n",
       "</table>\n",
       "</div>"
      ],
      "text/plain": [
       "  rating  eu_sales\n",
       "2      M    145.30\n",
       "0      E     82.03\n",
       "3      T     41.81\n",
       "1   E10+     40.03"
      ]
     },
     "execution_count": 45,
     "metadata": {},
     "output_type": "execute_result"
    }
   ],
   "source": [
    "data.query('rating!=-1').groupby('rating')['eu_sales'].sum().reset_index().sort_values(by='eu_sales',ascending=False).head(5)"
   ]
  },
  {
   "cell_type": "markdown",
   "metadata": {},
   "source": [
    "В Европе самой популярной платформой является PS4, на втором месте расположен PS3. Явная доминация Sony Playstation, скорее всего, обусловлено наличием эксклюзивов на данной платформе и большей доступностью для европейского рынка, чем Xbox.\n",
    "\n",
    "Самым популярным жанром является Action.\n",
    "\n",
    "Рейтинг игр также влияет на уровень продаж, так, наиболее популярны игры с рейтингом 'M' и 'E'."
   ]
  },
  {
   "cell_type": "markdown",
   "metadata": {},
   "source": [
    "**Япония**"
   ]
  },
  {
   "cell_type": "code",
   "execution_count": 46,
   "metadata": {},
   "outputs": [
    {
     "data": {
      "text/html": [
       "<div>\n",
       "<style scoped>\n",
       "    .dataframe tbody tr th:only-of-type {\n",
       "        vertical-align: middle;\n",
       "    }\n",
       "\n",
       "    .dataframe tbody tr th {\n",
       "        vertical-align: top;\n",
       "    }\n",
       "\n",
       "    .dataframe thead th {\n",
       "        text-align: right;\n",
       "    }\n",
       "</style>\n",
       "<table border=\"1\" class=\"dataframe\">\n",
       "  <thead>\n",
       "    <tr style=\"text-align: right;\">\n",
       "      <th></th>\n",
       "      <th>platform</th>\n",
       "      <th>jp_sales</th>\n",
       "    </tr>\n",
       "  </thead>\n",
       "  <tbody>\n",
       "    <tr>\n",
       "      <th>0</th>\n",
       "      <td>3DS</td>\n",
       "      <td>67.70</td>\n",
       "    </tr>\n",
       "    <tr>\n",
       "      <th>3</th>\n",
       "      <td>PS3</td>\n",
       "      <td>22.98</td>\n",
       "    </tr>\n",
       "    <tr>\n",
       "      <th>6</th>\n",
       "      <td>PSV</td>\n",
       "      <td>18.48</td>\n",
       "    </tr>\n",
       "    <tr>\n",
       "      <th>4</th>\n",
       "      <td>PS4</td>\n",
       "      <td>15.96</td>\n",
       "    </tr>\n",
       "    <tr>\n",
       "      <th>8</th>\n",
       "      <td>WiiU</td>\n",
       "      <td>10.88</td>\n",
       "    </tr>\n",
       "  </tbody>\n",
       "</table>\n",
       "</div>"
      ],
      "text/plain": [
       "  platform  jp_sales\n",
       "0      3DS     67.70\n",
       "3      PS3     22.98\n",
       "6      PSV     18.48\n",
       "4      PS4     15.96\n",
       "8     WiiU     10.88"
      ]
     },
     "execution_count": 46,
     "metadata": {},
     "output_type": "execute_result"
    }
   ],
   "source": [
    "data.groupby('platform')['jp_sales'].sum().reset_index().sort_values(by='jp_sales',ascending=False).head(5)"
   ]
  },
  {
   "cell_type": "code",
   "execution_count": 47,
   "metadata": {},
   "outputs": [
    {
     "data": {
      "text/html": [
       "<div>\n",
       "<style scoped>\n",
       "    .dataframe tbody tr th:only-of-type {\n",
       "        vertical-align: middle;\n",
       "    }\n",
       "\n",
       "    .dataframe tbody tr th {\n",
       "        vertical-align: top;\n",
       "    }\n",
       "\n",
       "    .dataframe thead th {\n",
       "        text-align: right;\n",
       "    }\n",
       "</style>\n",
       "<table border=\"1\" class=\"dataframe\">\n",
       "  <thead>\n",
       "    <tr style=\"text-align: right;\">\n",
       "      <th></th>\n",
       "      <th>genre</th>\n",
       "      <th>jp_sales</th>\n",
       "    </tr>\n",
       "  </thead>\n",
       "  <tbody>\n",
       "    <tr>\n",
       "      <th>7</th>\n",
       "      <td>Role-Playing</td>\n",
       "      <td>51.04</td>\n",
       "    </tr>\n",
       "    <tr>\n",
       "      <th>0</th>\n",
       "      <td>Action</td>\n",
       "      <td>40.02</td>\n",
       "    </tr>\n",
       "    <tr>\n",
       "      <th>3</th>\n",
       "      <td>Misc</td>\n",
       "      <td>9.20</td>\n",
       "    </tr>\n",
       "    <tr>\n",
       "      <th>2</th>\n",
       "      <td>Fighting</td>\n",
       "      <td>7.62</td>\n",
       "    </tr>\n",
       "    <tr>\n",
       "      <th>8</th>\n",
       "      <td>Shooter</td>\n",
       "      <td>6.60</td>\n",
       "    </tr>\n",
       "  </tbody>\n",
       "</table>\n",
       "</div>"
      ],
      "text/plain": [
       "          genre  jp_sales\n",
       "7  Role-Playing     51.04\n",
       "0        Action     40.02\n",
       "3          Misc      9.20\n",
       "2      Fighting      7.62\n",
       "8       Shooter      6.60"
      ]
     },
     "execution_count": 47,
     "metadata": {},
     "output_type": "execute_result"
    }
   ],
   "source": [
    "data.groupby('genre')['jp_sales'].sum().reset_index().sort_values(by='jp_sales',ascending=False).head(5)"
   ]
  },
  {
   "cell_type": "code",
   "execution_count": 48,
   "metadata": {},
   "outputs": [
    {
     "data": {
      "text/html": [
       "<div>\n",
       "<style scoped>\n",
       "    .dataframe tbody tr th:only-of-type {\n",
       "        vertical-align: middle;\n",
       "    }\n",
       "\n",
       "    .dataframe tbody tr th {\n",
       "        vertical-align: top;\n",
       "    }\n",
       "\n",
       "    .dataframe thead th {\n",
       "        text-align: right;\n",
       "    }\n",
       "</style>\n",
       "<table border=\"1\" class=\"dataframe\">\n",
       "  <thead>\n",
       "    <tr style=\"text-align: right;\">\n",
       "      <th></th>\n",
       "      <th>rating</th>\n",
       "      <th>jp_sales</th>\n",
       "    </tr>\n",
       "  </thead>\n",
       "  <tbody>\n",
       "    <tr>\n",
       "      <th>3</th>\n",
       "      <td>T</td>\n",
       "      <td>20.12</td>\n",
       "    </tr>\n",
       "    <tr>\n",
       "      <th>0</th>\n",
       "      <td>E</td>\n",
       "      <td>15.14</td>\n",
       "    </tr>\n",
       "    <tr>\n",
       "      <th>2</th>\n",
       "      <td>M</td>\n",
       "      <td>14.11</td>\n",
       "    </tr>\n",
       "    <tr>\n",
       "      <th>1</th>\n",
       "      <td>E10+</td>\n",
       "      <td>5.76</td>\n",
       "    </tr>\n",
       "  </tbody>\n",
       "</table>\n",
       "</div>"
      ],
      "text/plain": [
       "  rating  jp_sales\n",
       "3      T     20.12\n",
       "0      E     15.14\n",
       "2      M     14.11\n",
       "1   E10+      5.76"
      ]
     },
     "execution_count": 48,
     "metadata": {},
     "output_type": "execute_result"
    }
   ],
   "source": [
    "data.query('rating!=-1').groupby('rating')['jp_sales'].sum().reset_index().sort_values(by='jp_sales',ascending=False).head(5)"
   ]
  },
  {
   "cell_type": "markdown",
   "metadata": {},
   "source": [
    "В Японии наблюдается явное доминирование платформ японского изготовителя, первое место занимает Nintendo3DS. Следует также отметить, что данная платформа является портативной. Данный факт с большой вероятностью обусловлен японским менталитетом и образом жизни.<br>\n",
    "На первом месте среди популярных жанров с большим отрывом находится Role-playing, что неудивительно, ведь в Японии RP составляющая представлена практически как отдельная культура.<br>\n",
    "Лидирующие места по продажам в разрезе рейтинга занимают 'E' и 'T', что вполне логично, так как Nintendo в большинстве случаев выпускает игры именно такой категории."
   ]
  },
  {
   "cell_type": "markdown",
   "metadata": {},
   "source": [
    "### Вывод ###"
   ]
  },
  {
   "cell_type": "markdown",
   "metadata": {},
   "source": [
    "**В Северной Америке** В Северной Америке наиболее популярной платформой является PS4 и XOne - это самые новые платформы, их популярность скорее всего обеспечена их доступностью и производительностью.\n",
    "Самым популярным жанром является Action.\n",
    "Рейтинг игр также влияет на уровень продаж, так, наиболее популярны игры с рейтингом 'M' и 'E'.\n",
    "\n",
    "**В Европе** В Европе самой популярной платформой является PS4, на втором месте расположен PS3. Явная доминация Sony Playstation, скорее всего, обусловлено наличием эксклюзивов на данной платформе и большей доступностью для европейского рынка, чем Xbox.\n",
    "Самым популярным жанром является Action.\n",
    "Рейтинг игр также влияет на уровень продаж, так, наиболее популярны игры с рейтингом 'M' и 'E'.\n",
    "\n",
    "**В Японии** В Японии наблюдается явное доминирование платформ японского изготовителя, первое место занимает Nintendo3DS. Следует также отметить, что данная платформа является портативной. Данный факт с большой вероятностью обусловлен японским менталитетом и образом жизни.<br>\n",
    "На первом месте среди популярных жанров с большим отрывом находится Role-playing, что неудивительно, ведь в Японии RP составляющая представлена практически как отдельная культура.<br>\n",
    "Лидирующие места по продажам в разрезе рейтинга занимают 'E' и 'T', что вполне логично, так как Nintendo в большинстве случаев выпускает игры именно такой категории.\n",
    "\n"
   ]
  },
  {
   "cell_type": "markdown",
   "metadata": {},
   "source": [
    "## Проверка гипотез ##\n"
   ]
  },
  {
   "cell_type": "markdown",
   "metadata": {},
   "source": [
    "### Сравнение рейтинга платформ Xbox One и PC ###"
   ]
  },
  {
   "cell_type": "markdown",
   "metadata": {},
   "source": [
    "$H_0$ - Средние пользовательские рейтинги платформ Xbox One и PC одинаковые<br>\n",
    "$H_1$ - Средние пользовательские рейтинги платформ Xbox One b PC различаются"
   ]
  },
  {
   "cell_type": "code",
   "execution_count": 49,
   "metadata": {},
   "outputs": [
    {
     "name": "stdout",
     "output_type": "stream",
     "text": [
      "p-значение:  0.14012658403611647\n",
      "Гипотеза не подтверждается\n",
      "Средний пользовательский рейтинг XboxOne: 6.52\n",
      "Средний пользовательский рейтинг PC: 6.27\n"
     ]
    }
   ],
   "source": [
    "from scipy import stats as st\n",
    "xone=data.query('platform==\"XOne\" and user_score!=-1')\n",
    "pc=data.query('platform==\"PC\" and user_score!=-1')\n",
    "alpha=.05\n",
    "results = st.ttest_ind(xone['user_score'],pc['user_score'], equal_var = True)\n",
    "print('p-значение: ', results.pvalue)\n",
    "if results.pvalue<alpha:\n",
    "    print('Гипотеза подтверждается')\n",
    "else:\n",
    "    print('Гипотеза не подтверждается')\n",
    "    \n",
    "print('Средний пользовательский рейтинг XboxOne:',xone['user_score'].mean().round(2))\n",
    "print('Средний пользовательский рейтинг PC:',pc['user_score'].mean().round(2))               "
   ]
  },
  {
   "cell_type": "markdown",
   "metadata": {},
   "source": [
    "Средние пользовательские рейтинги XboxOne и PC не одинаковые."
   ]
  },
  {
   "cell_type": "markdown",
   "metadata": {},
   "source": [
    "### Сравнение средних пользовательских рейтингов жанров Action  и Sports. ###"
   ]
  },
  {
   "cell_type": "markdown",
   "metadata": {},
   "source": [
    "$H_0$ - Средние пользовательские рейтинги жанров Action и Sports разные.<br>\n",
    "$H_1$ - Средние пользовательские рейтинги жанров Action и Sports одинаковые\n"
   ]
  },
  {
   "cell_type": "code",
   "execution_count": 50,
   "metadata": {},
   "outputs": [
    {
     "name": "stdout",
     "output_type": "stream",
     "text": [
      "p-значение:  1.0517832389140023e-27\n",
      "Гипотеза подтверждается\n",
      "Средний пользовательский рейтинг жанра Action: 6.84\n",
      "Средний пользовательский рейтинг жанра Sports: 5.24\n"
     ]
    }
   ],
   "source": [
    "from scipy import stats as st\n",
    "action=data.query('genre==\"Action\" and user_score!=-1')\n",
    "sports=data.query('genre==\"Sports\" and user_score!=-1')\n",
    "alpha=.05\n",
    "results = st.ttest_ind(action['user_score'],sports['user_score'], equal_var = True)\n",
    "print('p-значение: ', results.pvalue)\n",
    "if results.pvalue<alpha:\n",
    "    print('Гипотеза подтверждается')\n",
    "else:\n",
    "    print('Гипотеза не подтверждается')\n",
    "    \n",
    "print('Средний пользовательский рейтинг жанра Action:',action['user_score'].mean().round(2))\n",
    "print('Средний пользовательский рейтинг жанра Sports:',sports['user_score'].mean().round(2))       "
   ]
  },
  {
   "cell_type": "markdown",
   "metadata": {},
   "source": [
    "Средние пользовательские рейтинги жанров Action и Sports разные."
   ]
  },
  {
   "cell_type": "markdown",
   "metadata": {},
   "source": [
    "### Вывод ###"
   ]
  },
  {
   "cell_type": "markdown",
   "metadata": {},
   "source": [
    "При проверке гипотез получены следующие результаты:\n",
    "1. Средние пользовательские рейтинги XboxOne и PC не одинаковые.\n",
    "2. Средние пользовательские рейтинги жанров Action и Sports разные."
   ]
  },
  {
   "cell_type": "markdown",
   "metadata": {},
   "source": [
    "## Общий вывод ##"
   ]
  },
  {
   "cell_type": "markdown",
   "metadata": {},
   "source": [
    "В ходе исследования были проанализированы исторические данные о продажах игр, оценки пользователей и экспертов, жанры и платформы.\n",
    "\n",
    "Данные обладали большим количеством пропусков, некоторые столбцы имели не свойственный тип данных. В результате обработки пропуски заполненны несвойственными значениями, с целью сохранения данных и использования их в анализе. Также столбцы были приведены к нижнему регистру и добавлен необходимый для дальнейшего исследования столбец с суммарным количеством продаж по всем регионам.\n",
    "\n",
    "В результате исследовательского анализа данных получены следующие результаты:\n",
    "- В 2007 году и в 2012-2013 годах наблюдается смена поколений платформ. Также наблюдается резкий спад игрового рынка в период с 2008 по 2012 год. Основываясь на этих сведения, наиболее актуальными являются сведения начиная с 2013 года.\n",
    "\n",
    "- Самыми прибыльными платформами являются PS4, PS3, XOne, 3DS, X360, WiiU, PC, PSV, Wii, PSP.\n",
    "\n",
    "- Наибольшими продажами выделяется PS4 и XOne, что обусловлено тем, что данные платформы относительно недавно на рынке и большенство игр выпускается именно для них и именно у этих платформ продажи растут с каждым годом.\n",
    "- Нормальные значения по всем платформам, кроме Wii не превышают 2 млн, при этом имеется огромное количество выбросов вплоть до 17,5 млн. Платформы с наибольшим значением медианы и диапазоном нормальных значений - Wii и X360, наименьшие - PSP и PSV, что свидетельствует о неравномерности прибыли для различных игр и платформ.\n",
    "- Оценки пользователей практически не влияют на уровень продаж, в отличии от оценки критиков, которая имеет коэффициент корреляции с уровнем продаж 0.31. Также с уверенностью можно утверждать, что выручка увеличивается при оценке критиков более 70.\n",
    "- Явным лидером по продажам является жанр Shooter, при этом самыми убыточными жанрами являются Strategy и Adventure.\n",
    "\n",
    "Составлен портрет пользователя для каждого региона:\n",
    "- **В Северной Америке** наиболее популярной платформой является PS4 и XOne - это самые новые платформы, их популярность скорее всего обеспечена их доступностью и производительностью.Самым популярным жанром является Action.Рейтинг игр также влияет на уровень продаж, так, наиболее популярны игры с рейтингом 'M' и 'E'.\n",
    "\n",
    "\n",
    "- **В Европе** самой популярной платформой является PS4, на втором месте расположен PS3. Явная доминация Sony Playstation, скорее всего, обусловлено наличием эксклюзивов на данной платформе и большей доступностью для европейского рынка, чем Xbox.Самым популярным жанром является Action.Рейтинг игр также влияет на уровень продаж, так, наиболее популярны игры с рейтингом 'M' и 'E'.\n",
    "\n",
    "- **В Японии** наблюдается явное доминирование платформ японского изготовителя, первое место занимает Nintendo3DS. Следует также отметить, что данная платформа является портативной. Данный факт с большой вероятностью обусловлен японским менталитетом и образом жизни.<br>На первом месте среди популярных жанров с большим отрывом находится Role-playing, что неудивительно, ведь в Японии RP составляющая представлена практически как отдельная культура.<br>Лидирующие места по продажам в разрезе рейтинга занимают 'E' и 'T', что вполне логично, так как Nintendo в большинстве случаев выпускает игры именно такой категории.\n",
    "\n",
    "\n",
    "Осуществлена проверка двух гипотез:\n",
    "1. Средние пользовательские рейтинги платформ Xbox One и PC одинаковые.\n",
    "2. Средние пользовательские рейтинги жанров Action  и Sports разные.\n",
    "\n",
    "В результате проверки гипотез получены следующие результаты:\n",
    "1. Средние пользовательские рейтинги XboxOne и PC не одинаковые.\n",
    "2. Средние пользовательские рейтинги жанров Action и Sports разные.\n",
    "\n",
    "Планируя продажи компьютерных игр на 2017 год необходимо руководствоваться следующими положениями:\n",
    "- Особое внимание необходимо уделять новым развивающимся платформам 3DS, PS4 и XOne, также в следующем году все еще будут актуальными платформы PS3 и X360.\n",
    "- Необходимо сделать упор на реализацию игр с жанрами Action и Shooter.\n",
    "- При планировании рекламных компаний необходимо создавать разные рекламные компании под различные регионы, так как на примере Японии явно видно, что предпочтения в зависимости от регионов могут быть диаметрально противоположные.\n"
   ]
  }
 ],
 "metadata": {
  "ExecuteTimeLog": [
   {
    "duration": 799,
    "start_time": "2023-04-17T16:30:26.765Z"
   },
   {
    "duration": 231,
    "start_time": "2023-04-17T16:33:12.242Z"
   },
   {
    "duration": 43,
    "start_time": "2023-04-17T16:34:10.612Z"
   },
   {
    "duration": 20,
    "start_time": "2023-04-17T16:35:05.810Z"
   },
   {
    "duration": 14,
    "start_time": "2023-04-17T16:35:46.917Z"
   },
   {
    "duration": 17,
    "start_time": "2023-04-17T16:36:14.416Z"
   },
   {
    "duration": 72,
    "start_time": "2023-04-17T16:37:02.482Z"
   },
   {
    "duration": 8,
    "start_time": "2023-04-17T16:37:11.015Z"
   },
   {
    "duration": 3,
    "start_time": "2023-04-17T16:39:36.712Z"
   },
   {
    "duration": 7,
    "start_time": "2023-04-17T16:39:42.937Z"
   },
   {
    "duration": 7,
    "start_time": "2023-04-17T16:39:46.976Z"
   },
   {
    "duration": 7,
    "start_time": "2023-04-17T16:39:50.734Z"
   },
   {
    "duration": 3,
    "start_time": "2023-04-17T16:39:52.582Z"
   },
   {
    "duration": 7,
    "start_time": "2023-04-17T16:39:53.015Z"
   },
   {
    "duration": 7,
    "start_time": "2023-04-17T16:40:14.611Z"
   },
   {
    "duration": 7,
    "start_time": "2023-04-17T16:40:16.413Z"
   },
   {
    "duration": 592,
    "start_time": "2023-04-17T16:40:37.722Z"
   },
   {
    "duration": 64,
    "start_time": "2023-04-17T16:40:38.316Z"
   },
   {
    "duration": 14,
    "start_time": "2023-04-17T16:40:38.382Z"
   },
   {
    "duration": 43,
    "start_time": "2023-04-17T16:40:38.397Z"
   },
   {
    "duration": 22,
    "start_time": "2023-04-17T16:40:38.463Z"
   },
   {
    "duration": 2,
    "start_time": "2023-04-17T16:40:38.487Z"
   },
   {
    "duration": 14,
    "start_time": "2023-04-17T16:40:38.491Z"
   },
   {
    "duration": 16,
    "start_time": "2023-04-17T16:42:21.380Z"
   },
   {
    "duration": 5,
    "start_time": "2023-04-17T16:42:39.881Z"
   },
   {
    "duration": 13,
    "start_time": "2023-04-17T16:42:46.937Z"
   },
   {
    "duration": 68,
    "start_time": "2023-04-17T16:43:22.128Z"
   },
   {
    "duration": 7,
    "start_time": "2023-04-17T16:43:32.616Z"
   },
   {
    "duration": 9,
    "start_time": "2023-04-17T16:43:33.911Z"
   },
   {
    "duration": 5,
    "start_time": "2023-04-17T16:45:05.084Z"
   },
   {
    "duration": 6,
    "start_time": "2023-04-17T16:47:41.412Z"
   },
   {
    "duration": 7,
    "start_time": "2023-04-17T16:47:53.813Z"
   },
   {
    "duration": 5,
    "start_time": "2023-04-17T16:47:59.482Z"
   },
   {
    "duration": 8,
    "start_time": "2023-04-17T16:48:24.910Z"
   },
   {
    "duration": 4,
    "start_time": "2023-04-17T16:49:15.173Z"
   },
   {
    "duration": 4,
    "start_time": "2023-04-17T16:49:35.545Z"
   },
   {
    "duration": 7,
    "start_time": "2023-04-17T16:51:49.075Z"
   },
   {
    "duration": 11,
    "start_time": "2023-04-17T16:52:01.592Z"
   },
   {
    "duration": 14,
    "start_time": "2023-04-17T16:52:58.689Z"
   },
   {
    "duration": 4,
    "start_time": "2023-04-17T16:52:59.418Z"
   },
   {
    "duration": 3,
    "start_time": "2023-04-17T16:52:59.622Z"
   },
   {
    "duration": 8,
    "start_time": "2023-04-17T16:52:59.805Z"
   },
   {
    "duration": 9,
    "start_time": "2023-04-17T16:53:00.018Z"
   },
   {
    "duration": 5,
    "start_time": "2023-04-17T16:54:26.976Z"
   },
   {
    "duration": 15,
    "start_time": "2023-04-17T16:54:31.798Z"
   },
   {
    "duration": 13,
    "start_time": "2023-04-17T16:55:05.542Z"
   },
   {
    "duration": 10,
    "start_time": "2023-04-17T16:55:53.580Z"
   },
   {
    "duration": 5,
    "start_time": "2023-04-17T16:56:02.018Z"
   },
   {
    "duration": 8,
    "start_time": "2023-04-17T16:56:18.899Z"
   },
   {
    "duration": 30,
    "start_time": "2023-04-17T17:02:50.080Z"
   },
   {
    "duration": 14,
    "start_time": "2023-04-17T17:02:57.832Z"
   },
   {
    "duration": 40,
    "start_time": "2023-04-17T17:03:17.707Z"
   },
   {
    "duration": 7,
    "start_time": "2023-04-17T17:04:56.427Z"
   },
   {
    "duration": 47,
    "start_time": "2023-04-17T17:05:19.030Z"
   },
   {
    "duration": 74,
    "start_time": "2023-04-17T17:05:45.618Z"
   },
   {
    "duration": 35,
    "start_time": "2023-04-17T17:05:50.911Z"
   },
   {
    "duration": 5,
    "start_time": "2023-04-17T17:08:33.204Z"
   },
   {
    "duration": 6,
    "start_time": "2023-04-17T17:08:38.627Z"
   },
   {
    "duration": 88,
    "start_time": "2023-04-17T17:09:25.276Z"
   },
   {
    "duration": 74,
    "start_time": "2023-04-17T17:09:44.480Z"
   },
   {
    "duration": 99,
    "start_time": "2023-04-17T17:10:53.794Z"
   },
   {
    "duration": 73,
    "start_time": "2023-04-17T17:13:40.412Z"
   },
   {
    "duration": 67,
    "start_time": "2023-04-17T17:13:53.723Z"
   },
   {
    "duration": 109,
    "start_time": "2023-04-17T17:14:00.793Z"
   },
   {
    "duration": 71,
    "start_time": "2023-04-17T17:14:05.299Z"
   },
   {
    "duration": 11,
    "start_time": "2023-04-17T17:14:10.841Z"
   },
   {
    "duration": 13,
    "start_time": "2023-04-17T17:14:28.387Z"
   },
   {
    "duration": 182,
    "start_time": "2023-04-17T17:14:32.348Z"
   },
   {
    "duration": 164,
    "start_time": "2023-04-17T17:14:40.575Z"
   },
   {
    "duration": 157,
    "start_time": "2023-04-17T17:15:43.114Z"
   },
   {
    "duration": 34,
    "start_time": "2023-04-17T17:15:50.825Z"
   },
   {
    "duration": 7,
    "start_time": "2023-04-17T17:16:36.209Z"
   },
   {
    "duration": 1153,
    "start_time": "2023-04-18T16:54:30.462Z"
   },
   {
    "duration": 186,
    "start_time": "2023-04-18T16:54:31.618Z"
   },
   {
    "duration": 28,
    "start_time": "2023-04-18T16:54:31.808Z"
   },
   {
    "duration": 99,
    "start_time": "2023-04-18T16:54:31.838Z"
   },
   {
    "duration": 141,
    "start_time": "2023-04-18T16:54:31.939Z"
   },
   {
    "duration": 64,
    "start_time": "2023-04-18T16:54:32.083Z"
   },
   {
    "duration": 128,
    "start_time": "2023-04-18T16:54:32.149Z"
   },
   {
    "duration": 59,
    "start_time": "2023-04-18T16:54:32.280Z"
   },
   {
    "duration": 44,
    "start_time": "2023-04-18T16:54:32.348Z"
   },
   {
    "duration": 34,
    "start_time": "2023-04-18T16:54:32.394Z"
   },
   {
    "duration": 57,
    "start_time": "2023-04-18T16:54:32.430Z"
   },
   {
    "duration": 6,
    "start_time": "2023-04-18T16:54:32.489Z"
   },
   {
    "duration": 14,
    "start_time": "2023-04-18T16:54:32.497Z"
   },
   {
    "duration": 25,
    "start_time": "2023-04-18T16:54:32.513Z"
   },
   {
    "duration": 57,
    "start_time": "2023-04-18T16:54:32.540Z"
   },
   {
    "duration": 7,
    "start_time": "2023-04-18T16:54:32.598Z"
   },
   {
    "duration": 24,
    "start_time": "2023-04-18T16:54:32.607Z"
   },
   {
    "duration": 17,
    "start_time": "2023-04-18T16:54:32.633Z"
   },
   {
    "duration": 295,
    "start_time": "2023-04-18T16:54:32.652Z"
   },
   {
    "duration": 56,
    "start_time": "2023-04-18T16:54:32.949Z"
   },
   {
    "duration": 38,
    "start_time": "2023-04-18T16:54:33.007Z"
   },
   {
    "duration": 99,
    "start_time": "2023-04-18T16:56:25.918Z"
   },
   {
    "duration": 94,
    "start_time": "2023-04-18T16:56:30.471Z"
   },
   {
    "duration": 51,
    "start_time": "2023-04-18T16:56:31.270Z"
   },
   {
    "duration": 4,
    "start_time": "2023-04-18T16:56:37.517Z"
   },
   {
    "duration": 120,
    "start_time": "2023-04-18T16:57:11.230Z"
   },
   {
    "duration": 3,
    "start_time": "2023-04-18T16:57:38.721Z"
   },
   {
    "duration": 97,
    "start_time": "2023-04-18T16:59:34.341Z"
   },
   {
    "duration": 17,
    "start_time": "2023-04-18T16:59:38.767Z"
   },
   {
    "duration": 14,
    "start_time": "2023-04-18T16:59:49.596Z"
   },
   {
    "duration": 78,
    "start_time": "2023-04-18T17:02:41.530Z"
   },
   {
    "duration": 69,
    "start_time": "2023-04-18T17:03:55.188Z"
   },
   {
    "duration": 18,
    "start_time": "2023-04-18T17:06:34.476Z"
   },
   {
    "duration": 6,
    "start_time": "2023-04-18T17:06:35.299Z"
   },
   {
    "duration": 14,
    "start_time": "2023-04-18T17:06:35.601Z"
   },
   {
    "duration": 10,
    "start_time": "2023-04-18T17:07:06.130Z"
   },
   {
    "duration": 6,
    "start_time": "2023-04-18T17:07:06.627Z"
   },
   {
    "duration": 8,
    "start_time": "2023-04-18T17:07:07.498Z"
   },
   {
    "duration": 87,
    "start_time": "2023-04-18T17:07:28.610Z"
   },
   {
    "duration": 28,
    "start_time": "2023-04-18T17:07:31.641Z"
   },
   {
    "duration": 8,
    "start_time": "2023-04-18T17:08:36.520Z"
   },
   {
    "duration": 42,
    "start_time": "2023-04-18T17:08:37.050Z"
   },
   {
    "duration": 10,
    "start_time": "2023-04-18T17:14:07.125Z"
   },
   {
    "duration": 211,
    "start_time": "2023-04-18T17:14:08.878Z"
   },
   {
    "duration": 8,
    "start_time": "2023-04-18T17:16:46.379Z"
   },
   {
    "duration": 87,
    "start_time": "2023-04-18T17:19:06.917Z"
   },
   {
    "duration": 181,
    "start_time": "2023-04-18T17:19:09.838Z"
   },
   {
    "duration": 8,
    "start_time": "2023-04-18T17:20:37.536Z"
   },
   {
    "duration": 10,
    "start_time": "2023-04-18T17:20:43.709Z"
   },
   {
    "duration": 83,
    "start_time": "2023-04-18T17:22:30.126Z"
   },
   {
    "duration": 75,
    "start_time": "2023-04-18T17:22:31.917Z"
   },
   {
    "duration": 17,
    "start_time": "2023-04-18T17:23:03.984Z"
   },
   {
    "duration": 7,
    "start_time": "2023-04-18T17:23:10.284Z"
   },
   {
    "duration": 7,
    "start_time": "2023-04-18T17:23:35.513Z"
   },
   {
    "duration": 44,
    "start_time": "2023-04-18T17:23:43.867Z"
   },
   {
    "duration": 40,
    "start_time": "2023-04-18T17:24:28.917Z"
   },
   {
    "duration": 33,
    "start_time": "2023-04-18T17:24:50.779Z"
   },
   {
    "duration": 91,
    "start_time": "2023-04-18T17:28:45.698Z"
   },
   {
    "duration": 164,
    "start_time": "2023-04-18T17:28:47.134Z"
   },
   {
    "duration": 8,
    "start_time": "2023-04-18T17:30:01.632Z"
   },
   {
    "duration": 14,
    "start_time": "2023-04-18T17:30:02.226Z"
   },
   {
    "duration": 4,
    "start_time": "2023-04-18T17:30:18.132Z"
   },
   {
    "duration": 8,
    "start_time": "2023-04-18T17:30:18.590Z"
   },
   {
    "duration": 74,
    "start_time": "2023-04-18T17:30:20.532Z"
   },
   {
    "duration": 71,
    "start_time": "2023-04-18T17:30:24.430Z"
   },
   {
    "duration": 143,
    "start_time": "2023-04-18T17:32:59.826Z"
   },
   {
    "duration": 113,
    "start_time": "2023-04-18T17:33:01.118Z"
   },
   {
    "duration": 402,
    "start_time": "2023-04-18T17:33:18.031Z"
   },
   {
    "duration": 399,
    "start_time": "2023-04-18T17:33:52.026Z"
   },
   {
    "duration": 153,
    "start_time": "2023-04-18T17:33:58.740Z"
   },
   {
    "duration": 594,
    "start_time": "2023-04-18T17:38:00.777Z"
   },
   {
    "duration": 46,
    "start_time": "2023-04-18T17:39:29.884Z"
   },
   {
    "duration": 517,
    "start_time": "2023-04-18T17:39:42.811Z"
   },
   {
    "duration": 411,
    "start_time": "2023-04-18T17:39:48.885Z"
   },
   {
    "duration": 85,
    "start_time": "2023-04-18T17:40:25.711Z"
   },
   {
    "duration": 11,
    "start_time": "2023-04-18T17:40:28.720Z"
   },
   {
    "duration": 565,
    "start_time": "2023-04-18T17:40:32.419Z"
   },
   {
    "duration": 2044,
    "start_time": "2023-04-18T17:45:31.313Z"
   },
   {
    "duration": 523,
    "start_time": "2023-04-18T17:45:40.524Z"
   },
   {
    "duration": 370,
    "start_time": "2023-04-18T17:48:34.431Z"
   },
   {
    "duration": 342,
    "start_time": "2023-04-18T17:49:49.379Z"
   },
   {
    "duration": 643,
    "start_time": "2023-04-18T17:49:58.013Z"
   },
   {
    "duration": 94,
    "start_time": "2023-04-18T17:50:35.912Z"
   },
   {
    "duration": 776,
    "start_time": "2023-04-18T17:50:39.216Z"
   },
   {
    "duration": 544,
    "start_time": "2023-04-18T17:51:15.135Z"
   },
   {
    "duration": 696,
    "start_time": "2023-04-18T17:51:44.698Z"
   },
   {
    "duration": 1340,
    "start_time": "2023-04-18T17:56:18.485Z"
   },
   {
    "duration": 94,
    "start_time": "2023-04-18T17:56:19.828Z"
   },
   {
    "duration": 61,
    "start_time": "2023-04-18T17:56:19.924Z"
   },
   {
    "duration": 26,
    "start_time": "2023-04-18T17:56:19.986Z"
   },
   {
    "duration": 10,
    "start_time": "2023-04-18T17:56:20.016Z"
   },
   {
    "duration": 70,
    "start_time": "2023-04-18T17:56:20.029Z"
   },
   {
    "duration": 17,
    "start_time": "2023-04-18T17:56:20.101Z"
   },
   {
    "duration": 33,
    "start_time": "2023-04-18T17:56:20.120Z"
   },
   {
    "duration": 43,
    "start_time": "2023-04-18T17:56:20.155Z"
   },
   {
    "duration": 57,
    "start_time": "2023-04-18T17:56:20.200Z"
   },
   {
    "duration": 42,
    "start_time": "2023-04-18T17:56:20.259Z"
   },
   {
    "duration": 9,
    "start_time": "2023-04-18T17:56:20.303Z"
   },
   {
    "duration": 49,
    "start_time": "2023-04-18T17:56:20.314Z"
   },
   {
    "duration": 43,
    "start_time": "2023-04-18T17:56:20.369Z"
   },
   {
    "duration": 19,
    "start_time": "2023-04-18T17:56:20.415Z"
   },
   {
    "duration": 99,
    "start_time": "2023-04-18T17:56:20.437Z"
   },
   {
    "duration": 60,
    "start_time": "2023-04-18T17:56:20.538Z"
   },
   {
    "duration": 238,
    "start_time": "2023-04-18T17:56:20.601Z"
   },
   {
    "duration": 53,
    "start_time": "2023-04-18T17:56:20.842Z"
   },
   {
    "duration": 20,
    "start_time": "2023-04-18T17:56:20.897Z"
   },
   {
    "duration": 35,
    "start_time": "2023-04-18T17:56:20.919Z"
   },
   {
    "duration": 32,
    "start_time": "2023-04-18T17:56:20.959Z"
   },
   {
    "duration": 25,
    "start_time": "2023-04-18T17:56:20.993Z"
   },
   {
    "duration": 25,
    "start_time": "2023-04-18T17:56:21.020Z"
   },
   {
    "duration": 59,
    "start_time": "2023-04-18T17:56:21.051Z"
   },
   {
    "duration": 36,
    "start_time": "2023-04-18T17:56:21.112Z"
   },
   {
    "duration": 509,
    "start_time": "2023-04-18T17:56:21.153Z"
   },
   {
    "duration": 552,
    "start_time": "2023-04-18T17:58:39.303Z"
   },
   {
    "duration": 680,
    "start_time": "2023-04-18T17:59:07.953Z"
   },
   {
    "duration": 7,
    "start_time": "2023-04-18T18:00:22.125Z"
   },
   {
    "duration": 16,
    "start_time": "2023-04-18T18:00:40.133Z"
   },
   {
    "duration": 622,
    "start_time": "2023-04-18T18:00:54.975Z"
   },
   {
    "duration": 565,
    "start_time": "2023-04-18T18:01:05.006Z"
   },
   {
    "duration": 280,
    "start_time": "2023-04-18T18:02:12.420Z"
   },
   {
    "duration": 179,
    "start_time": "2023-04-18T18:02:26.705Z"
   },
   {
    "duration": 140,
    "start_time": "2023-04-18T18:02:34.906Z"
   },
   {
    "duration": 9,
    "start_time": "2023-04-18T18:13:49.676Z"
   },
   {
    "duration": 11,
    "start_time": "2023-04-18T18:14:51.507Z"
   },
   {
    "duration": 85,
    "start_time": "2023-04-18T18:22:49.823Z"
   },
   {
    "duration": 203,
    "start_time": "2023-04-18T18:22:59.277Z"
   },
   {
    "duration": 198,
    "start_time": "2023-04-18T18:23:20.336Z"
   },
   {
    "duration": 201,
    "start_time": "2023-04-18T18:23:26.032Z"
   },
   {
    "duration": 12,
    "start_time": "2023-04-18T18:23:55.018Z"
   },
   {
    "duration": 205,
    "start_time": "2023-04-18T18:23:55.576Z"
   },
   {
    "duration": 9,
    "start_time": "2023-04-18T18:23:57.117Z"
   },
   {
    "duration": 218,
    "start_time": "2023-04-18T18:24:08.587Z"
   },
   {
    "duration": 53,
    "start_time": "2023-04-18T18:26:06.911Z"
   },
   {
    "duration": 8,
    "start_time": "2023-04-18T18:26:44.312Z"
   },
   {
    "duration": 6,
    "start_time": "2023-04-18T18:27:06.085Z"
   },
   {
    "duration": 5,
    "start_time": "2023-04-18T18:27:21.518Z"
   },
   {
    "duration": 168,
    "start_time": "2023-04-18T18:27:59.612Z"
   },
   {
    "duration": 15,
    "start_time": "2023-04-18T18:28:02.034Z"
   },
   {
    "duration": 15,
    "start_time": "2023-04-18T18:28:02.738Z"
   },
   {
    "duration": 218,
    "start_time": "2023-04-18T18:28:02.756Z"
   },
   {
    "duration": 6,
    "start_time": "2023-04-18T18:28:02.976Z"
   },
   {
    "duration": 305,
    "start_time": "2023-04-18T18:28:02.985Z"
   },
   {
    "duration": 13,
    "start_time": "2023-04-18T18:32:10.185Z"
   },
   {
    "duration": 21,
    "start_time": "2023-04-18T18:32:15.426Z"
   },
   {
    "duration": 24,
    "start_time": "2023-04-18T18:32:41.215Z"
   },
   {
    "duration": 85,
    "start_time": "2023-04-18T18:35:01.119Z"
   },
   {
    "duration": 154,
    "start_time": "2023-04-18T18:35:02.626Z"
   },
   {
    "duration": 210,
    "start_time": "2023-04-18T18:35:41.583Z"
   },
   {
    "duration": 201,
    "start_time": "2023-04-18T18:36:42.288Z"
   },
   {
    "duration": 188,
    "start_time": "2023-04-18T18:37:03.612Z"
   },
   {
    "duration": 184,
    "start_time": "2023-04-18T18:37:23.714Z"
   },
   {
    "duration": 7,
    "start_time": "2023-04-18T18:37:26.218Z"
   },
   {
    "duration": 202,
    "start_time": "2023-04-18T18:37:51.957Z"
   },
   {
    "duration": 238,
    "start_time": "2023-04-18T18:38:11.318Z"
   },
   {
    "duration": 9,
    "start_time": "2023-04-18T18:38:12.718Z"
   },
   {
    "duration": 9,
    "start_time": "2023-04-18T18:38:12.822Z"
   },
   {
    "duration": 228,
    "start_time": "2023-04-18T18:38:12.934Z"
   },
   {
    "duration": 8,
    "start_time": "2023-04-18T18:38:13.165Z"
   },
   {
    "duration": 243,
    "start_time": "2023-04-18T18:38:13.630Z"
   },
   {
    "duration": 109,
    "start_time": "2023-04-19T17:01:39.479Z"
   },
   {
    "duration": 74,
    "start_time": "2023-04-19T17:01:40.991Z"
   },
   {
    "duration": 47,
    "start_time": "2023-04-19T17:04:05.808Z"
   },
   {
    "duration": 1540,
    "start_time": "2023-04-19T17:04:11.582Z"
   },
   {
    "duration": 231,
    "start_time": "2023-04-19T17:04:13.124Z"
   },
   {
    "duration": 51,
    "start_time": "2023-04-19T17:04:13.356Z"
   },
   {
    "duration": 21,
    "start_time": "2023-04-19T17:04:13.409Z"
   },
   {
    "duration": 3,
    "start_time": "2023-04-19T17:04:13.432Z"
   },
   {
    "duration": 24,
    "start_time": "2023-04-19T17:04:13.437Z"
   },
   {
    "duration": 35,
    "start_time": "2023-04-19T17:04:13.462Z"
   },
   {
    "duration": 6,
    "start_time": "2023-04-19T17:04:13.500Z"
   },
   {
    "duration": 17,
    "start_time": "2023-04-19T17:04:13.508Z"
   },
   {
    "duration": 19,
    "start_time": "2023-04-19T17:04:13.527Z"
   },
   {
    "duration": 4,
    "start_time": "2023-04-19T17:04:13.548Z"
   },
   {
    "duration": 6,
    "start_time": "2023-04-19T17:04:13.554Z"
   },
   {
    "duration": 31,
    "start_time": "2023-04-19T17:04:13.562Z"
   },
   {
    "duration": 12,
    "start_time": "2023-04-19T17:04:13.597Z"
   },
   {
    "duration": 5,
    "start_time": "2023-04-19T17:04:13.612Z"
   },
   {
    "duration": 19,
    "start_time": "2023-04-19T17:04:13.619Z"
   },
   {
    "duration": 16,
    "start_time": "2023-04-19T17:04:13.640Z"
   },
   {
    "duration": 237,
    "start_time": "2023-04-19T17:04:13.658Z"
   },
   {
    "duration": 46,
    "start_time": "2023-04-19T17:04:13.898Z"
   },
   {
    "duration": 7,
    "start_time": "2023-04-19T17:04:13.946Z"
   },
   {
    "duration": 8,
    "start_time": "2023-04-19T17:04:13.955Z"
   },
   {
    "duration": 11,
    "start_time": "2023-04-19T17:04:13.994Z"
   },
   {
    "duration": 4,
    "start_time": "2023-04-19T17:04:14.008Z"
   },
   {
    "duration": 9,
    "start_time": "2023-04-19T17:04:14.014Z"
   },
   {
    "duration": 24,
    "start_time": "2023-04-19T17:04:14.025Z"
   },
   {
    "duration": 64,
    "start_time": "2023-04-19T17:04:14.051Z"
   },
   {
    "duration": 535,
    "start_time": "2023-04-19T17:04:14.117Z"
   },
   {
    "duration": 9,
    "start_time": "2023-04-19T17:04:14.654Z"
   },
   {
    "duration": 207,
    "start_time": "2023-04-19T17:04:14.665Z"
   },
   {
    "duration": 6,
    "start_time": "2023-04-19T17:04:14.874Z"
   },
   {
    "duration": 229,
    "start_time": "2023-04-19T17:04:14.882Z"
   },
   {
    "duration": 6,
    "start_time": "2023-04-19T17:04:15.113Z"
   },
   {
    "duration": 13,
    "start_time": "2023-04-19T17:04:15.121Z"
   },
   {
    "duration": 186,
    "start_time": "2023-04-19T17:04:15.136Z"
   },
   {
    "duration": 6,
    "start_time": "2023-04-19T17:04:15.323Z"
   },
   {
    "duration": 179,
    "start_time": "2023-04-19T17:04:15.330Z"
   },
   {
    "duration": 18,
    "start_time": "2023-04-19T17:04:15.512Z"
   },
   {
    "duration": 11,
    "start_time": "2023-04-19T17:04:15.532Z"
   },
   {
    "duration": 12,
    "start_time": "2023-04-19T17:04:39.175Z"
   },
   {
    "duration": 128,
    "start_time": "2023-04-19T17:04:46.991Z"
   },
   {
    "duration": 18,
    "start_time": "2023-04-19T17:04:56.283Z"
   },
   {
    "duration": 1239,
    "start_time": "2023-04-19T17:05:05.989Z"
   },
   {
    "duration": 74,
    "start_time": "2023-04-19T17:05:07.230Z"
   },
   {
    "duration": 48,
    "start_time": "2023-04-19T17:05:07.306Z"
   },
   {
    "duration": 48,
    "start_time": "2023-04-19T17:05:07.356Z"
   },
   {
    "duration": 4,
    "start_time": "2023-04-19T17:05:07.407Z"
   },
   {
    "duration": 16,
    "start_time": "2023-04-19T17:05:07.413Z"
   },
   {
    "duration": 7,
    "start_time": "2023-04-19T17:05:07.431Z"
   },
   {
    "duration": 11,
    "start_time": "2023-04-19T17:05:07.440Z"
   },
   {
    "duration": 12,
    "start_time": "2023-04-19T17:05:07.453Z"
   },
   {
    "duration": 36,
    "start_time": "2023-04-19T17:05:07.467Z"
   },
   {
    "duration": 6,
    "start_time": "2023-04-19T17:05:07.506Z"
   },
   {
    "duration": 3,
    "start_time": "2023-04-19T17:05:07.514Z"
   },
   {
    "duration": 8,
    "start_time": "2023-04-19T17:05:07.519Z"
   },
   {
    "duration": 8,
    "start_time": "2023-04-19T17:05:07.530Z"
   },
   {
    "duration": 54,
    "start_time": "2023-04-19T17:05:07.540Z"
   },
   {
    "duration": 18,
    "start_time": "2023-04-19T17:05:07.596Z"
   },
   {
    "duration": 12,
    "start_time": "2023-04-19T17:05:07.615Z"
   },
   {
    "duration": 227,
    "start_time": "2023-04-19T17:05:07.629Z"
   },
   {
    "duration": 57,
    "start_time": "2023-04-19T17:05:07.858Z"
   },
   {
    "duration": 6,
    "start_time": "2023-04-19T17:05:07.916Z"
   },
   {
    "duration": 25,
    "start_time": "2023-04-19T17:05:07.924Z"
   },
   {
    "duration": 8,
    "start_time": "2023-04-19T17:05:07.951Z"
   },
   {
    "duration": 4,
    "start_time": "2023-04-19T17:05:07.960Z"
   },
   {
    "duration": 5,
    "start_time": "2023-04-19T17:05:07.966Z"
   },
   {
    "duration": 34,
    "start_time": "2023-04-19T17:05:07.992Z"
   },
   {
    "duration": 36,
    "start_time": "2023-04-19T17:05:08.029Z"
   },
   {
    "duration": 500,
    "start_time": "2023-04-19T17:05:08.067Z"
   },
   {
    "duration": 10,
    "start_time": "2023-04-19T17:05:08.569Z"
   },
   {
    "duration": 199,
    "start_time": "2023-04-19T17:05:08.581Z"
   },
   {
    "duration": 12,
    "start_time": "2023-04-19T17:05:08.782Z"
   },
   {
    "duration": 198,
    "start_time": "2023-04-19T17:05:08.796Z"
   },
   {
    "duration": 7,
    "start_time": "2023-04-19T17:05:08.996Z"
   },
   {
    "duration": 7,
    "start_time": "2023-04-19T17:05:09.005Z"
   },
   {
    "duration": 187,
    "start_time": "2023-04-19T17:05:09.014Z"
   },
   {
    "duration": 7,
    "start_time": "2023-04-19T17:05:09.203Z"
   },
   {
    "duration": 190,
    "start_time": "2023-04-19T17:05:09.213Z"
   },
   {
    "duration": 19,
    "start_time": "2023-04-19T17:05:09.405Z"
   },
   {
    "duration": 135,
    "start_time": "2023-04-19T17:05:09.425Z"
   },
   {
    "duration": 17,
    "start_time": "2023-04-19T17:05:16.090Z"
   },
   {
    "duration": 20,
    "start_time": "2023-04-19T17:05:31.690Z"
   },
   {
    "duration": 15,
    "start_time": "2023-04-19T17:05:57.839Z"
   },
   {
    "duration": 15,
    "start_time": "2023-04-19T17:06:34.875Z"
   },
   {
    "duration": 15,
    "start_time": "2023-04-19T17:07:05.323Z"
   },
   {
    "duration": 21,
    "start_time": "2023-04-19T17:07:58.187Z"
   },
   {
    "duration": 76,
    "start_time": "2023-04-19T17:09:16.246Z"
   },
   {
    "duration": 101,
    "start_time": "2023-04-19T17:09:19.125Z"
   },
   {
    "duration": 12,
    "start_time": "2023-04-19T17:12:01.923Z"
   },
   {
    "duration": 9,
    "start_time": "2023-04-19T17:12:02.806Z"
   },
   {
    "duration": 15,
    "start_time": "2023-04-19T17:12:28.585Z"
   },
   {
    "duration": 17,
    "start_time": "2023-04-19T17:12:49.348Z"
   },
   {
    "duration": 13,
    "start_time": "2023-04-19T17:12:54.848Z"
   },
   {
    "duration": 112,
    "start_time": "2023-04-19T17:13:09.631Z"
   },
   {
    "duration": 17,
    "start_time": "2023-04-19T17:13:13.589Z"
   },
   {
    "duration": 89,
    "start_time": "2023-04-19T17:15:49.645Z"
   },
   {
    "duration": 130,
    "start_time": "2023-04-19T17:15:52.489Z"
   },
   {
    "duration": 8,
    "start_time": "2023-04-19T17:15:59.675Z"
   },
   {
    "duration": 9,
    "start_time": "2023-04-19T17:16:01.342Z"
   },
   {
    "duration": 12,
    "start_time": "2023-04-19T17:16:26.376Z"
   },
   {
    "duration": 11,
    "start_time": "2023-04-19T17:16:49.880Z"
   },
   {
    "duration": 16,
    "start_time": "2023-04-19T17:17:11.380Z"
   },
   {
    "duration": 17,
    "start_time": "2023-04-19T17:17:17.767Z"
   },
   {
    "duration": 76,
    "start_time": "2023-04-19T17:22:27.525Z"
   },
   {
    "duration": 80,
    "start_time": "2023-04-19T17:22:30.566Z"
   },
   {
    "duration": 72,
    "start_time": "2023-04-19T17:22:57.933Z"
   },
   {
    "duration": 79,
    "start_time": "2023-04-19T17:23:50.264Z"
   },
   {
    "duration": 75,
    "start_time": "2023-04-19T17:23:53.021Z"
   },
   {
    "duration": 86,
    "start_time": "2023-04-19T17:39:45.016Z"
   },
   {
    "duration": 58,
    "start_time": "2023-04-19T17:40:03.069Z"
   },
   {
    "duration": 13,
    "start_time": "2023-04-19T17:40:34.326Z"
   },
   {
    "duration": 1217,
    "start_time": "2023-04-19T17:42:08.273Z"
   },
   {
    "duration": 14,
    "start_time": "2023-04-19T17:42:18.745Z"
   },
   {
    "duration": 76,
    "start_time": "2023-04-19T17:44:20.964Z"
   },
   {
    "duration": 16,
    "start_time": "2023-04-19T17:46:10.606Z"
   },
   {
    "duration": 76,
    "start_time": "2023-04-19T17:46:38.872Z"
   },
   {
    "duration": 70,
    "start_time": "2023-04-19T17:59:02.482Z"
   },
   {
    "duration": 3,
    "start_time": "2023-04-19T18:06:05.486Z"
   },
   {
    "duration": 81,
    "start_time": "2023-04-19T18:31:39.077Z"
   },
   {
    "duration": 1154,
    "start_time": "2023-04-19T18:45:39.109Z"
   },
   {
    "duration": 70,
    "start_time": "2023-04-19T18:45:40.265Z"
   },
   {
    "duration": 46,
    "start_time": "2023-04-19T18:45:40.336Z"
   },
   {
    "duration": 31,
    "start_time": "2023-04-19T18:45:40.393Z"
   },
   {
    "duration": 3,
    "start_time": "2023-04-19T18:45:40.428Z"
   },
   {
    "duration": 15,
    "start_time": "2023-04-19T18:45:40.434Z"
   },
   {
    "duration": 42,
    "start_time": "2023-04-19T18:45:40.451Z"
   },
   {
    "duration": 7,
    "start_time": "2023-04-19T18:45:40.495Z"
   },
   {
    "duration": 14,
    "start_time": "2023-04-19T18:45:40.504Z"
   },
   {
    "duration": 19,
    "start_time": "2023-04-19T18:45:40.520Z"
   },
   {
    "duration": 5,
    "start_time": "2023-04-19T18:45:40.542Z"
   },
   {
    "duration": 6,
    "start_time": "2023-04-19T18:45:40.549Z"
   },
   {
    "duration": 34,
    "start_time": "2023-04-19T18:45:40.559Z"
   },
   {
    "duration": 16,
    "start_time": "2023-04-19T18:45:40.599Z"
   },
   {
    "duration": 5,
    "start_time": "2023-04-19T18:45:40.617Z"
   },
   {
    "duration": 8,
    "start_time": "2023-04-19T18:45:40.623Z"
   },
   {
    "duration": 227,
    "start_time": "2023-04-19T18:45:40.633Z"
   },
   {
    "duration": 54,
    "start_time": "2023-04-19T18:45:40.863Z"
   },
   {
    "duration": 7,
    "start_time": "2023-04-19T18:45:40.920Z"
   },
   {
    "duration": 11,
    "start_time": "2023-04-19T18:45:40.929Z"
   },
   {
    "duration": 9,
    "start_time": "2023-04-19T18:45:40.942Z"
   },
   {
    "duration": 39,
    "start_time": "2023-04-19T18:45:40.953Z"
   },
   {
    "duration": 4,
    "start_time": "2023-04-19T18:45:40.994Z"
   },
   {
    "duration": 28,
    "start_time": "2023-04-19T18:45:40.999Z"
   },
   {
    "duration": 32,
    "start_time": "2023-04-19T18:45:41.028Z"
   },
   {
    "duration": 467,
    "start_time": "2023-04-19T18:45:41.092Z"
   },
   {
    "duration": 11,
    "start_time": "2023-04-19T18:45:41.560Z"
   },
   {
    "duration": 201,
    "start_time": "2023-04-19T18:45:41.572Z"
   },
   {
    "duration": 18,
    "start_time": "2023-04-19T18:45:41.775Z"
   },
   {
    "duration": 210,
    "start_time": "2023-04-19T18:45:41.795Z"
   },
   {
    "duration": 8,
    "start_time": "2023-04-19T18:45:42.007Z"
   },
   {
    "duration": 7,
    "start_time": "2023-04-19T18:45:42.017Z"
   },
   {
    "duration": 223,
    "start_time": "2023-04-19T18:45:42.025Z"
   },
   {
    "duration": 7,
    "start_time": "2023-04-19T18:45:42.250Z"
   },
   {
    "duration": 184,
    "start_time": "2023-04-19T18:45:42.258Z"
   },
   {
    "duration": 15,
    "start_time": "2023-04-19T18:45:42.444Z"
   },
   {
    "duration": 33,
    "start_time": "2023-04-19T18:45:42.461Z"
   },
   {
    "duration": 11,
    "start_time": "2023-04-19T18:45:42.496Z"
   },
   {
    "duration": 13,
    "start_time": "2023-04-19T18:45:42.508Z"
   },
   {
    "duration": 11,
    "start_time": "2023-04-19T18:45:42.522Z"
   },
   {
    "duration": 11,
    "start_time": "2023-04-19T18:45:42.536Z"
   },
   {
    "duration": 16,
    "start_time": "2023-04-19T18:45:42.593Z"
   },
   {
    "duration": 14,
    "start_time": "2023-04-19T18:45:42.610Z"
   },
   {
    "duration": 11,
    "start_time": "2023-04-19T18:45:42.625Z"
   },
   {
    "duration": 14,
    "start_time": "2023-04-19T18:45:42.638Z"
   },
   {
    "duration": 49,
    "start_time": "2023-04-19T18:45:42.654Z"
   },
   {
    "duration": 30,
    "start_time": "2023-04-19T18:45:42.704Z"
   },
   {
    "duration": 53,
    "start_time": "2023-04-20T19:34:53.726Z"
   },
   {
    "duration": 1345,
    "start_time": "2023-04-20T19:35:03.176Z"
   },
   {
    "duration": 273,
    "start_time": "2023-04-20T19:35:04.523Z"
   },
   {
    "duration": 48,
    "start_time": "2023-04-20T19:35:04.798Z"
   },
   {
    "duration": 20,
    "start_time": "2023-04-20T19:35:04.847Z"
   },
   {
    "duration": 5,
    "start_time": "2023-04-20T19:35:04.869Z"
   },
   {
    "duration": 32,
    "start_time": "2023-04-20T19:35:04.876Z"
   },
   {
    "duration": 12,
    "start_time": "2023-04-20T19:35:04.910Z"
   },
   {
    "duration": 9,
    "start_time": "2023-04-20T19:35:04.924Z"
   },
   {
    "duration": 6,
    "start_time": "2023-04-20T19:35:04.934Z"
   },
   {
    "duration": 21,
    "start_time": "2023-04-20T19:35:04.942Z"
   },
   {
    "duration": 4,
    "start_time": "2023-04-20T19:35:04.965Z"
   },
   {
    "duration": 4,
    "start_time": "2023-04-20T19:35:04.971Z"
   },
   {
    "duration": 8,
    "start_time": "2023-04-20T19:35:04.992Z"
   },
   {
    "duration": 13,
    "start_time": "2023-04-20T19:35:05.003Z"
   },
   {
    "duration": 4,
    "start_time": "2023-04-20T19:35:05.018Z"
   },
   {
    "duration": 10,
    "start_time": "2023-04-20T19:35:05.024Z"
   },
   {
    "duration": 257,
    "start_time": "2023-04-20T19:35:05.036Z"
   },
   {
    "duration": 42,
    "start_time": "2023-04-20T19:35:05.296Z"
   },
   {
    "duration": 5,
    "start_time": "2023-04-20T19:35:05.340Z"
   },
   {
    "duration": 7,
    "start_time": "2023-04-20T19:35:05.347Z"
   },
   {
    "duration": 7,
    "start_time": "2023-04-20T19:35:05.356Z"
   },
   {
    "duration": 3,
    "start_time": "2023-04-20T19:35:05.394Z"
   },
   {
    "duration": 6,
    "start_time": "2023-04-20T19:35:05.399Z"
   },
   {
    "duration": 26,
    "start_time": "2023-04-20T19:35:05.406Z"
   },
   {
    "duration": 27,
    "start_time": "2023-04-20T19:35:05.433Z"
   },
   {
    "duration": 515,
    "start_time": "2023-04-20T19:35:05.462Z"
   },
   {
    "duration": 16,
    "start_time": "2023-04-20T19:35:05.978Z"
   },
   {
    "duration": 187,
    "start_time": "2023-04-20T19:35:05.996Z"
   },
   {
    "duration": 13,
    "start_time": "2023-04-20T19:35:06.185Z"
   },
   {
    "duration": 187,
    "start_time": "2023-04-20T19:35:06.200Z"
   },
   {
    "duration": 10,
    "start_time": "2023-04-20T19:35:06.389Z"
   },
   {
    "duration": 9,
    "start_time": "2023-04-20T19:35:06.400Z"
   },
   {
    "duration": 171,
    "start_time": "2023-04-20T19:35:06.411Z"
   },
   {
    "duration": 10,
    "start_time": "2023-04-20T19:35:06.583Z"
   },
   {
    "duration": 171,
    "start_time": "2023-04-20T19:35:06.595Z"
   },
   {
    "duration": 13,
    "start_time": "2023-04-20T19:35:06.768Z"
   },
   {
    "duration": 24,
    "start_time": "2023-04-20T19:35:06.783Z"
   },
   {
    "duration": 13,
    "start_time": "2023-04-20T19:35:06.809Z"
   },
   {
    "duration": 13,
    "start_time": "2023-04-20T19:35:06.824Z"
   },
   {
    "duration": 10,
    "start_time": "2023-04-20T19:35:06.838Z"
   },
   {
    "duration": 10,
    "start_time": "2023-04-20T19:35:06.851Z"
   },
   {
    "duration": 20,
    "start_time": "2023-04-20T19:35:06.893Z"
   },
   {
    "duration": 10,
    "start_time": "2023-04-20T19:35:06.915Z"
   },
   {
    "duration": 12,
    "start_time": "2023-04-20T19:35:06.926Z"
   },
   {
    "duration": 12,
    "start_time": "2023-04-20T19:35:06.939Z"
   },
   {
    "duration": 12,
    "start_time": "2023-04-20T19:35:06.953Z"
   },
   {
    "duration": 40,
    "start_time": "2023-04-20T19:35:06.966Z"
   },
   {
    "duration": 16,
    "start_time": "2023-04-20T19:35:54.770Z"
   },
   {
    "duration": 14,
    "start_time": "2023-04-20T19:36:43.212Z"
   },
   {
    "duration": 420,
    "start_time": "2023-04-20T19:39:13.543Z"
   },
   {
    "duration": 464,
    "start_time": "2023-04-20T19:39:17.936Z"
   },
   {
    "duration": 418,
    "start_time": "2023-04-20T19:39:28.553Z"
   },
   {
    "duration": 429,
    "start_time": "2023-04-20T19:39:46.421Z"
   },
   {
    "duration": 323,
    "start_time": "2023-04-20T19:44:14.955Z"
   },
   {
    "duration": 491,
    "start_time": "2023-04-20T19:44:26.758Z"
   },
   {
    "duration": 471,
    "start_time": "2023-04-20T19:44:33.178Z"
   },
   {
    "duration": 604,
    "start_time": "2023-04-20T19:45:38.162Z"
   },
   {
    "duration": 359,
    "start_time": "2023-04-20T19:45:58.584Z"
   },
   {
    "duration": 438,
    "start_time": "2023-04-20T19:46:13.614Z"
   },
   {
    "duration": 463,
    "start_time": "2023-04-20T19:46:26.680Z"
   },
   {
    "duration": 448,
    "start_time": "2023-04-20T19:49:16.001Z"
   },
   {
    "duration": 456,
    "start_time": "2023-04-20T19:54:48.258Z"
   },
   {
    "duration": 556,
    "start_time": "2023-04-20T19:56:12.102Z"
   },
   {
    "duration": 441,
    "start_time": "2023-04-20T19:56:22.815Z"
   },
   {
    "duration": 82,
    "start_time": "2023-04-20T19:56:28.386Z"
   },
   {
    "duration": 506,
    "start_time": "2023-04-20T19:56:32.956Z"
   },
   {
    "duration": 1151,
    "start_time": "2023-04-20T19:56:53.149Z"
   },
   {
    "duration": 66,
    "start_time": "2023-04-20T19:56:54.301Z"
   },
   {
    "duration": 40,
    "start_time": "2023-04-20T19:56:54.369Z"
   },
   {
    "duration": 20,
    "start_time": "2023-04-20T19:56:54.411Z"
   },
   {
    "duration": 2,
    "start_time": "2023-04-20T19:56:54.434Z"
   },
   {
    "duration": 25,
    "start_time": "2023-04-20T19:56:54.438Z"
   },
   {
    "duration": 9,
    "start_time": "2023-04-20T19:56:54.464Z"
   },
   {
    "duration": 6,
    "start_time": "2023-04-20T19:56:54.494Z"
   },
   {
    "duration": 6,
    "start_time": "2023-04-20T19:56:54.503Z"
   },
   {
    "duration": 14,
    "start_time": "2023-04-20T19:56:54.513Z"
   },
   {
    "duration": 5,
    "start_time": "2023-04-20T19:56:54.529Z"
   },
   {
    "duration": 15,
    "start_time": "2023-04-20T19:56:54.536Z"
   },
   {
    "duration": 9,
    "start_time": "2023-04-20T19:56:54.553Z"
   },
   {
    "duration": 34,
    "start_time": "2023-04-20T19:56:54.564Z"
   },
   {
    "duration": 4,
    "start_time": "2023-04-20T19:56:54.599Z"
   },
   {
    "duration": 8,
    "start_time": "2023-04-20T19:56:54.605Z"
   },
   {
    "duration": 221,
    "start_time": "2023-04-20T19:56:54.615Z"
   },
   {
    "duration": 39,
    "start_time": "2023-04-20T19:56:54.838Z"
   },
   {
    "duration": 6,
    "start_time": "2023-04-20T19:56:54.894Z"
   },
   {
    "duration": 24,
    "start_time": "2023-04-20T19:56:54.901Z"
   },
   {
    "duration": 8,
    "start_time": "2023-04-20T19:56:54.927Z"
   },
   {
    "duration": 30,
    "start_time": "2023-04-20T19:56:54.937Z"
   },
   {
    "duration": 36,
    "start_time": "2023-04-20T19:56:54.970Z"
   },
   {
    "duration": 39,
    "start_time": "2023-04-20T19:56:55.009Z"
   },
   {
    "duration": 28,
    "start_time": "2023-04-20T19:56:55.050Z"
   },
   {
    "duration": 477,
    "start_time": "2023-04-20T19:56:55.080Z"
   },
   {
    "duration": 14,
    "start_time": "2023-04-20T19:56:55.559Z"
   },
   {
    "duration": 201,
    "start_time": "2023-04-20T19:56:55.578Z"
   },
   {
    "duration": 6,
    "start_time": "2023-04-20T19:56:55.781Z"
   },
   {
    "duration": 199,
    "start_time": "2023-04-20T19:56:55.794Z"
   },
   {
    "duration": 7,
    "start_time": "2023-04-20T19:56:55.995Z"
   },
   {
    "duration": 7,
    "start_time": "2023-04-20T19:56:56.004Z"
   },
   {
    "duration": 183,
    "start_time": "2023-04-20T19:56:56.012Z"
   },
   {
    "duration": 6,
    "start_time": "2023-04-20T19:56:56.197Z"
   },
   {
    "duration": 169,
    "start_time": "2023-04-20T19:56:56.205Z"
   },
   {
    "duration": 25,
    "start_time": "2023-04-20T19:56:56.376Z"
   },
   {
    "duration": 12,
    "start_time": "2023-04-20T19:56:56.403Z"
   },
   {
    "duration": 11,
    "start_time": "2023-04-20T19:56:56.416Z"
   },
   {
    "duration": 15,
    "start_time": "2023-04-20T19:56:56.429Z"
   },
   {
    "duration": 11,
    "start_time": "2023-04-20T19:56:56.446Z"
   },
   {
    "duration": 12,
    "start_time": "2023-04-20T19:56:56.494Z"
   },
   {
    "duration": 15,
    "start_time": "2023-04-20T19:56:56.508Z"
   },
   {
    "duration": 12,
    "start_time": "2023-04-20T19:56:56.524Z"
   },
   {
    "duration": 17,
    "start_time": "2023-04-20T19:56:56.539Z"
   },
   {
    "duration": 56,
    "start_time": "2023-04-20T19:56:56.558Z"
   },
   {
    "duration": 21,
    "start_time": "2023-04-20T19:56:56.616Z"
   },
   {
    "duration": 21,
    "start_time": "2023-04-20T19:56:56.639Z"
   },
   {
    "duration": 528,
    "start_time": "2023-04-20T19:57:17.732Z"
   },
   {
    "duration": 451,
    "start_time": "2023-04-20T19:57:35.928Z"
   },
   {
    "duration": 482,
    "start_time": "2023-04-20T19:57:43.466Z"
   },
   {
    "duration": 432,
    "start_time": "2023-04-20T19:57:48.318Z"
   },
   {
    "duration": 1316,
    "start_time": "2023-04-20T19:57:59.647Z"
   },
   {
    "duration": 73,
    "start_time": "2023-04-20T19:58:00.965Z"
   },
   {
    "duration": 45,
    "start_time": "2023-04-20T19:58:01.041Z"
   },
   {
    "duration": 21,
    "start_time": "2023-04-20T19:58:01.094Z"
   },
   {
    "duration": 30,
    "start_time": "2023-04-20T19:58:01.118Z"
   },
   {
    "duration": 43,
    "start_time": "2023-04-20T19:58:01.150Z"
   },
   {
    "duration": 55,
    "start_time": "2023-04-20T19:58:01.194Z"
   },
   {
    "duration": 40,
    "start_time": "2023-04-20T19:58:01.251Z"
   },
   {
    "duration": 29,
    "start_time": "2023-04-20T19:58:01.293Z"
   },
   {
    "duration": 25,
    "start_time": "2023-04-20T19:58:01.324Z"
   },
   {
    "duration": 23,
    "start_time": "2023-04-20T19:58:01.351Z"
   },
   {
    "duration": 19,
    "start_time": "2023-04-20T19:58:01.376Z"
   },
   {
    "duration": 48,
    "start_time": "2023-04-20T19:58:01.397Z"
   },
   {
    "duration": 33,
    "start_time": "2023-04-20T19:58:01.448Z"
   },
   {
    "duration": 36,
    "start_time": "2023-04-20T19:58:01.483Z"
   },
   {
    "duration": 43,
    "start_time": "2023-04-20T19:58:01.522Z"
   },
   {
    "duration": 239,
    "start_time": "2023-04-20T19:58:01.567Z"
   },
   {
    "duration": 46,
    "start_time": "2023-04-20T19:58:01.808Z"
   },
   {
    "duration": 9,
    "start_time": "2023-04-20T19:58:01.856Z"
   },
   {
    "duration": 61,
    "start_time": "2023-04-20T19:58:01.867Z"
   },
   {
    "duration": 44,
    "start_time": "2023-04-20T19:58:01.930Z"
   },
   {
    "duration": 16,
    "start_time": "2023-04-20T19:58:01.976Z"
   },
   {
    "duration": 22,
    "start_time": "2023-04-20T19:58:01.997Z"
   },
   {
    "duration": 70,
    "start_time": "2023-04-20T19:58:02.021Z"
   },
   {
    "duration": 35,
    "start_time": "2023-04-20T19:58:02.093Z"
   },
   {
    "duration": 513,
    "start_time": "2023-04-20T19:58:02.131Z"
   },
   {
    "duration": 10,
    "start_time": "2023-04-20T19:58:02.646Z"
   },
   {
    "duration": 191,
    "start_time": "2023-04-20T19:58:02.657Z"
   },
   {
    "duration": 5,
    "start_time": "2023-04-20T19:58:02.850Z"
   },
   {
    "duration": 203,
    "start_time": "2023-04-20T19:58:02.857Z"
   },
   {
    "duration": 8,
    "start_time": "2023-04-20T19:58:03.062Z"
   },
   {
    "duration": 19,
    "start_time": "2023-04-20T19:58:03.075Z"
   },
   {
    "duration": 187,
    "start_time": "2023-04-20T19:58:03.096Z"
   },
   {
    "duration": 9,
    "start_time": "2023-04-20T19:58:03.285Z"
   },
   {
    "duration": 166,
    "start_time": "2023-04-20T19:58:03.295Z"
   },
   {
    "duration": 15,
    "start_time": "2023-04-20T19:58:03.462Z"
   },
   {
    "duration": 24,
    "start_time": "2023-04-20T19:58:03.478Z"
   },
   {
    "duration": 11,
    "start_time": "2023-04-20T19:58:03.504Z"
   },
   {
    "duration": 24,
    "start_time": "2023-04-20T19:58:03.517Z"
   },
   {
    "duration": 11,
    "start_time": "2023-04-20T19:58:03.543Z"
   },
   {
    "duration": 24,
    "start_time": "2023-04-20T19:58:03.557Z"
   },
   {
    "duration": 24,
    "start_time": "2023-04-20T19:58:03.583Z"
   },
   {
    "duration": 11,
    "start_time": "2023-04-20T19:58:03.609Z"
   },
   {
    "duration": 13,
    "start_time": "2023-04-20T19:58:03.621Z"
   },
   {
    "duration": 22,
    "start_time": "2023-04-20T19:58:03.635Z"
   },
   {
    "duration": 22,
    "start_time": "2023-04-20T19:58:03.658Z"
   },
   {
    "duration": 23,
    "start_time": "2023-04-20T19:58:03.682Z"
   },
   {
    "duration": 573,
    "start_time": "2023-04-20T19:58:41.029Z"
   },
   {
    "duration": 51,
    "start_time": "2023-04-22T08:40:47.022Z"
   },
   {
    "duration": 1528,
    "start_time": "2023-04-22T08:40:53.064Z"
   },
   {
    "duration": 211,
    "start_time": "2023-04-22T08:40:54.594Z"
   },
   {
    "duration": 73,
    "start_time": "2023-04-22T08:40:54.807Z"
   },
   {
    "duration": 39,
    "start_time": "2023-04-22T08:40:54.887Z"
   },
   {
    "duration": 7,
    "start_time": "2023-04-22T08:40:54.928Z"
   },
   {
    "duration": 50,
    "start_time": "2023-04-22T08:40:54.937Z"
   },
   {
    "duration": 10,
    "start_time": "2023-04-22T08:40:54.990Z"
   },
   {
    "duration": 12,
    "start_time": "2023-04-22T08:40:55.001Z"
   },
   {
    "duration": 8,
    "start_time": "2023-04-22T08:40:55.015Z"
   },
   {
    "duration": 22,
    "start_time": "2023-04-22T08:40:55.027Z"
   },
   {
    "duration": 36,
    "start_time": "2023-04-22T08:40:55.052Z"
   },
   {
    "duration": 6,
    "start_time": "2023-04-22T08:40:55.090Z"
   },
   {
    "duration": 8,
    "start_time": "2023-04-22T08:40:55.098Z"
   },
   {
    "duration": 12,
    "start_time": "2023-04-22T08:40:55.108Z"
   },
   {
    "duration": 5,
    "start_time": "2023-04-22T08:40:55.122Z"
   },
   {
    "duration": 57,
    "start_time": "2023-04-22T08:40:55.130Z"
   },
   {
    "duration": 255,
    "start_time": "2023-04-22T08:40:55.189Z"
   },
   {
    "duration": 59,
    "start_time": "2023-04-22T08:40:55.446Z"
   },
   {
    "duration": 119,
    "start_time": "2023-04-22T08:40:55.507Z"
   },
   {
    "duration": 0,
    "start_time": "2023-04-22T08:40:55.629Z"
   },
   {
    "duration": 0,
    "start_time": "2023-04-22T08:40:55.630Z"
   },
   {
    "duration": 0,
    "start_time": "2023-04-22T08:40:55.631Z"
   },
   {
    "duration": 0,
    "start_time": "2023-04-22T08:40:55.632Z"
   },
   {
    "duration": 0,
    "start_time": "2023-04-22T08:40:55.634Z"
   },
   {
    "duration": 0,
    "start_time": "2023-04-22T08:40:55.635Z"
   },
   {
    "duration": 0,
    "start_time": "2023-04-22T08:40:55.636Z"
   },
   {
    "duration": 0,
    "start_time": "2023-04-22T08:40:55.639Z"
   },
   {
    "duration": 0,
    "start_time": "2023-04-22T08:40:55.640Z"
   },
   {
    "duration": 0,
    "start_time": "2023-04-22T08:40:55.642Z"
   },
   {
    "duration": 0,
    "start_time": "2023-04-22T08:40:55.643Z"
   },
   {
    "duration": 0,
    "start_time": "2023-04-22T08:40:55.644Z"
   },
   {
    "duration": 1,
    "start_time": "2023-04-22T08:40:55.646Z"
   },
   {
    "duration": 0,
    "start_time": "2023-04-22T08:40:55.684Z"
   },
   {
    "duration": 0,
    "start_time": "2023-04-22T08:40:55.687Z"
   },
   {
    "duration": 0,
    "start_time": "2023-04-22T08:40:55.690Z"
   },
   {
    "duration": 0,
    "start_time": "2023-04-22T08:40:55.692Z"
   },
   {
    "duration": 0,
    "start_time": "2023-04-22T08:40:55.694Z"
   },
   {
    "duration": 0,
    "start_time": "2023-04-22T08:40:55.696Z"
   },
   {
    "duration": 0,
    "start_time": "2023-04-22T08:40:55.697Z"
   },
   {
    "duration": 0,
    "start_time": "2023-04-22T08:40:55.699Z"
   },
   {
    "duration": 0,
    "start_time": "2023-04-22T08:40:55.701Z"
   },
   {
    "duration": 0,
    "start_time": "2023-04-22T08:40:55.703Z"
   },
   {
    "duration": 0,
    "start_time": "2023-04-22T08:40:55.705Z"
   },
   {
    "duration": 0,
    "start_time": "2023-04-22T08:40:55.708Z"
   },
   {
    "duration": 0,
    "start_time": "2023-04-22T08:40:55.709Z"
   },
   {
    "duration": 0,
    "start_time": "2023-04-22T08:40:55.712Z"
   },
   {
    "duration": 0,
    "start_time": "2023-04-22T08:40:55.715Z"
   },
   {
    "duration": 0,
    "start_time": "2023-04-22T08:40:55.717Z"
   },
   {
    "duration": 17,
    "start_time": "2023-04-22T08:41:08.848Z"
   },
   {
    "duration": 22,
    "start_time": "2023-04-22T08:41:33.980Z"
   },
   {
    "duration": 12,
    "start_time": "2023-04-22T08:42:16.726Z"
   },
   {
    "duration": 27,
    "start_time": "2023-04-22T08:42:24.840Z"
   },
   {
    "duration": 155,
    "start_time": "2023-04-22T08:43:51.457Z"
   },
   {
    "duration": 378,
    "start_time": "2023-04-22T08:44:07.839Z"
   },
   {
    "duration": 497,
    "start_time": "2023-04-22T08:44:23.555Z"
   },
   {
    "duration": 412,
    "start_time": "2023-04-22T08:44:30.313Z"
   },
   {
    "duration": 16,
    "start_time": "2023-04-22T08:46:14.796Z"
   },
   {
    "duration": 10,
    "start_time": "2023-04-22T08:46:18.659Z"
   },
   {
    "duration": 293,
    "start_time": "2023-04-22T08:46:27.818Z"
   },
   {
    "duration": 14,
    "start_time": "2023-04-22T08:51:33.346Z"
   },
   {
    "duration": 21,
    "start_time": "2023-04-22T08:51:41.929Z"
   },
   {
    "duration": 354,
    "start_time": "2023-04-22T08:52:23.516Z"
   },
   {
    "duration": 369,
    "start_time": "2023-04-22T08:52:28.901Z"
   },
   {
    "duration": 273,
    "start_time": "2023-04-22T08:52:42.204Z"
   },
   {
    "duration": 7,
    "start_time": "2023-04-22T08:55:24.300Z"
   },
   {
    "duration": 1404,
    "start_time": "2023-04-22T09:00:19.394Z"
   },
   {
    "duration": 69,
    "start_time": "2023-04-22T09:00:20.801Z"
   },
   {
    "duration": 66,
    "start_time": "2023-04-22T09:00:20.872Z"
   },
   {
    "duration": 32,
    "start_time": "2023-04-22T09:00:20.940Z"
   },
   {
    "duration": 3,
    "start_time": "2023-04-22T09:00:20.986Z"
   },
   {
    "duration": 22,
    "start_time": "2023-04-22T09:00:20.991Z"
   },
   {
    "duration": 8,
    "start_time": "2023-04-22T09:00:21.014Z"
   },
   {
    "duration": 7,
    "start_time": "2023-04-22T09:00:21.024Z"
   },
   {
    "duration": 6,
    "start_time": "2023-04-22T09:00:21.033Z"
   },
   {
    "duration": 56,
    "start_time": "2023-04-22T09:00:21.041Z"
   },
   {
    "duration": 6,
    "start_time": "2023-04-22T09:00:21.100Z"
   },
   {
    "duration": 7,
    "start_time": "2023-04-22T09:00:21.109Z"
   },
   {
    "duration": 22,
    "start_time": "2023-04-22T09:00:21.119Z"
   },
   {
    "duration": 19,
    "start_time": "2023-04-22T09:00:21.147Z"
   },
   {
    "duration": 7,
    "start_time": "2023-04-22T09:00:21.168Z"
   },
   {
    "duration": 14,
    "start_time": "2023-04-22T09:00:21.184Z"
   },
   {
    "duration": 226,
    "start_time": "2023-04-22T09:00:21.201Z"
   },
   {
    "duration": 84,
    "start_time": "2023-04-22T09:00:21.428Z"
   },
   {
    "duration": 247,
    "start_time": "2023-04-22T09:00:21.514Z"
   },
   {
    "duration": 247,
    "start_time": "2023-04-22T09:00:21.764Z"
   },
   {
    "duration": 9,
    "start_time": "2023-04-22T09:00:22.013Z"
   },
   {
    "duration": 10,
    "start_time": "2023-04-22T09:00:22.024Z"
   },
   {
    "duration": 11,
    "start_time": "2023-04-22T09:00:22.037Z"
   },
   {
    "duration": 3,
    "start_time": "2023-04-22T09:00:22.052Z"
   },
   {
    "duration": 9,
    "start_time": "2023-04-22T09:00:22.085Z"
   },
   {
    "duration": 34,
    "start_time": "2023-04-22T09:00:22.096Z"
   },
   {
    "duration": 53,
    "start_time": "2023-04-22T09:00:22.133Z"
   },
   {
    "duration": 516,
    "start_time": "2023-04-22T09:00:22.188Z"
   },
   {
    "duration": 13,
    "start_time": "2023-04-22T09:00:22.706Z"
   },
   {
    "duration": 229,
    "start_time": "2023-04-22T09:00:22.721Z"
   },
   {
    "duration": 8,
    "start_time": "2023-04-22T09:00:22.952Z"
   },
   {
    "duration": 180,
    "start_time": "2023-04-22T09:00:22.962Z"
   },
   {
    "duration": 7,
    "start_time": "2023-04-22T09:00:23.143Z"
   },
   {
    "duration": 7,
    "start_time": "2023-04-22T09:00:23.152Z"
   },
   {
    "duration": 211,
    "start_time": "2023-04-22T09:00:23.160Z"
   },
   {
    "duration": 16,
    "start_time": "2023-04-22T09:00:23.374Z"
   },
   {
    "duration": 258,
    "start_time": "2023-04-22T09:00:23.393Z"
   },
   {
    "duration": 13,
    "start_time": "2023-04-22T09:00:23.653Z"
   },
   {
    "duration": 12,
    "start_time": "2023-04-22T09:00:23.684Z"
   },
   {
    "duration": 24,
    "start_time": "2023-04-22T09:00:23.697Z"
   },
   {
    "duration": 20,
    "start_time": "2023-04-22T09:00:23.729Z"
   },
   {
    "duration": 41,
    "start_time": "2023-04-22T09:00:23.751Z"
   },
   {
    "duration": 15,
    "start_time": "2023-04-22T09:00:23.794Z"
   },
   {
    "duration": 22,
    "start_time": "2023-04-22T09:00:23.812Z"
   },
   {
    "duration": 16,
    "start_time": "2023-04-22T09:00:23.836Z"
   },
   {
    "duration": 42,
    "start_time": "2023-04-22T09:00:23.854Z"
   },
   {
    "duration": 18,
    "start_time": "2023-04-22T09:00:23.898Z"
   },
   {
    "duration": 19,
    "start_time": "2023-04-22T09:00:23.918Z"
   },
   {
    "duration": 34,
    "start_time": "2023-04-22T09:00:23.939Z"
   },
   {
    "duration": 193,
    "start_time": "2023-04-22T09:04:34.345Z"
   },
   {
    "duration": 210,
    "start_time": "2023-04-22T09:04:51.161Z"
   },
   {
    "duration": 255,
    "start_time": "2023-04-22T09:05:06.952Z"
   },
   {
    "duration": 234,
    "start_time": "2023-04-22T09:05:22.603Z"
   },
   {
    "duration": 87,
    "start_time": "2023-04-22T09:06:57.548Z"
   },
   {
    "duration": 131,
    "start_time": "2023-04-22T09:08:11.506Z"
   },
   {
    "duration": 254,
    "start_time": "2023-04-22T09:08:37.061Z"
   },
   {
    "duration": 87,
    "start_time": "2023-04-22T09:08:48.482Z"
   },
   {
    "duration": 78,
    "start_time": "2023-04-22T09:08:53.517Z"
   },
   {
    "duration": 255,
    "start_time": "2023-04-22T09:09:07.049Z"
   },
   {
    "duration": 320,
    "start_time": "2023-04-22T09:10:27.478Z"
   },
   {
    "duration": 425,
    "start_time": "2023-04-22T09:10:47.531Z"
   },
   {
    "duration": 305,
    "start_time": "2023-04-22T09:12:31.250Z"
   },
   {
    "duration": 317,
    "start_time": "2023-04-22T09:12:43.435Z"
   },
   {
    "duration": 533,
    "start_time": "2023-04-22T09:13:58.741Z"
   },
   {
    "duration": 463,
    "start_time": "2023-04-22T09:14:23.202Z"
   },
   {
    "duration": 1175,
    "start_time": "2023-04-22T09:14:32.285Z"
   },
   {
    "duration": 80,
    "start_time": "2023-04-22T09:14:33.462Z"
   },
   {
    "duration": 47,
    "start_time": "2023-04-22T09:14:33.544Z"
   },
   {
    "duration": 27,
    "start_time": "2023-04-22T09:14:33.593Z"
   },
   {
    "duration": 3,
    "start_time": "2023-04-22T09:14:33.622Z"
   },
   {
    "duration": 18,
    "start_time": "2023-04-22T09:14:33.627Z"
   },
   {
    "duration": 10,
    "start_time": "2023-04-22T09:14:33.647Z"
   },
   {
    "duration": 6,
    "start_time": "2023-04-22T09:14:33.658Z"
   },
   {
    "duration": 6,
    "start_time": "2023-04-22T09:14:33.687Z"
   },
   {
    "duration": 18,
    "start_time": "2023-04-22T09:14:33.696Z"
   },
   {
    "duration": 4,
    "start_time": "2023-04-22T09:14:33.715Z"
   },
   {
    "duration": 8,
    "start_time": "2023-04-22T09:14:33.721Z"
   },
   {
    "duration": 7,
    "start_time": "2023-04-22T09:14:33.730Z"
   },
   {
    "duration": 9,
    "start_time": "2023-04-22T09:14:33.740Z"
   },
   {
    "duration": 4,
    "start_time": "2023-04-22T09:14:33.750Z"
   },
   {
    "duration": 39,
    "start_time": "2023-04-22T09:14:33.756Z"
   },
   {
    "duration": 208,
    "start_time": "2023-04-22T09:14:33.801Z"
   },
   {
    "duration": 48,
    "start_time": "2023-04-22T09:14:34.011Z"
   },
   {
    "duration": 271,
    "start_time": "2023-04-22T09:14:34.061Z"
   },
   {
    "duration": 238,
    "start_time": "2023-04-22T09:14:34.333Z"
   },
   {
    "duration": 12,
    "start_time": "2023-04-22T09:14:34.573Z"
   },
   {
    "duration": 9,
    "start_time": "2023-04-22T09:14:34.588Z"
   },
   {
    "duration": 10,
    "start_time": "2023-04-22T09:14:34.602Z"
   },
   {
    "duration": 14,
    "start_time": "2023-04-22T09:14:34.613Z"
   },
   {
    "duration": 11,
    "start_time": "2023-04-22T09:14:34.628Z"
   },
   {
    "duration": 23,
    "start_time": "2023-04-22T09:14:34.641Z"
   },
   {
    "duration": 266,
    "start_time": "2023-04-22T09:14:34.666Z"
   },
   {
    "duration": 488,
    "start_time": "2023-04-22T09:14:34.933Z"
   },
   {
    "duration": 8,
    "start_time": "2023-04-22T09:14:35.423Z"
   },
   {
    "duration": 176,
    "start_time": "2023-04-22T09:14:35.433Z"
   },
   {
    "duration": 5,
    "start_time": "2023-04-22T09:14:35.610Z"
   },
   {
    "duration": 185,
    "start_time": "2023-04-22T09:14:35.616Z"
   },
   {
    "duration": 6,
    "start_time": "2023-04-22T09:14:35.803Z"
   },
   {
    "duration": 6,
    "start_time": "2023-04-22T09:14:35.811Z"
   },
   {
    "duration": 228,
    "start_time": "2023-04-22T09:14:35.819Z"
   },
   {
    "duration": 5,
    "start_time": "2023-04-22T09:14:36.049Z"
   },
   {
    "duration": 162,
    "start_time": "2023-04-22T09:14:36.056Z"
   },
   {
    "duration": 13,
    "start_time": "2023-04-22T09:14:36.220Z"
   },
   {
    "duration": 10,
    "start_time": "2023-04-22T09:14:36.234Z"
   },
   {
    "duration": 10,
    "start_time": "2023-04-22T09:14:36.246Z"
   },
   {
    "duration": 40,
    "start_time": "2023-04-22T09:14:36.259Z"
   },
   {
    "duration": 13,
    "start_time": "2023-04-22T09:14:36.300Z"
   },
   {
    "duration": 11,
    "start_time": "2023-04-22T09:14:36.315Z"
   },
   {
    "duration": 13,
    "start_time": "2023-04-22T09:14:36.327Z"
   },
   {
    "duration": 11,
    "start_time": "2023-04-22T09:14:36.341Z"
   },
   {
    "duration": 43,
    "start_time": "2023-04-22T09:14:36.354Z"
   },
   {
    "duration": 16,
    "start_time": "2023-04-22T09:14:36.398Z"
   },
   {
    "duration": 16,
    "start_time": "2023-04-22T09:14:36.416Z"
   },
   {
    "duration": 14,
    "start_time": "2023-04-22T09:14:36.433Z"
   },
   {
    "duration": 464,
    "start_time": "2023-04-22T09:16:06.211Z"
   },
   {
    "duration": 456,
    "start_time": "2023-04-22T09:16:12.484Z"
   },
   {
    "duration": 78,
    "start_time": "2023-04-22T09:29:46.573Z"
   },
   {
    "duration": 9,
    "start_time": "2023-04-22T09:29:56.677Z"
   },
   {
    "duration": 188,
    "start_time": "2023-04-22T09:29:56.910Z"
   },
   {
    "duration": 80,
    "start_time": "2023-04-22T09:30:26.661Z"
   },
   {
    "duration": 15,
    "start_time": "2023-04-22T09:31:29.229Z"
   },
   {
    "duration": 1190,
    "start_time": "2023-04-22T09:34:36.858Z"
   },
   {
    "duration": 85,
    "start_time": "2023-04-22T09:34:38.050Z"
   },
   {
    "duration": 66,
    "start_time": "2023-04-22T09:34:38.137Z"
   },
   {
    "duration": 31,
    "start_time": "2023-04-22T09:34:38.204Z"
   },
   {
    "duration": 4,
    "start_time": "2023-04-22T09:34:38.237Z"
   },
   {
    "duration": 28,
    "start_time": "2023-04-22T09:34:38.243Z"
   },
   {
    "duration": 26,
    "start_time": "2023-04-22T09:34:38.273Z"
   },
   {
    "duration": 16,
    "start_time": "2023-04-22T09:34:38.302Z"
   },
   {
    "duration": 7,
    "start_time": "2023-04-22T09:34:38.319Z"
   },
   {
    "duration": 15,
    "start_time": "2023-04-22T09:34:38.328Z"
   },
   {
    "duration": 3,
    "start_time": "2023-04-22T09:34:38.345Z"
   },
   {
    "duration": 6,
    "start_time": "2023-04-22T09:34:38.350Z"
   },
   {
    "duration": 8,
    "start_time": "2023-04-22T09:34:38.357Z"
   },
   {
    "duration": 19,
    "start_time": "2023-04-22T09:34:38.368Z"
   },
   {
    "duration": 7,
    "start_time": "2023-04-22T09:34:38.390Z"
   },
   {
    "duration": 11,
    "start_time": "2023-04-22T09:34:38.400Z"
   },
   {
    "duration": 243,
    "start_time": "2023-04-22T09:34:38.413Z"
   },
   {
    "duration": 73,
    "start_time": "2023-04-22T09:34:38.658Z"
   },
   {
    "duration": 237,
    "start_time": "2023-04-22T09:34:38.733Z"
   },
   {
    "duration": 273,
    "start_time": "2023-04-22T09:34:38.972Z"
   },
   {
    "duration": 5,
    "start_time": "2023-04-22T09:34:39.246Z"
   },
   {
    "duration": 9,
    "start_time": "2023-04-22T09:34:39.253Z"
   },
   {
    "duration": 21,
    "start_time": "2023-04-22T09:34:39.264Z"
   },
   {
    "duration": 12,
    "start_time": "2023-04-22T09:34:39.288Z"
   },
   {
    "duration": 7,
    "start_time": "2023-04-22T09:34:39.302Z"
   },
   {
    "duration": 24,
    "start_time": "2023-04-22T09:34:39.310Z"
   },
   {
    "duration": 283,
    "start_time": "2023-04-22T09:34:39.336Z"
   },
   {
    "duration": 478,
    "start_time": "2023-04-22T09:34:39.622Z"
   },
   {
    "duration": 463,
    "start_time": "2023-04-22T09:34:40.102Z"
   },
   {
    "duration": 8,
    "start_time": "2023-04-22T09:34:40.567Z"
   },
   {
    "duration": 293,
    "start_time": "2023-04-22T09:34:40.585Z"
   },
   {
    "duration": 9,
    "start_time": "2023-04-22T09:34:40.880Z"
   },
   {
    "duration": 188,
    "start_time": "2023-04-22T09:34:40.891Z"
   },
   {
    "duration": 7,
    "start_time": "2023-04-22T09:34:41.080Z"
   },
   {
    "duration": 7,
    "start_time": "2023-04-22T09:34:41.090Z"
   },
   {
    "duration": 158,
    "start_time": "2023-04-22T09:34:41.099Z"
   },
   {
    "duration": 5,
    "start_time": "2023-04-22T09:34:41.259Z"
   },
   {
    "duration": 184,
    "start_time": "2023-04-22T09:34:41.265Z"
   },
   {
    "duration": 14,
    "start_time": "2023-04-22T09:34:41.450Z"
   },
   {
    "duration": 35,
    "start_time": "2023-04-22T09:34:41.465Z"
   },
   {
    "duration": 18,
    "start_time": "2023-04-22T09:34:41.505Z"
   },
   {
    "duration": 15,
    "start_time": "2023-04-22T09:34:41.526Z"
   },
   {
    "duration": 9,
    "start_time": "2023-04-22T09:34:41.543Z"
   },
   {
    "duration": 19,
    "start_time": "2023-04-22T09:34:41.553Z"
   },
   {
    "duration": 23,
    "start_time": "2023-04-22T09:34:41.574Z"
   },
   {
    "duration": 14,
    "start_time": "2023-04-22T09:34:41.599Z"
   },
   {
    "duration": 14,
    "start_time": "2023-04-22T09:34:41.615Z"
   },
   {
    "duration": 12,
    "start_time": "2023-04-22T09:34:41.630Z"
   },
   {
    "duration": 46,
    "start_time": "2023-04-22T09:34:41.645Z"
   },
   {
    "duration": 16,
    "start_time": "2023-04-22T09:34:41.693Z"
   },
   {
    "duration": 1245,
    "start_time": "2023-04-22T09:49:08.157Z"
   },
   {
    "duration": 69,
    "start_time": "2023-04-22T09:49:09.404Z"
   },
   {
    "duration": 45,
    "start_time": "2023-04-22T09:49:09.475Z"
   },
   {
    "duration": 22,
    "start_time": "2023-04-22T09:49:09.522Z"
   },
   {
    "duration": 4,
    "start_time": "2023-04-22T09:49:09.546Z"
   },
   {
    "duration": 17,
    "start_time": "2023-04-22T09:49:09.551Z"
   },
   {
    "duration": 23,
    "start_time": "2023-04-22T09:49:09.570Z"
   },
   {
    "duration": 11,
    "start_time": "2023-04-22T09:49:09.595Z"
   },
   {
    "duration": 24,
    "start_time": "2023-04-22T09:49:09.608Z"
   },
   {
    "duration": 25,
    "start_time": "2023-04-22T09:49:09.634Z"
   },
   {
    "duration": 4,
    "start_time": "2023-04-22T09:49:09.661Z"
   },
   {
    "duration": 11,
    "start_time": "2023-04-22T09:49:09.667Z"
   },
   {
    "duration": 8,
    "start_time": "2023-04-22T09:49:09.680Z"
   },
   {
    "duration": 31,
    "start_time": "2023-04-22T09:49:09.692Z"
   },
   {
    "duration": 6,
    "start_time": "2023-04-22T09:49:09.725Z"
   },
   {
    "duration": 15,
    "start_time": "2023-04-22T09:49:09.733Z"
   },
   {
    "duration": 193,
    "start_time": "2023-04-22T09:49:09.750Z"
   },
   {
    "duration": 43,
    "start_time": "2023-04-22T09:49:09.945Z"
   },
   {
    "duration": 215,
    "start_time": "2023-04-22T09:49:09.990Z"
   },
   {
    "duration": 236,
    "start_time": "2023-04-22T09:49:10.207Z"
   },
   {
    "duration": 6,
    "start_time": "2023-04-22T09:49:10.445Z"
   },
   {
    "duration": 20,
    "start_time": "2023-04-22T09:49:10.453Z"
   },
   {
    "duration": 11,
    "start_time": "2023-04-22T09:49:10.476Z"
   },
   {
    "duration": 3,
    "start_time": "2023-04-22T09:49:10.489Z"
   },
   {
    "duration": 7,
    "start_time": "2023-04-22T09:49:10.494Z"
   },
   {
    "duration": 37,
    "start_time": "2023-04-22T09:49:10.503Z"
   },
   {
    "duration": 280,
    "start_time": "2023-04-22T09:49:10.541Z"
   },
   {
    "duration": 494,
    "start_time": "2023-04-22T09:49:10.824Z"
   },
   {
    "duration": 516,
    "start_time": "2023-04-22T09:49:11.320Z"
   },
   {
    "duration": 8,
    "start_time": "2023-04-22T09:49:11.838Z"
   },
   {
    "duration": 261,
    "start_time": "2023-04-22T09:49:11.848Z"
   },
   {
    "duration": 6,
    "start_time": "2023-04-22T09:49:12.111Z"
   },
   {
    "duration": 178,
    "start_time": "2023-04-22T09:49:12.119Z"
   },
   {
    "duration": 6,
    "start_time": "2023-04-22T09:49:12.300Z"
   },
   {
    "duration": 9,
    "start_time": "2023-04-22T09:49:12.309Z"
   },
   {
    "duration": 177,
    "start_time": "2023-04-22T09:49:12.321Z"
   },
   {
    "duration": 10,
    "start_time": "2023-04-22T09:49:12.500Z"
   },
   {
    "duration": 170,
    "start_time": "2023-04-22T09:49:12.512Z"
   },
   {
    "duration": 20,
    "start_time": "2023-04-22T09:49:12.685Z"
   },
   {
    "duration": 15,
    "start_time": "2023-04-22T09:49:12.709Z"
   },
   {
    "duration": 11,
    "start_time": "2023-04-22T09:49:12.729Z"
   },
   {
    "duration": 12,
    "start_time": "2023-04-22T09:49:12.741Z"
   },
   {
    "duration": 50,
    "start_time": "2023-04-22T09:49:12.754Z"
   },
   {
    "duration": 14,
    "start_time": "2023-04-22T09:49:12.808Z"
   },
   {
    "duration": 18,
    "start_time": "2023-04-22T09:49:12.824Z"
   },
   {
    "duration": 10,
    "start_time": "2023-04-22T09:49:12.844Z"
   },
   {
    "duration": 11,
    "start_time": "2023-04-22T09:49:12.855Z"
   },
   {
    "duration": 19,
    "start_time": "2023-04-22T09:49:12.889Z"
   },
   {
    "duration": 15,
    "start_time": "2023-04-22T09:49:12.909Z"
   },
   {
    "duration": 21,
    "start_time": "2023-04-22T09:49:12.926Z"
   },
   {
    "duration": 1258,
    "start_time": "2023-04-22T09:53:33.847Z"
   },
   {
    "duration": 68,
    "start_time": "2023-04-22T09:53:35.107Z"
   },
   {
    "duration": 47,
    "start_time": "2023-04-22T09:53:35.177Z"
   },
   {
    "duration": 23,
    "start_time": "2023-04-22T09:53:35.225Z"
   },
   {
    "duration": 13,
    "start_time": "2023-04-22T09:53:35.250Z"
   },
   {
    "duration": 54,
    "start_time": "2023-04-22T09:53:35.264Z"
   },
   {
    "duration": 49,
    "start_time": "2023-04-22T09:53:35.319Z"
   },
   {
    "duration": 32,
    "start_time": "2023-04-22T09:53:35.370Z"
   },
   {
    "duration": 33,
    "start_time": "2023-04-22T09:53:35.403Z"
   },
   {
    "duration": 38,
    "start_time": "2023-04-22T09:53:35.438Z"
   },
   {
    "duration": 51,
    "start_time": "2023-04-22T09:53:35.478Z"
   },
   {
    "duration": 29,
    "start_time": "2023-04-22T09:53:35.531Z"
   },
   {
    "duration": 40,
    "start_time": "2023-04-22T09:53:35.562Z"
   },
   {
    "duration": 27,
    "start_time": "2023-04-22T09:53:35.607Z"
   },
   {
    "duration": 31,
    "start_time": "2023-04-22T09:53:35.636Z"
   },
   {
    "duration": 47,
    "start_time": "2023-04-22T09:53:35.669Z"
   },
   {
    "duration": 253,
    "start_time": "2023-04-22T09:53:35.718Z"
   },
   {
    "duration": 45,
    "start_time": "2023-04-22T09:53:35.973Z"
   },
   {
    "duration": 214,
    "start_time": "2023-04-22T09:53:36.019Z"
   },
   {
    "duration": 235,
    "start_time": "2023-04-22T09:53:36.235Z"
   },
   {
    "duration": 6,
    "start_time": "2023-04-22T09:53:36.472Z"
   },
   {
    "duration": 24,
    "start_time": "2023-04-22T09:53:36.486Z"
   },
   {
    "duration": 42,
    "start_time": "2023-04-22T09:53:36.512Z"
   },
   {
    "duration": 41,
    "start_time": "2023-04-22T09:53:36.556Z"
   },
   {
    "duration": 33,
    "start_time": "2023-04-22T09:53:36.599Z"
   },
   {
    "duration": 57,
    "start_time": "2023-04-22T09:53:36.634Z"
   },
   {
    "duration": 268,
    "start_time": "2023-04-22T09:53:36.693Z"
   },
   {
    "duration": 479,
    "start_time": "2023-04-22T09:53:36.963Z"
   },
   {
    "duration": 512,
    "start_time": "2023-04-22T09:53:37.444Z"
   },
   {
    "duration": 9,
    "start_time": "2023-04-22T09:53:37.958Z"
   },
   {
    "duration": 265,
    "start_time": "2023-04-22T09:53:37.969Z"
   },
   {
    "duration": 7,
    "start_time": "2023-04-22T09:53:38.236Z"
   },
   {
    "duration": 212,
    "start_time": "2023-04-22T09:53:38.245Z"
   },
   {
    "duration": 7,
    "start_time": "2023-04-22T09:53:38.458Z"
   },
   {
    "duration": 19,
    "start_time": "2023-04-22T09:53:38.466Z"
   },
   {
    "duration": 165,
    "start_time": "2023-04-22T09:53:38.487Z"
   },
   {
    "duration": 5,
    "start_time": "2023-04-22T09:53:38.654Z"
   },
   {
    "duration": 163,
    "start_time": "2023-04-22T09:53:38.660Z"
   },
   {
    "duration": 16,
    "start_time": "2023-04-22T09:53:38.824Z"
   },
   {
    "duration": 23,
    "start_time": "2023-04-22T09:53:38.841Z"
   },
   {
    "duration": 20,
    "start_time": "2023-04-22T09:53:38.868Z"
   },
   {
    "duration": 24,
    "start_time": "2023-04-22T09:53:38.890Z"
   },
   {
    "duration": 11,
    "start_time": "2023-04-22T09:53:38.916Z"
   },
   {
    "duration": 14,
    "start_time": "2023-04-22T09:53:38.929Z"
   },
   {
    "duration": 45,
    "start_time": "2023-04-22T09:53:38.945Z"
   },
   {
    "duration": 15,
    "start_time": "2023-04-22T09:53:38.992Z"
   },
   {
    "duration": 18,
    "start_time": "2023-04-22T09:53:39.009Z"
   },
   {
    "duration": 14,
    "start_time": "2023-04-22T09:53:39.029Z"
   },
   {
    "duration": 12,
    "start_time": "2023-04-22T09:53:39.045Z"
   },
   {
    "duration": 41,
    "start_time": "2023-04-22T09:53:39.058Z"
   },
   {
    "duration": 103,
    "start_time": "2023-04-22T13:21:44.196Z"
   }
  ],
  "kernelspec": {
   "display_name": "Python 3 (ipykernel)",
   "language": "python",
   "name": "python3"
  },
  "language_info": {
   "codemirror_mode": {
    "name": "ipython",
    "version": 3
   },
   "file_extension": ".py",
   "mimetype": "text/x-python",
   "name": "python",
   "nbconvert_exporter": "python",
   "pygments_lexer": "ipython3",
   "version": "3.10.9"
  },
  "toc": {
   "base_numbering": 1,
   "nav_menu": {},
   "number_sections": true,
   "sideBar": true,
   "skip_h1_title": true,
   "title_cell": "Table of Contents",
   "title_sidebar": "Contents",
   "toc_cell": false,
   "toc_position": {
    "height": "calc(100% - 180px)",
    "left": "10px",
    "top": "150px",
    "width": "310px"
   },
   "toc_section_display": true,
   "toc_window_display": true
  }
 },
 "nbformat": 4,
 "nbformat_minor": 2
}
